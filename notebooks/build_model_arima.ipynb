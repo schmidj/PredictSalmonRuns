{
 "cells": [
  {
   "cell_type": "markdown",
   "id": "0a9b6f7a",
   "metadata": {},
   "source": [
    "Connected to Python 3.10.11"
   ]
  },
  {
   "cell_type": "markdown",
   "id": "0926a65f",
   "metadata": {},
   "source": [
    "### Load libraries"
   ]
  },
  {
   "cell_type": "code",
   "execution_count": 1,
   "id": "36fe6232-b91c-4d86-9c5b-bf8d09173549",
   "metadata": {},
   "outputs": [],
   "source": [
    "import os\n",
    "import sys\n",
    "import pandas as pd\n",
    "\n",
    "# Directly import helper function\n",
    "notebook_dir = os.getcwd()\n",
    "src_path = os.path.abspath(os.path.join(notebook_dir, '..', 'src'))\n",
    "if src_path not in sys.path:\n",
    "    sys.path.append(src_path)\n",
    "\n",
    "from utils import add_src_to_path\n",
    "add_src_to_path()\n",
    "\n",
    "from data_split import split_time_series_by_river\n",
    "from arima_model import apply_arima_forecast_last_year"
   ]
  },
  {
   "cell_type": "markdown",
   "id": "74cff077",
   "metadata": {},
   "source": [
    "### Load dataset"
   ]
  },
  {
   "cell_type": "code",
   "execution_count": 2,
   "id": "e5058b8d",
   "metadata": {},
   "outputs": [],
   "source": [
    "project_root = os.path.abspath(os.path.join(os.getcwd(), '..'))  # assumes notebook is in /notebooks\n",
    "data_path = os.path.join(project_root, 'data', 'Combined_FeatureSet_For_Model.csv')\n",
    "\n",
    "df = pd.read_csv(data_path)"
   ]
  },
  {
   "cell_type": "markdown",
   "id": "0c37f699",
   "metadata": {},
   "source": [
    "### Run ARIMA model for each river separately"
   ]
  },
  {
   "cell_type": "code",
   "execution_count": 3,
   "id": "fffd5f54",
   "metadata": {},
   "outputs": [
    {
     "name": "stdout",
     "output_type": "stream",
     "text": [
      "Bristol Bay - Alagnak (2023): Predicted=4880039, Actual=2539456, MSE=5478326817042.17\n",
      "Bristol Bay - Egegik (2023): Predicted=13495538, Actual=14814304, MSE=1739142837260.16\n",
      "Bristol Bay - Igushik (2023): Predicted=2853221, Actual=1379859, MSE=2170794932359.57\n",
      "Bristol Bay - Kvichak (2023): Predicted=12489102, Actual=8759376, MSE=13910858733287.98\n",
      "Bristol Bay - Naknek (2023): Predicted=6606314, Actual=6895356, MSE=83545169841.19\n",
      "Bristol Bay - Nushagak (2023): Predicted=16301120, Actual=5448620, MSE=117776756299028.02\n",
      "Bristol Bay - Ugashik (2023): Predicted=8216225, Actual=4378219, MSE=14730295662307.77\n",
      "Bristol Bay - Wood (2023): Predicted=12459592, Actual=10418936, MSE=4164275603351.32\n",
      "Columbia River - Bonneville Lock & Dam (2023): Predicted=291228, Actual=327600, MSE=1322902829.52\n",
      "Fraser River - Chilko (2023): Predicted=1477908, Actual=576000, MSE=813438258910.25\n",
      "Fraser River - Late Stuart (2023): Predicted=329867, Actual=69000, MSE=68051608018.77\n",
      "Fraser River - Quesnel (2023): Predicted=989029, Actual=122000, MSE=751739215582.16\n",
      "Fraser River - Raft (2023): Predicted=6524, Actual=12632, MSE=37307683.60\n",
      "Fraser River - Stellako (2023): Predicted=185255, Actual=84000, MSE=10252497580.46\n"
     ]
    }
   ],
   "source": [
    "results = apply_arima_forecast_last_year(df)"
   ]
  }
 ],
 "metadata": {
  "kernelspec": {
   "display_name": "Python 3",
   "language": "python",
   "name": "python3"
  },
  "language_info": {
   "codemirror_mode": {
    "name": "ipython",
    "version": 3
   },
   "file_extension": ".py",
   "mimetype": "text/x-python",
   "name": "python",
   "nbconvert_exporter": "python",
   "pygments_lexer": "ipython3",
   "version": "3.10.11"
  }
 },
 "nbformat": 4,
 "nbformat_minor": 5
}
