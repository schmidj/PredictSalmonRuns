{
 "cells": [
  {
   "cell_type": "code",
   "execution_count": 1,
   "id": "8453d084",
   "metadata": {},
   "outputs": [],
   "source": [
    "import pandas as pd\n",
    "import os"
   ]
  },
  {
   "cell_type": "code",
   "execution_count": 2,
   "id": "e666a21c",
   "metadata": {},
   "outputs": [],
   "source": [
    "data_set_bristol = pd.read_csv(r'C:\\Users\\MuriloFarias\\Desktop\\NNS-JULIA\\PredictSalmonRuns\\data\\BristolBay_FeatureSet_For_Model.csv')"
   ]
  },
  {
   "cell_type": "code",
   "execution_count": 3,
   "id": "c660de02",
   "metadata": {},
   "outputs": [
    {
     "name": "stdout",
     "output_type": "stream",
     "text": [
      "Columns with missing values:\n",
      "mei_mean_AprSep                  128\n",
      "sst_aprjul                       168\n",
      "sst_anom                         168\n",
      "total_spawners_y_minus_2_to_4     89\n",
      "mean_temp_JunAug                 481\n",
      "mean_temp_MaySep                 481\n",
      "max_temp_JunAug                  481\n",
      "mean_discharge_MarMay            482\n",
      "max_discharge_AprSep             481\n",
      "dtype: int64\n"
     ]
    }
   ],
   "source": [
    "missing_values = data_set_bristol.isnull().sum()\n",
    "missing_values = missing_values[missing_values > 0]\n",
    "\n",
    "print(\"Columns with missing values:\")\n",
    "print(missing_values)\n"
   ]
  },
  {
   "cell_type": "code",
   "execution_count": 4,
   "id": "fd93d9ad",
   "metadata": {},
   "outputs": [
    {
     "name": "stdout",
     "output_type": "stream",
     "text": [
      "Dropped columns due to missing values:\n",
      "- mei_mean_AprSep\n",
      "- sst_aprjul\n",
      "- sst_anom\n",
      "- total_spawners_y_minus_2_to_4\n",
      "- mean_temp_JunAug\n",
      "- mean_temp_MaySep\n",
      "- max_temp_JunAug\n",
      "- mean_discharge_MarMay\n",
      "- max_discharge_AprSep\n"
     ]
    }
   ],
   "source": [
    "# Find columns with missing values\n",
    "cols_with_missing = data_set_bristol.columns[data_set_bristol.isnull().sum() > 0].tolist()\n",
    "\n",
    "# Drop those columns\n",
    "data_set_bristol = data_set_bristol.drop(columns=cols_with_missing)\n",
    "\n",
    "# Print dropped column names\n",
    "print(\"Dropped columns due to missing values:\")\n",
    "for col in cols_with_missing:\n",
    "    print(f\"- {col}\")\n"
   ]
  },
  {
   "cell_type": "code",
   "execution_count": 5,
   "id": "ab4c2aab",
   "metadata": {},
   "outputs": [
    {
     "data": {
      "text/plain": [
       "River                     0\n",
       "Year                      0\n",
       "Total_Returns             0\n",
       "AgeClass_0.1              0\n",
       "AgeClass_0.2              0\n",
       "AgeClass_0.3              0\n",
       "AgeClass_0.4              0\n",
       "AgeClass_0.5              0\n",
       "AgeClass_1.1              0\n",
       "AgeClass_1.2              0\n",
       "AgeClass_1.3              0\n",
       "AgeClass_1.4              0\n",
       "AgeClass_1.5              0\n",
       "AgeClass_2.1              0\n",
       "AgeClass_2.2              0\n",
       "AgeClass_2.3              0\n",
       "AgeClass_2.4              0\n",
       "AgeClass_3.1              0\n",
       "AgeClass_3.2              0\n",
       "AgeClass_3.3              0\n",
       "AgeClass_3.4              0\n",
       "Total_Returns_NextYear    0\n",
       "Pacea_ALPI_Anomaly        0\n",
       "npi_mean_NovMar           0\n",
       "oni_mean_DecFeb           0\n",
       "npgo_mean_DecFeb          0\n",
       "ao_mean_DecMar            0\n",
       "pdo_mean_DecMar           0\n",
       "pdo_mean_MaySep           0\n",
       "sss_mayaug                0\n",
       "dtype: int64"
      ]
     },
     "execution_count": 5,
     "metadata": {},
     "output_type": "execute_result"
    }
   ],
   "source": [
    "data_set_bristol.isnull().sum()\n"
   ]
  },
  {
   "cell_type": "code",
   "execution_count": 6,
   "id": "fcd26932",
   "metadata": {},
   "outputs": [],
   "source": [
    "save_path = r\"C:\\Users\\MuriloFarias\\Desktop\\NNS-JULIA\\PredictSalmonRuns\\murilo_salmon\\BristolBay\\THIRD_APPROACH\\data_set_bristol_encoded.csv\""
   ]
  },
  {
   "cell_type": "code",
   "execution_count": 7,
   "id": "a14175cb",
   "metadata": {},
   "outputs": [
    {
     "name": "stdout",
     "output_type": "stream",
     "text": [
      " File saved to: C:\\Users\\MuriloFarias\\Desktop\\NNS-JULIA\\PredictSalmonRuns\\murilo_salmon\\BristolBay\\THIRD_APPROACH\\data_set_bristol_encoded.csv\n"
     ]
    }
   ],
   "source": [
    "# Save the cleaned DataFrame\n",
    "data_set_bristol.to_csv(save_path, index=False)\n",
    "print(f\" File saved to: {save_path}\")"
   ]
  },
  {
   "cell_type": "code",
   "execution_count": 8,
   "id": "8ffb70b1",
   "metadata": {},
   "outputs": [
    {
     "data": {
      "text/plain": [
       "array(['Alagnak', 'Egegik', 'Igushik', 'Kvichak', 'Naknek', 'Nushagak',\n",
       "       'Ugashik', 'Wood'], dtype=object)"
      ]
     },
     "execution_count": 8,
     "metadata": {},
     "output_type": "execute_result"
    }
   ],
   "source": [
    "\n",
    "\n",
    "data_set_bristol['River'].unique()\n"
   ]
  }
 ],
 "metadata": {
  "kernelspec": {
   "display_name": "Python 3",
   "language": "python",
   "name": "python3"
  },
  "language_info": {
   "codemirror_mode": {
    "name": "ipython",
    "version": 3
   },
   "file_extension": ".py",
   "mimetype": "text/x-python",
   "name": "python",
   "nbconvert_exporter": "python",
   "pygments_lexer": "ipython3",
   "version": "3.10.0"
  }
 },
 "nbformat": 4,
 "nbformat_minor": 5
}
