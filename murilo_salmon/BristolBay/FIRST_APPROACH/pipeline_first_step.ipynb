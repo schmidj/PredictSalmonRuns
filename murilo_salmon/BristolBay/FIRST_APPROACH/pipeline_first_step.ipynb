{
 "cells": [
  {
   "cell_type": "markdown",
   "id": "2887673e",
   "metadata": {},
   "source": [
    "Uploading the original data because we do have missing values before split\n",
    "BristolBay_FeatureSet_For_Model >> data_set_bristol_encoded"
   ]
  },
  {
   "cell_type": "code",
   "execution_count": 2,
   "id": "a5319070",
   "metadata": {},
   "outputs": [],
   "source": [
    "import pandas as pd\n",
    "import os"
   ]
  },
  {
   "cell_type": "markdown",
   "id": "a0cd057e",
   "metadata": {},
   "source": [
    "uploading the dataset"
   ]
  },
  {
   "cell_type": "code",
   "execution_count": 3,
   "id": "672e0625",
   "metadata": {},
   "outputs": [],
   "source": [
    "data_set_bristol = pd.read_csv(r'C:\\Users\\MuriloFarias\\Desktop\\NNS-JULIA\\PredictSalmonRuns\\data\\BristolBay_FeatureSet_For_Model.csv')"
   ]
  },
  {
   "cell_type": "markdown",
   "id": "14bea1ca",
   "metadata": {},
   "source": [
    "check miss values"
   ]
  },
  {
   "cell_type": "code",
   "execution_count": 4,
   "id": "e3bfec5e",
   "metadata": {},
   "outputs": [
    {
     "name": "stdout",
     "output_type": "stream",
     "text": [
      "Columns with missing values:\n",
      "mei_mean_AprSep                  128\n",
      "sst_aprjul                       168\n",
      "sst_anom                         168\n",
      "total_spawners_y_minus_2_to_4     89\n",
      "mean_temp_JunAug                 481\n",
      "mean_temp_MaySep                 481\n",
      "max_temp_JunAug                  481\n",
      "mean_discharge_MarMay            482\n",
      "max_discharge_AprSep             481\n",
      "dtype: int64\n"
     ]
    }
   ],
   "source": [
    "missing_values = data_set_bristol.isnull().sum()\n",
    "missing_values = missing_values[missing_values > 0]\n",
    "\n",
    "print(\"Columns with missing values:\")\n",
    "print(missing_values)\n"
   ]
  },
  {
   "cell_type": "markdown",
   "id": "1e9b2c56",
   "metadata": {},
   "source": [
    "droping  columns that have a more than 0 of missingvalues\n",
    "droping where missing values is more than 0 and print their columns name"
   ]
  },
  {
   "cell_type": "code",
   "execution_count": 5,
   "id": "a21b6c7b",
   "metadata": {},
   "outputs": [
    {
     "name": "stdout",
     "output_type": "stream",
     "text": [
      "Dropped columns due to missing values:\n",
      "- mei_mean_AprSep\n",
      "- sst_aprjul\n",
      "- sst_anom\n",
      "- total_spawners_y_minus_2_to_4\n",
      "- mean_temp_JunAug\n",
      "- mean_temp_MaySep\n",
      "- max_temp_JunAug\n",
      "- mean_discharge_MarMay\n",
      "- max_discharge_AprSep\n"
     ]
    }
   ],
   "source": [
    "# Find columns with missing values\n",
    "cols_with_missing = data_set_bristol.columns[data_set_bristol.isnull().sum() > 0].tolist()\n",
    "\n",
    "# Drop those columns\n",
    "data_set_bristol = data_set_bristol.drop(columns=cols_with_missing)\n",
    "\n",
    "# Print dropped column names\n",
    "print(\"Dropped columns due to missing values:\")\n",
    "for col in cols_with_missing:\n",
    "    print(f\"- {col}\")\n"
   ]
  },
  {
   "cell_type": "markdown",
   "id": "915d8f30",
   "metadata": {},
   "source": [
    "checking again"
   ]
  },
  {
   "cell_type": "code",
   "execution_count": 6,
   "id": "682f7397",
   "metadata": {},
   "outputs": [
    {
     "name": "stdout",
     "output_type": "stream",
     "text": [
      "Columns with missing values:\n",
      "Series([], dtype: int64)\n"
     ]
    }
   ],
   "source": [
    "missing_values = data_set_bristol.isnull().sum()\n",
    "missing_values = missing_values[missing_values > 0]\n",
    "\n",
    "print(\"Columns with missing values:\")\n",
    "print(missing_values)\n"
   ]
  },
  {
   "cell_type": "markdown",
   "id": "f66eb798",
   "metadata": {},
   "source": [
    "options to allow see all dataset\n"
   ]
  },
  {
   "cell_type": "code",
   "execution_count": null,
   "id": "6839a5d4",
   "metadata": {},
   "outputs": [],
   "source": [
    "# Show all rows and columns\n",
    "pd.set_option('display.max_rows', None)\n",
    "pd.set_option('display.max_columns', None)"
   ]
  },
  {
   "cell_type": "markdown",
   "id": "aa8ea1fd",
   "metadata": {},
   "source": [
    "Salving file"
   ]
  },
  {
   "cell_type": "code",
   "execution_count": 7,
   "id": "d27ed2b2",
   "metadata": {},
   "outputs": [],
   "source": [
    "save_path = r\"C:\\Users\\MuriloFarias\\Desktop\\NNS-JULIA\\PredictSalmonRuns\\murilo_salmon\\BristolBay\\FIRST_APPROACH\\data_set_bristol_encoded.csv\""
   ]
  },
  {
   "cell_type": "code",
   "execution_count": 8,
   "id": "512e241b",
   "metadata": {},
   "outputs": [
    {
     "name": "stdout",
     "output_type": "stream",
     "text": [
      " File saved to: C:\\Users\\MuriloFarias\\Desktop\\NNS-JULIA\\PredictSalmonRuns\\murilo_salmon\\BristolBay\\FIRST_APPROACH\\data_set_bristol_encoded.csv\n"
     ]
    }
   ],
   "source": [
    "# Save the cleaned DataFrame\n",
    "data_set_bristol.to_csv(save_path, index=False)\n",
    "print(f\" File saved to: {save_path}\")"
   ]
  }
 ],
 "metadata": {
  "kernelspec": {
   "display_name": "Python 3",
   "language": "python",
   "name": "python3"
  },
  "language_info": {
   "codemirror_mode": {
    "name": "ipython",
    "version": 3
   },
   "file_extension": ".py",
   "mimetype": "text/x-python",
   "name": "python",
   "nbconvert_exporter": "python",
   "pygments_lexer": "ipython3",
   "version": "3.10.0"
  }
 },
 "nbformat": 4,
 "nbformat_minor": 5
}
