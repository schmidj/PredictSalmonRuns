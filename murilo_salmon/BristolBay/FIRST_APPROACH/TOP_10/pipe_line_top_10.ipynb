{
 "cells": [
  {
   "cell_type": "markdown",
   "id": "8f4af43f",
   "metadata": {},
   "source": [
    "1 Loading the dataframe original data_set_bristol_encoded.csv\n",
    "2 Using top 10 correlation beetwen features and lable (Total_Returns_NextYear)\n",
    "3 Dataset sorted by year and keeping only top 10\n",
    "4 Spliting 80% 20% random\n",
    "5 Saving new datas"
   ]
  },
  {
   "cell_type": "code",
   "execution_count": 1,
   "id": "e4dd0161",
   "metadata": {},
   "outputs": [],
   "source": [
    "import pandas as pd\n",
    "\n",
    "# File paths\n",
    "file_path = r\"C:\\Users\\MuriloFarias\\Desktop\\NNS-JULIA\\PredictSalmonRuns\\murilo_salmon\\BristolBay\\FIRST_APPROACH\\data_train_encoded.csv\"\n",
    "test_path = r\"C:\\Users\\MuriloFarias\\Desktop\\NNS-JULIA\\PredictSalmonRuns\\murilo_salmon\\BristolBay\\FIRST_APPROACH\\data_test_encoded.csv\"\n",
    "\n",
    "\n",
    "pipe_line_top_10_train = pd.read_csv(file_path)\n",
    "pipe_line_top_10_test = pd.read_csv(test_path)\n"
   ]
  },
  {
   "cell_type": "code",
   "execution_count": 2,
   "id": "f9f01faf",
   "metadata": {},
   "outputs": [
    {
     "name": "stdout",
     "output_type": "stream",
     "text": [
      "Correlation with Total_Returns_NextYear (sorted):\n",
      "AgeClass_2.1          0.747880\n",
      "Total_Returns         0.532841\n",
      "AgeClass_1.2          0.489196\n",
      "River_Kvichak         0.481881\n",
      "AgeClass_2.2          0.341553\n",
      "AgeClass_2.3          0.270866\n",
      "River_Igushik        -0.236798\n",
      "AgeClass_1.3          0.222223\n",
      "River_Nushagak       -0.182859\n",
      "River_Egegik          0.171806\n",
      "River_Alagnak        -0.169709\n",
      "Year                  0.132507\n",
      "AgeClass_3.3          0.125865\n",
      "AgeClass_3.2          0.119348\n",
      "oni_mean_DecFeb       0.117840\n",
      "AgeClass_2.4          0.114298\n",
      "AgeClass_0.3         -0.094076\n",
      "sss_mayaug           -0.091665\n",
      "AgeClass_0.1          0.089271\n",
      "pdo_mean_MaySep       0.082165\n",
      "AgeClass_0.4         -0.069085\n",
      "River_Ugashik        -0.066538\n",
      "ao_mean_DecMar        0.066390\n",
      "npgo_mean_DecFeb     -0.059079\n",
      "AgeClass_0.2         -0.057492\n",
      "pdo_mean_DecMar       0.047003\n",
      "Pacea_ALPI_Anomaly    0.030123\n",
      "AgeClass_3.4          0.028237\n",
      "AgeClass_0.5         -0.019614\n",
      "AgeClass_1.1          0.009911\n",
      "npi_mean_NovMar      -0.006507\n",
      "AgeClass_3.1         -0.004276\n",
      "River_Naknek          0.004065\n",
      "AgeClass_1.5          0.002130\n",
      "River_Wood           -0.001849\n",
      "AgeClass_1.4         -0.001776\n",
      "Name: Total_Returns_NextYear, dtype: float64\n"
     ]
    }
   ],
   "source": [
    "# 1. Calculate correlation matrix\n",
    "corr_matrix = pipe_line_top_10_train.corr(numeric_only=True)\n",
    "# 2. Get correlation of all features with the target\n",
    "target_corr = corr_matrix['Total_Returns_NextYear'].drop('Total_Returns_NextYear')\n",
    "\n",
    "# 3. Sort by absolute correlation (descending) and print\n",
    "target_corr_sorted = target_corr.reindex(target_corr.abs().sort_values(ascending=False).index)\n",
    "\n",
    "print(\"Correlation with Total_Returns_NextYear (sorted):\")\n",
    "print(target_corr_sorted)"
   ]
  },
  {
   "cell_type": "code",
   "execution_count": 3,
   "id": "c654910c",
   "metadata": {},
   "outputs": [],
   "source": [
    "# Step 4: Select top 10 features\n",
    "top_10_features = target_corr_sorted.head(10).index.tolist()"
   ]
  },
  {
   "cell_type": "code",
   "execution_count": 4,
   "id": "b306ba43",
   "metadata": {},
   "outputs": [],
   "source": [
    "# Step 5: Add 'Year' and target column\n",
    "columns_to_keep = top_10_features + ['Year', 'Total_Returns_NextYear']"
   ]
  },
  {
   "cell_type": "code",
   "execution_count": 5,
   "id": "840a6d75",
   "metadata": {},
   "outputs": [],
   "source": [
    "# Step 6: Filter both datasets\n",
    "top_10_train = pipe_line_top_10_train[columns_to_keep]\n",
    "top_10_test = pipe_line_top_10_test[columns_to_keep]"
   ]
  },
  {
   "cell_type": "code",
   "execution_count": 6,
   "id": "0de038f9",
   "metadata": {},
   "outputs": [
    {
     "name": "stdout",
     "output_type": "stream",
     "text": [
      "Top 10 features (plus Year) selected:\n",
      "['AgeClass_2.1', 'Total_Returns', 'AgeClass_1.2', 'River_Kvichak', 'AgeClass_2.2', 'AgeClass_2.3', 'River_Igushik', 'AgeClass_1.3', 'River_Nushagak', 'River_Egegik', 'Year', 'Total_Returns_NextYear']\n",
      "\n",
      "Train set saved to: C:\\Users\\MuriloFarias\\Desktop\\NNS-JULIA\\PredictSalmonRuns\\murilo_salmon\\BristolBay\\FIRST_APPROACH\\TOP_10\\top_10_train.csv\n",
      "Test set saved to: C:\\Users\\MuriloFarias\\Desktop\\NNS-JULIA\\PredictSalmonRuns\\murilo_salmon\\BristolBay\\FIRST_APPROACH\\TOP_10\\top_10_test.csv\n"
     ]
    }
   ],
   "source": [
    "import os\n",
    "# Step 7: Save the results\n",
    "save_dir = r\"C:\\Users\\MuriloFarias\\Desktop\\NNS-JULIA\\PredictSalmonRuns\\murilo_salmon\\BristolBay\\FIRST_APPROACH\\TOP_10\"\n",
    "os.makedirs(save_dir, exist_ok=True)\n",
    "\n",
    "train_path = os.path.join(save_dir, \"top_10_train.csv\")\n",
    "test_path = os.path.join(save_dir, \"top_10_test.csv\")\n",
    "\n",
    "top_10_train.to_csv(train_path, index=False)\n",
    "top_10_test.to_csv(test_path, index=False)\n",
    "\n",
    "print(\"Top 10 features (plus Year) selected:\")\n",
    "print(columns_to_keep)\n",
    "\n",
    "print(f\"\\nTrain set saved to: {train_path}\")\n",
    "print(f\"Test set saved to: {test_path}\")"
   ]
  },
  {
   "cell_type": "markdown",
   "id": "6e4ef4b1",
   "metadata": {},
   "source": [
    "open just to see and check"
   ]
  },
  {
   "cell_type": "code",
   "execution_count": 7,
   "id": "a586be52",
   "metadata": {},
   "outputs": [],
   "source": [
    "import pandas as pd\n",
    "\n",
    "# File paths\n",
    "train_path = r\"C:\\Users\\MuriloFarias\\Desktop\\NNS-JULIA\\PredictSalmonRuns\\murilo_salmon\\BristolBay\\FIRST_APPROACH\\TOP_10\\top_10_train.csv\"\n",
    "test_path = r\"C:\\Users\\MuriloFarias\\Desktop\\NNS-JULIA\\PredictSalmonRuns\\murilo_salmon\\BristolBay\\FIRST_APPROACH\\TOP_10\\top_10_test.csv\"\n",
    "\n",
    "# Load datasets\n",
    "top_10_train_loaded = pd.read_csv(train_path)\n",
    "top_10_test_loaded = pd.read_csv(test_path)"
   ]
  },
  {
   "cell_type": "code",
   "execution_count": 8,
   "id": "7fb313c6",
   "metadata": {},
   "outputs": [
    {
     "name": "stdout",
     "output_type": "stream",
     "text": [
      "Original test shape: (96, 37)\n",
      "Test shape after dropping columns: (96, 12)\n",
      "difference: 0 rows dropped\n",
      "\n",
      "\n",
      "Original train shape: (392, 37)\n",
      "Train shape after dropping columns: (392, 12)\n",
      "difference: 0 rows dropped\n"
     ]
    }
   ],
   "source": [
    "\n",
    "original_test = pipe_line_top_10_test.shape\n",
    "test_after_drop = top_10_test_loaded.shape\n",
    "print(f\"Original test shape: {original_test}\")\n",
    "print(f\"Test shape after dropping columns: {test_after_drop}\")\n",
    "print(f\"difference: {original_test[0] - test_after_drop[0]} rows dropped\")\n",
    "\n",
    "print(\"\\n\")\n",
    "\n",
    "\n",
    "\n",
    "\n",
    "original_train = pipe_line_top_10_train.shape\n",
    "train_after_drop = top_10_train_loaded.shape\n",
    "print(f\"Original train shape: {original_train}\")\n",
    "print(f\"Train shape after dropping columns: {train_after_drop}\") \n",
    "print(f\"difference: {original_train[0] - train_after_drop[0]} rows dropped\")"
   ]
  }
 ],
 "metadata": {
  "kernelspec": {
   "display_name": "Python 3",
   "language": "python",
   "name": "python3"
  },
  "language_info": {
   "codemirror_mode": {
    "name": "ipython",
    "version": 3
   },
   "file_extension": ".py",
   "mimetype": "text/x-python",
   "name": "python",
   "nbconvert_exporter": "python",
   "pygments_lexer": "ipython3",
   "version": "3.10.0"
  }
 },
 "nbformat": 4,
 "nbformat_minor": 5
}
