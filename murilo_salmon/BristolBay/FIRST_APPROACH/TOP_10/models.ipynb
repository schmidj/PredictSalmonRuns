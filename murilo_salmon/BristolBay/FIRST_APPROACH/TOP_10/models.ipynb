{
 "cells": [
  {
   "cell_type": "markdown",
   "id": "c092bbc3",
   "metadata": {},
   "source": [
    "FIRST_APPROACH\n",
    "TOP_10 FEATURES\n",
    "\n",
    "FIRST_APPROACH\n",
    "TOP_10 FEATURES\n",
    "\n",
    " Gradient Boosting (Top 10 Correlated Features)\n",
    "R²   (R-squared):              -0.1214\n",
    "MSE  (Mean Squared Error):     26228693734058.05\n",
    "MAPE (Mean Absolute % Error):  41.79%\n",
    "\n",
    " Polynomial Regression (Top 10 Correlated Features)\n",
    "R²   (R-squared):              -0.3645\n",
    "MSE  (Mean Squared Error):     31917109847466.66\n",
    "MAPE (Mean Absolute % Error):  39.87%\n",
    "\n",
    " Linear Regression (Top 10 Correlated Features)\n",
    "R²   (R-squared):              -0.1251\n",
    "MSE  (Mean Squared Error):     26316511360602.55\n",
    "MAPE (Mean Absolute % Error):  47.53%\n",
    "\n",
    " Random Forest (Top 10 Correlated Features)\n",
    "R²   (R-squared):              -0.0159\n",
    "MSE  (Mean Squared Error):     23761948201464.99\n",
    "MAPE (Mean Absolute % Error):  44.64%\n",
    "\n",
    " XGBoost (Top 10 Correlated Features)\n",
    "R²   (R-squared):              -0.2675\n",
    "MSE  (Mean Squared Error):     29647535065498.41\n",
    "MAPE (Mean Absolute % Error):  44.87%"
   ]
  },
  {
   "cell_type": "markdown",
   "id": "953f6bfa",
   "metadata": {},
   "source": [
    "GradientBoostingRegressor"
   ]
  },
  {
   "cell_type": "code",
   "execution_count": 1,
   "id": "a62c7c22",
   "metadata": {},
   "outputs": [
    {
     "name": "stdout",
     "output_type": "stream",
     "text": [
      " Gradient Boosting (Top 10 Correlated Features)\n",
      "R²   (R-squared):              -0.1214\n",
      "MSE  (Mean Squared Error):     26228693734058.05\n",
      "MAPE (Mean Absolute % Error):  41.79%\n"
     ]
    }
   ],
   "source": [
    "import pandas as pd\n",
    "import numpy as np\n",
    "from sklearn.ensemble import GradientBoostingRegressor\n",
    "from sklearn.metrics import mean_squared_error, r2_score, mean_absolute_error\n",
    "\n",
    "# File paths\n",
    "train_path = r\"C:\\Users\\MuriloFarias\\Desktop\\NNS-JULIA\\PredictSalmonRuns\\murilo_salmon\\BristolBay\\FIRST_APPROACH\\data_train_encoded.csv\"\n",
    "test_path = r\"C:\\Users\\MuriloFarias\\Desktop\\NNS-JULIA\\PredictSalmonRuns\\murilo_salmon\\BristolBay\\FIRST_APPROACH\\data_test_encoded.csv\"\n",
    "\n",
    "#  Load full datasets\n",
    "df_train = pd.read_csv(train_path)\n",
    "df_test = pd.read_csv(test_path)\n",
    "\n",
    "#  Step 1: Calculate correlation with target and select top 10 features\n",
    "corr_matrix = df_train.corr(numeric_only=True)\n",
    "target_corr = corr_matrix['Total_Returns_NextYear'].drop('Total_Returns_NextYear')\n",
    "top_10_features = target_corr.abs().sort_values(ascending=False).head(10).index.tolist()\n",
    "\n",
    "#  Step 2: Select top 10 features + 'Year' + target\n",
    "columns_to_keep = top_10_features + ['Year', 'Total_Returns_NextYear']\n",
    "df_train_top10 = df_train[columns_to_keep]\n",
    "df_test_top10 = df_test[columns_to_keep]\n",
    "\n",
    "#  Step 3: Prepare training and testing data\n",
    "X_train = df_train_top10.drop('Total_Returns_NextYear', axis=1)\n",
    "y_train = df_train_top10['Total_Returns_NextYear']\n",
    "X_test = df_test_top10.drop('Total_Returns_NextYear', axis=1)\n",
    "y_test = df_test_top10['Total_Returns_NextYear']\n",
    "\n",
    "#  Step 4: Train Gradient Boosting model\n",
    "gbr = GradientBoostingRegressor(\n",
    "    n_estimators=200,\n",
    "    learning_rate=0.05,\n",
    "    max_depth=4,\n",
    "    random_state=42\n",
    ")\n",
    "gbr.fit(X_train, y_train)\n",
    "\n",
    "#  Step 5: Predict and evaluate\n",
    "y_pred = gbr.predict(X_test)\n",
    "\n",
    "r2 = r2_score(y_test, y_pred)\n",
    "mse = mean_squared_error(y_test, y_pred)\n",
    "mape = np.mean(np.abs((y_test - y_pred) / y_test)) * 100\n",
    "\n",
    "#  Step 6: Output results\n",
    "print(\" Gradient Boosting (Top 10 Correlated Features)\")\n",
    "print(f\"R²   (R-squared):              {r2:.4f}\")\n",
    "print(f\"MSE  (Mean Squared Error):     {mse:.2f}\")\n",
    "print(f\"MAPE (Mean Absolute % Error):  {mape:.2f}%\")\n"
   ]
  },
  {
   "cell_type": "markdown",
   "id": "1b6f2ee7",
   "metadata": {},
   "source": [
    "****************************************************************"
   ]
  },
  {
   "cell_type": "markdown",
   "id": "cc7b7b15",
   "metadata": {},
   "source": [
    "Polynomial Regression"
   ]
  },
  {
   "cell_type": "code",
   "execution_count": 2,
   "id": "fee9d72b",
   "metadata": {},
   "outputs": [
    {
     "name": "stdout",
     "output_type": "stream",
     "text": [
      " Polynomial Regression (Top 10 Correlated Features)\n",
      "R²   (R-squared):              -0.3645\n",
      "MSE  (Mean Squared Error):     31917109847466.66\n",
      "MAPE (Mean Absolute % Error):  39.87%\n"
     ]
    }
   ],
   "source": [
    "import pandas as pd\n",
    "import numpy as np\n",
    "from sklearn.preprocessing import PolynomialFeatures\n",
    "from sklearn.linear_model import LinearRegression\n",
    "from sklearn.metrics import r2_score, mean_squared_error\n",
    "\n",
    "# File paths\n",
    "train_path = r\"C:\\Users\\MuriloFarias\\Desktop\\NNS-JULIA\\PredictSalmonRuns\\murilo_salmon\\BristolBay\\FIRST_APPROACH\\data_train_encoded.csv\"\n",
    "test_path = r\"C:\\Users\\MuriloFarias\\Desktop\\NNS-JULIA\\PredictSalmonRuns\\murilo_salmon\\BristolBay\\FIRST_APPROACH\\data_test_encoded.csv\"\n",
    "\n",
    "#  Load datasets\n",
    "df_train = pd.read_csv(train_path)\n",
    "df_test = pd.read_csv(test_path)\n",
    "\n",
    "#  Step 1: Calculate top 10 features correlated with target\n",
    "corr_matrix = df_train.corr(numeric_only=True)\n",
    "target_corr = corr_matrix['Total_Returns_NextYear'].drop('Total_Returns_NextYear')\n",
    "top_10_features = target_corr.abs().sort_values(ascending=False).head(10).index.tolist()\n",
    "\n",
    "#  Step 2: Filter relevant columns\n",
    "columns_to_keep = top_10_features + ['Year', 'Total_Returns_NextYear']\n",
    "df_train_top10 = df_train[columns_to_keep]\n",
    "df_test_top10 = df_test[columns_to_keep]\n",
    "\n",
    "#  Step 3: Separate features and target\n",
    "X_train = df_train_top10.drop('Total_Returns_NextYear', axis=1)\n",
    "y_train = df_train_top10['Total_Returns_NextYear']\n",
    "X_test = df_test_top10.drop('Total_Returns_NextYear', axis=1)\n",
    "y_test = df_test_top10['Total_Returns_NextYear']\n",
    "\n",
    "#  Step 4: Polynomial transformation (degree=2)\n",
    "poly = PolynomialFeatures(degree=2, include_bias=False)\n",
    "X_train_poly = poly.fit_transform(X_train)\n",
    "X_test_poly = poly.transform(X_test)\n",
    "\n",
    "#  Step 5: Train model\n",
    "model = LinearRegression()\n",
    "model.fit(X_train_poly, y_train)\n",
    "\n",
    "#  Step 6: Predict and evaluate\n",
    "y_pred = model.predict(X_test_poly)\n",
    "r2 = r2_score(y_test, y_pred)\n",
    "mse = mean_squared_error(y_test, y_pred)\n",
    "mape = np.mean(np.abs((y_test - y_pred) / y_test)) * 100\n",
    "\n",
    "#  Step 7: Output results\n",
    "print(\" Polynomial Regression (Top 10 Correlated Features)\")\n",
    "print(f\"R²   (R-squared):              {r2:.4f}\")\n",
    "print(f\"MSE  (Mean Squared Error):     {mse:.2f}\")\n",
    "print(f\"MAPE (Mean Absolute % Error):  {mape:.2f}%\")\n"
   ]
  },
  {
   "cell_type": "markdown",
   "id": "da7a03b3",
   "metadata": {},
   "source": [
    "***************************************************************************************"
   ]
  },
  {
   "cell_type": "markdown",
   "id": "5365b4f3",
   "metadata": {},
   "source": [
    "Linear Regression"
   ]
  },
  {
   "cell_type": "code",
   "execution_count": 3,
   "id": "853bfe5c",
   "metadata": {},
   "outputs": [
    {
     "name": "stdout",
     "output_type": "stream",
     "text": [
      " Linear Regression (Top 10 Correlated Features)\n",
      "R²   (R-squared):              -0.1251\n",
      "MSE  (Mean Squared Error):     26316511360602.55\n",
      "MAPE (Mean Absolute % Error):  47.53%\n"
     ]
    }
   ],
   "source": [
    "import pandas as pd\n",
    "import numpy as np\n",
    "from sklearn.linear_model import LinearRegression\n",
    "from sklearn.metrics import r2_score, mean_squared_error\n",
    "\n",
    "# File paths\n",
    "train_path = r\"C:\\Users\\MuriloFarias\\Desktop\\NNS-JULIA\\PredictSalmonRuns\\murilo_salmon\\BristolBay\\FIRST_APPROACH\\data_train_encoded.csv\"\n",
    "test_path = r\"C:\\Users\\MuriloFarias\\Desktop\\NNS-JULIA\\PredictSalmonRuns\\murilo_salmon\\BristolBay\\FIRST_APPROACH\\data_test_encoded.csv\"\n",
    "\n",
    "#  Load datasets\n",
    "df_train = pd.read_csv(train_path)\n",
    "df_test = pd.read_csv(test_path)\n",
    "\n",
    "#  Step 1: Calculate top 10 correlated features with the target\n",
    "corr_matrix = df_train.corr(numeric_only=True)\n",
    "target_corr = corr_matrix['Total_Returns_NextYear'].drop('Total_Returns_NextYear')\n",
    "top_10_features = target_corr.abs().sort_values(ascending=False).head(10).index.tolist()\n",
    "\n",
    "#  Step 2: Keep top 10 + 'Year' + target\n",
    "columns_to_keep = top_10_features + ['Year', 'Total_Returns_NextYear']\n",
    "df_train_top10 = df_train[columns_to_keep]\n",
    "df_test_top10 = df_test[columns_to_keep]\n",
    "\n",
    "#  Step 3: Prepare feature/target split\n",
    "X_train = df_train_top10.drop('Total_Returns_NextYear', axis=1)\n",
    "y_train = df_train_top10['Total_Returns_NextYear']\n",
    "X_test = df_test_top10.drop('Total_Returns_NextYear', axis=1)\n",
    "y_test = df_test_top10['Total_Returns_NextYear']\n",
    "\n",
    "#  Step 4: Train model\n",
    "model = LinearRegression()\n",
    "model.fit(X_train, y_train)\n",
    "\n",
    "#  Step 5: Predict and evaluate\n",
    "y_pred = model.predict(X_test)\n",
    "r2 = r2_score(y_test, y_pred)\n",
    "mse = mean_squared_error(y_test, y_pred)\n",
    "mape = np.mean(np.abs((y_test - y_pred) / y_test)) * 100\n",
    "\n",
    "#  Step 6: Print metrics\n",
    "print(\" Linear Regression (Top 10 Correlated Features)\")\n",
    "print(f\"R²   (R-squared):              {r2:.4f}\")\n",
    "print(f\"MSE  (Mean Squared Error):     {mse:.2f}\")\n",
    "print(f\"MAPE (Mean Absolute % Error):  {mape:.2f}%\")\n"
   ]
  },
  {
   "cell_type": "markdown",
   "id": "ba864567",
   "metadata": {},
   "source": [
    "************************************************************************************"
   ]
  },
  {
   "cell_type": "markdown",
   "id": "360a185c",
   "metadata": {},
   "source": [
    "Random Forest model"
   ]
  },
  {
   "cell_type": "code",
   "execution_count": 4,
   "id": "a7e4fd10",
   "metadata": {},
   "outputs": [
    {
     "name": "stdout",
     "output_type": "stream",
     "text": [
      " Random Forest (Top 10 Correlated Features)\n",
      "R²   (R-squared):              -0.0159\n",
      "MSE  (Mean Squared Error):     23761948201464.99\n",
      "MAPE (Mean Absolute % Error):  44.64%\n"
     ]
    }
   ],
   "source": [
    "import pandas as pd\n",
    "import numpy as np\n",
    "from sklearn.ensemble import RandomForestRegressor\n",
    "from sklearn.metrics import r2_score, mean_squared_error\n",
    "\n",
    "# File paths\n",
    "train_path = r\"C:\\Users\\MuriloFarias\\Desktop\\NNS-JULIA\\PredictSalmonRuns\\murilo_salmon\\BristolBay\\FIRST_APPROACH\\data_train_encoded.csv\"\n",
    "test_path = r\"C:\\Users\\MuriloFarias\\Desktop\\NNS-JULIA\\PredictSalmonRuns\\murilo_salmon\\BristolBay\\FIRST_APPROACH\\data_test_encoded.csv\"\n",
    "\n",
    "#  Load full datasets\n",
    "df_train = pd.read_csv(train_path)\n",
    "df_test = pd.read_csv(test_path)\n",
    "\n",
    "#  Step 1: Calculate correlation and select top 10 features\n",
    "corr_matrix = df_train.corr(numeric_only=True)\n",
    "target_corr = corr_matrix['Total_Returns_NextYear'].drop('Total_Returns_NextYear')\n",
    "top_10_features = target_corr.abs().sort_values(ascending=False).head(10).index.tolist()\n",
    "\n",
    "#  Step 2: Filter top features + Year + target\n",
    "columns_to_keep = top_10_features + ['Year', 'Total_Returns_NextYear']\n",
    "df_train_top10 = df_train[columns_to_keep]\n",
    "df_test_top10 = df_test[columns_to_keep]\n",
    "\n",
    "#  Step 3: Prepare feature/target splits\n",
    "X_train = df_train_top10.drop('Total_Returns_NextYear', axis=1)\n",
    "y_train = df_train_top10['Total_Returns_NextYear']\n",
    "X_test = df_test_top10.drop('Total_Returns_NextYear', axis=1)\n",
    "y_test = df_test_top10['Total_Returns_NextYear']\n",
    "\n",
    "#  Step 4: Train Random Forest model\n",
    "rf = RandomForestRegressor(n_estimators=100, random_state=42)\n",
    "rf.fit(X_train, y_train)\n",
    "\n",
    "#  Step 5: Predict and evaluate\n",
    "y_pred = rf.predict(X_test)\n",
    "r2 = r2_score(y_test, y_pred)\n",
    "mse = mean_squared_error(y_test, y_pred)\n",
    "mape = np.mean(np.abs((y_test - y_pred) / y_test)) * 100\n",
    "\n",
    "#  Step 6: Output results\n",
    "print(\" Random Forest (Top 10 Correlated Features)\")\n",
    "print(f\"R²   (R-squared):              {r2:.4f}\")\n",
    "print(f\"MSE  (Mean Squared Error):     {mse:.2f}\")\n",
    "print(f\"MAPE (Mean Absolute % Error):  {mape:.2f}%\")\n"
   ]
  },
  {
   "cell_type": "markdown",
   "id": "bd865052",
   "metadata": {},
   "source": [
    "*************************************************************************************"
   ]
  },
  {
   "cell_type": "markdown",
   "id": "517a54ed",
   "metadata": {},
   "source": [
    "XGBoost Regressor"
   ]
  },
  {
   "cell_type": "code",
   "execution_count": 5,
   "id": "f4e9093f",
   "metadata": {},
   "outputs": [
    {
     "name": "stdout",
     "output_type": "stream",
     "text": [
      " XGBoost (Top 10 Correlated Features)\n",
      "R²   (R-squared):              -0.2675\n",
      "MSE  (Mean Squared Error):     29647535065498.41\n",
      "MAPE (Mean Absolute % Error):  44.87%\n"
     ]
    }
   ],
   "source": [
    "import pandas as pd\n",
    "import numpy as np\n",
    "from xgboost import XGBRegressor\n",
    "from sklearn.metrics import r2_score, mean_squared_error\n",
    "\n",
    "# File paths\n",
    "train_path = r\"C:\\Users\\MuriloFarias\\Desktop\\NNS-JULIA\\PredictSalmonRuns\\murilo_salmon\\BristolBay\\FIRST_APPROACH\\data_train_encoded.csv\"\n",
    "test_path = r\"C:\\Users\\MuriloFarias\\Desktop\\NNS-JULIA\\PredictSalmonRuns\\murilo_salmon\\BristolBay\\FIRST_APPROACH\\data_test_encoded.csv\"\n",
    "\n",
    "#  Load datasets\n",
    "df_train = pd.read_csv(train_path)\n",
    "df_test = pd.read_csv(test_path)\n",
    "\n",
    "#  Step 1: Get top 10 correlated features\n",
    "corr_matrix = df_train.corr(numeric_only=True)\n",
    "target_corr = corr_matrix['Total_Returns_NextYear'].drop('Total_Returns_NextYear')\n",
    "top_10_features = target_corr.abs().sort_values(ascending=False).head(10).index.tolist()\n",
    "\n",
    "#  Step 2: Select columns\n",
    "columns_to_keep = top_10_features + ['Year', 'Total_Returns_NextYear']\n",
    "df_train_top10 = df_train[columns_to_keep]\n",
    "df_test_top10 = df_test[columns_to_keep]\n",
    "\n",
    "#  Step 3: Split into features and target\n",
    "X_train = df_train_top10.drop('Total_Returns_NextYear', axis=1)\n",
    "y_train = df_train_top10['Total_Returns_NextYear']\n",
    "X_test = df_test_top10.drop('Total_Returns_NextYear', axis=1)\n",
    "y_test = df_test_top10['Total_Returns_NextYear']\n",
    "\n",
    "#  Step 4: Train model\n",
    "xgb_model = XGBRegressor(objective='reg:squarederror', random_state=42)\n",
    "xgb_model.fit(X_train, y_train)\n",
    "\n",
    "#  Step 5: Predict and evaluate\n",
    "y_pred = xgb_model.predict(X_test)\n",
    "r2 = r2_score(y_test, y_pred)\n",
    "mse = mean_squared_error(y_test, y_pred)\n",
    "mape = np.mean(np.abs((y_test - y_pred) / y_test)) * 100\n",
    "\n",
    "#  Step 6: Print results\n",
    "print(\" XGBoost (Top 10 Correlated Features)\")\n",
    "print(f\"R²   (R-squared):              {r2:.4f}\")\n",
    "print(f\"MSE  (Mean Squared Error):     {mse:.2f}\")\n",
    "print(f\"MAPE (Mean Absolute % Error):  {mape:.2f}%\")\n"
   ]
  }
 ],
 "metadata": {
  "kernelspec": {
   "display_name": "Python 3",
   "language": "python",
   "name": "python3"
  },
  "language_info": {
   "codemirror_mode": {
    "name": "ipython",
    "version": 3
   },
   "file_extension": ".py",
   "mimetype": "text/x-python",
   "name": "python",
   "nbconvert_exporter": "python",
   "pygments_lexer": "ipython3",
   "version": "3.10.0"
  }
 },
 "nbformat": 4,
 "nbformat_minor": 5
}
