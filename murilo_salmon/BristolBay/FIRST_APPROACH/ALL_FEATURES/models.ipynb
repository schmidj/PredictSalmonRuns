{
 "cells": [
  {
   "cell_type": "markdown",
   "id": "b89a4bd0",
   "metadata": {},
   "source": [
    "FISRT_APPROACH\n",
    "ALL FEATURES\n",
    "\n",
    "FIRST_APPROACH\n",
    "ALL_FEATURES\n",
    "Gradient Boosting Evaluation Metrics:\n",
    "R²   (R-squared):              -0.3463\n",
    "MSE  (Mean Squared Error):     31489770821475.74\n",
    "MAPE (Mean Absolute % Error):  50.08%\n",
    "\n",
    "Polynomial Regression Evaluation Metrics:\n",
    "R²   (R-squared):              -357290.7859\n",
    "MSE  (Mean Squared Error):     8357134960230387712.00\n",
    "MAPE (Mean Absolute % Error):  5705.11%\n",
    "\n",
    "Linear Regression Evaluation Metrics:\n",
    "R²   (R-squared):              -0.1660\n",
    "MSE  (Mean Squared Error):     27274125813445.65\n",
    "MAPE (Mean Absolute % Error):  53.27%\n",
    "\n",
    "Random Forest Evaluation Metrics:\n",
    "R²   (R-squared):              -0.1511\n",
    "MSE  (Mean Squared Error):     26924853101710.23\n",
    "MAPE (Mean Absolute % Error):  47.21%\n",
    "\n",
    "Log-Transformed Random Forest Evaluation Metrics: 🥇\n",
    "R²   (R-squared):              0.2957\n",
    "MSE  (Mean Squared Error):     16473257419187.02\n",
    "MAPE (Mean Absolute % Error):  39.51%\n",
    "\n",
    "XGBoost Evaluation Metrics:\n",
    "R²   (R-squared):              -0.1194\n",
    "MSE  (Mean Squared Error):     26183788053661.45\n",
    "MAPE (Mean Absolute % Error):  43.69%"
   ]
  },
  {
   "cell_type": "markdown",
   "id": "4635d594",
   "metadata": {},
   "source": [
    "GradientBoostingRegressor"
   ]
  },
  {
   "cell_type": "code",
   "execution_count": null,
   "id": "3e66df5f",
   "metadata": {},
   "outputs": [],
   "source": [
    "import pandas as pd\n",
    "from sklearn.ensemble import GradientBoostingRegressor\n",
    "from sklearn.metrics import mean_absolute_error, mean_squared_error, r2_score\n",
    "import numpy as np\n",
    "\n",
    "# File paths\n",
    "train_path = r\"C:\\Users\\MuriloFarias\\Desktop\\NNS-JULIA\\PredictSalmonRuns\\murilo_salmon\\BristolBay\\FIRST_APPROACH\\data_train_encoded.csv\"\n",
    "test_path = r\"C:\\Users\\MuriloFarias\\Desktop\\NNS-JULIA\\PredictSalmonRuns\\murilo_salmon\\BristolBay\\FIRST_APPROACH\\data_test_encoded.csv\"\n",
    "\n",
    "# Load datasets\n",
    "train_loaded = pd.read_csv(train_path)\n",
    "test_loaded = pd.read_csv(test_path)\n",
    "\n",
    "X_train = train_loaded.drop('Total_Returns_NextYear', axis=1)\n",
    "y_train = train_loaded['Total_Returns_NextYear']\n",
    "\n",
    "X_test = test_loaded.drop('Total_Returns_NextYear', axis=1)\n",
    "y_test = test_loaded['Total_Returns_NextYear']\n",
    "\n",
    "gbr = GradientBoostingRegressor(\n",
    "    n_estimators=200, \n",
    "    learning_rate=0.05, \n",
    "    max_depth=4, \n",
    "    random_state=42\n",
    ")\n",
    "# Step 2: Train the model\n",
    "gbr.fit(X_train, y_train)\n",
    "\n",
    "# Step 3: Predict on test data\n",
    "y_pred = gbr.predict(X_test)\n",
    "\n",
    "# Evaluate\n",
    "r2 = r2_score(y_test, y_pred)\n",
    "mse = mean_squared_error(y_test, y_pred)\n",
    "mape = np.mean(np.abs((y_test - y_pred) / y_test)) * 100  # In %\n",
    "\n",
    "# Print results\n",
    "print(\"Gradient Boosting Evaluation Metrics:\")\n",
    "print(f\"R²   (R-squared):              {r2:.4f}\")\n",
    "print(f\"MSE  (Mean Squared Error):     {mse:.2f}\")\n",
    "print(f\"MAPE (Mean Absolute % Error):  {mape:.2f}%\")"
   ]
  },
  {
   "cell_type": "markdown",
   "id": "54067aa2",
   "metadata": {},
   "source": [
    "*******************************************************************************"
   ]
  },
  {
   "cell_type": "markdown",
   "id": "f49e1740",
   "metadata": {},
   "source": [
    "Polynomial Regression"
   ]
  },
  {
   "cell_type": "code",
   "execution_count": null,
   "id": "111a0dd7",
   "metadata": {},
   "outputs": [],
   "source": [
    "import pandas as pd\n",
    "from sklearn.preprocessing import PolynomialFeatures\n",
    "from sklearn.linear_model import LinearRegression\n",
    "from sklearn.metrics import r2_score, mean_squared_error\n",
    "import numpy as np\n",
    "\n",
    "# File paths\n",
    "train_path = r\"C:\\Users\\MuriloFarias\\Desktop\\NNS-JULIA\\PredictSalmonRuns\\murilo_salmon\\BristolBay\\FIRST_APPROACH\\data_train_encoded.csv\"\n",
    "test_path = r\"C:\\Users\\MuriloFarias\\Desktop\\NNS-JULIA\\PredictSalmonRuns\\murilo_salmon\\BristolBay\\FIRST_APPROACH\\data_test_encoded.csv\"\n",
    "\n",
    "# Load datasets\n",
    "train_loaded = pd.read_csv(train_path)\n",
    "test_loaded = pd.read_csv(test_path)\n",
    "\n",
    "X_train = train_loaded.drop('Total_Returns_NextYear', axis=1)\n",
    "y_train = train_loaded['Total_Returns_NextYear']\n",
    "\n",
    "X_test = test_loaded.drop('Total_Returns_NextYear', axis=1)\n",
    "y_test = test_loaded['Total_Returns_NextYear']\n",
    "\n",
    "# Step 1: Create polynomial features (degree=2 is a good start)\n",
    "poly = PolynomialFeatures(degree=2, include_bias=False)\n",
    "X_train_poly = poly.fit_transform(X_train)\n",
    "X_test_poly = poly.transform(X_test)\n",
    "\n",
    "# Step 2: Train Linear Regression on the transformed features\n",
    "model = LinearRegression()\n",
    "model.fit(X_train_poly, y_train)\n",
    "\n",
    "# Step 3: Predict\n",
    "y_pred = model.predict(X_test_poly)\n",
    "\n",
    "# Step 4: Evaluate\n",
    "r2 = r2_score(y_test, y_pred)\n",
    "mse = mean_squared_error(y_test, y_pred)\n",
    "mape = np.mean(np.abs((y_test - y_pred) / y_test)) * 100\n",
    "\n",
    "# Step 5: Print results\n",
    "print(\"Polynomial Regression Evaluation Metrics:\")\n",
    "print(f\"R²   (R-squared):              {r2:.4f}\")\n",
    "print(f\"MSE  (Mean Squared Error):     {mse:.2f}\")\n",
    "print(f\"MAPE (Mean Absolute % Error):  {mape:.2f}%\")"
   ]
  },
  {
   "cell_type": "markdown",
   "id": "d38e1eca",
   "metadata": {},
   "source": [
    "***************************************************************************************"
   ]
  },
  {
   "cell_type": "markdown",
   "id": "dac1037e",
   "metadata": {},
   "source": [
    "Linear Regression"
   ]
  },
  {
   "cell_type": "code",
   "execution_count": null,
   "id": "606b3649",
   "metadata": {},
   "outputs": [],
   "source": [
    "import pandas as pd\n",
    "from sklearn.linear_model import LinearRegression\n",
    "from sklearn.metrics import r2_score, mean_squared_error\n",
    "import numpy as np\n",
    "import matplotlib.pyplot as plt\n",
    "\n",
    "\n",
    "# File paths\n",
    "train_path = r\"C:\\Users\\MuriloFarias\\Desktop\\NNS-JULIA\\PredictSalmonRuns\\murilo_salmon\\BristolBay\\FIRST_APPROACH\\data_train_encoded.csv\"\n",
    "test_path = r\"C:\\Users\\MuriloFarias\\Desktop\\NNS-JULIA\\PredictSalmonRuns\\murilo_salmon\\BristolBay\\FIRST_APPROACH\\data_test_encoded.csv\"\n",
    "\n",
    "# Load datasets\n",
    "train_loaded = pd.read_csv(train_path)\n",
    "test_loaded = pd.read_csv(test_path)\n",
    "\n",
    "X_train = train_loaded.drop('Total_Returns_NextYear', axis=1)\n",
    "y_train = train_loaded['Total_Returns_NextYear']\n",
    "\n",
    "X_test = test_loaded.drop('Total_Returns_NextYear', axis=1)\n",
    "y_test = test_loaded['Total_Returns_NextYear']\n",
    "\n",
    "# Step 1: Train model\n",
    "model = LinearRegression()\n",
    "model.fit(X_train, y_train)\n",
    "\n",
    "# Step 2: Predict\n",
    "y_pred = model.predict(X_test)\n",
    "\n",
    "# Step 3: Evaluate\n",
    "r2 = r2_score(y_test, y_pred)\n",
    "mse = mean_squared_error(y_test, y_pred)\n",
    "mape = np.mean(np.abs((y_test - y_pred) / y_test)) * 100\n",
    "\n",
    "# Step 4: Print metrics\n",
    "print(\"Linear Regression Evaluation Metrics:\")\n",
    "print(f\"R²   (R-squared):              {r2:.4f}\")\n",
    "print(f\"MSE  (Mean Squared Error):     {mse:.2f}\")\n",
    "print(f\"MAPE (Mean Absolute % Error):  {mape:.2f}%\")"
   ]
  },
  {
   "cell_type": "markdown",
   "id": "241a2358",
   "metadata": {},
   "source": [
    "*********************************************************************************************"
   ]
  },
  {
   "cell_type": "markdown",
   "id": "56b4d998",
   "metadata": {},
   "source": [
    "Random Forest model"
   ]
  },
  {
   "cell_type": "code",
   "execution_count": 1,
   "id": "9c8c1586",
   "metadata": {},
   "outputs": [
    {
     "name": "stdout",
     "output_type": "stream",
     "text": [
      "Random Forest Evaluation Metrics:\n",
      "R²   (R-squared):              -0.1511\n",
      "MSE  (Mean Squared Error):     26924853101710.23\n",
      "MAPE (Mean Absolute % Error):  47.21%\n"
     ]
    }
   ],
   "source": [
    "import pandas as pd\n",
    "from sklearn.ensemble import RandomForestRegressor\n",
    "from sklearn.model_selection import GridSearchCV\n",
    "from sklearn.metrics import r2_score, mean_squared_error\n",
    "import numpy as np\n",
    "import matplotlib.pyplot as plt\n",
    "\n",
    "# File paths\n",
    "train_path = r\"C:\\Users\\MuriloFarias\\Desktop\\NNS-JULIA\\PredictSalmonRuns\\murilo_salmon\\BristolBay\\FIRST_APPROACH\\data_train_encoded.csv\"\n",
    "test_path = r\"C:\\Users\\MuriloFarias\\Desktop\\NNS-JULIA\\PredictSalmonRuns\\murilo_salmon\\BristolBay\\FIRST_APPROACH\\data_test_encoded.csv\"\n",
    "\n",
    "# Load datasets\n",
    "train_loaded = pd.read_csv(train_path)\n",
    "test_loaded = pd.read_csv(test_path)\n",
    "\n",
    "X_train = train_loaded.drop('Total_Returns_NextYear', axis=1)\n",
    "y_train = train_loaded['Total_Returns_NextYear']\n",
    "\n",
    "X_test = test_loaded.drop('Total_Returns_NextYear', axis=1)\n",
    "y_test = test_loaded['Total_Returns_NextYear']\n",
    "\n",
    "params = {\n",
    "    'n_estimators': [100, 200, 300],\n",
    "    'max_depth': [None, 5, 10],\n",
    "    'min_samples_split': [2, 5],\n",
    "    'min_samples_leaf': [1, 2]\n",
    "}\n",
    "\n",
    "# Step 1: Train the model\n",
    "grid = GridSearchCV(RandomForestRegressor(random_state=42), param_grid=params, cv=5, scoring='r2')\n",
    "grid.fit(X_train, y_train)\n",
    "\n",
    "best_model = grid.best_estimator_\n",
    "\n",
    "y_pred = best_model.predict(X_test)\n",
    "\n",
    "# Step 3: Evaluate\n",
    "r2 = r2_score(y_test, y_pred)\n",
    "mse = mean_squared_error(y_test, y_pred)\n",
    "mape = np.mean(np.abs((y_test - y_pred) / y_test)) * 100\n",
    "\n",
    "# Step 4: Print results\n",
    "print(\"Random Forest Evaluation Metrics:\")\n",
    "print(f\"R²   (R-squared):              {r2:.4f}\")\n",
    "print(f\"MSE  (Mean Squared Error):     {mse:.2f}\")\n",
    "print(f\"MAPE (Mean Absolute % Error):  {mape:.2f}%\")"
   ]
  },
  {
   "cell_type": "markdown",
   "id": "906c1bba",
   "metadata": {},
   "source": [
    "Random Forest Updated Code with Log Transform on Target"
   ]
  },
  {
   "cell_type": "code",
   "execution_count": 2,
   "id": "3dc36ef8",
   "metadata": {},
   "outputs": [
    {
     "name": "stdout",
     "output_type": "stream",
     "text": [
      "Log-Transformed Random Forest Evaluation Metrics:\n",
      "R²   (R-squared):              0.2957\n",
      "MSE  (Mean Squared Error):     16473257419187.02\n",
      "MAPE (Mean Absolute % Error):  39.51%\n"
     ]
    }
   ],
   "source": [
    "import pandas as pd\n",
    "from sklearn.ensemble import RandomForestRegressor\n",
    "from sklearn.model_selection import GridSearchCV\n",
    "from sklearn.metrics import r2_score, mean_squared_error\n",
    "import numpy as np\n",
    "import matplotlib.pyplot as plt\n",
    "\n",
    "# File paths\n",
    "train_path = r\"C:\\Users\\MuriloFarias\\Desktop\\NNS-JULIA\\PredictSalmonRuns\\murilo_salmon\\BristolBay\\FIRST_APPROACH\\data_train_encoded.csv\"\n",
    "test_path = r\"C:\\Users\\MuriloFarias\\Desktop\\NNS-JULIA\\PredictSalmonRuns\\murilo_salmon\\BristolBay\\FIRST_APPROACH\\data_test_encoded.csv\"\n",
    "\n",
    "# Load datasets\n",
    "train_loaded = pd.read_csv(train_path)\n",
    "test_loaded = pd.read_csv(test_path)\n",
    "\n",
    "X_train = train_loaded.drop('Total_Returns_NextYear', axis=1)\n",
    "y_train = train_loaded['Total_Returns_NextYear']\n",
    "\n",
    "X_test = test_loaded.drop('Total_Returns_NextYear', axis=1)\n",
    "y_test = test_loaded['Total_Returns_NextYear']\n",
    "\n",
    "#  Step 1: Apply log transformation to the target\n",
    "y_train_log = np.log1p(y_train)\n",
    "y_test_log = np.log1p(y_test)\n",
    "\n",
    "#  Step 2: Set up hyperparameter grid\n",
    "params = {\n",
    "    'n_estimators': [100, 200],\n",
    "    'max_depth': [None, 5, 10],\n",
    "    'min_samples_split': [2, 5],\n",
    "    'min_samples_leaf': [1, 2]\n",
    "}\n",
    "\n",
    "#  Step 3: Train the model using log-transformed target\n",
    "grid = GridSearchCV(\n",
    "    RandomForestRegressor(random_state=42),\n",
    "    param_grid=params,\n",
    "    cv=5,\n",
    "    scoring='r2',\n",
    "    n_jobs=-1\n",
    ")\n",
    "grid.fit(X_train, y_train_log)\n",
    "\n",
    "best_model = grid.best_estimator_\n",
    "\n",
    "#  Step 4: Predict and reverse the log transformation\n",
    "y_pred_log = best_model.predict(X_test)\n",
    "y_pred = np.expm1(y_pred_log)  # Reverse log1p\n",
    "\n",
    "#  Step 5: Evaluate on original scale\n",
    "r2 = r2_score(y_test, y_pred)\n",
    "mse = mean_squared_error(y_test, y_pred)\n",
    "mape = np.mean(np.abs((y_test - y_pred) / y_test)) * 100\n",
    "\n",
    "#  Step 6: Print results\n",
    "print(\"Log-Transformed Random Forest Evaluation Metrics:\")\n",
    "print(f\"R²   (R-squared):              {r2:.4f}\")\n",
    "print(f\"MSE  (Mean Squared Error):     {mse:.2f}\")\n",
    "print(f\"MAPE (Mean Absolute % Error):  {mape:.2f}%\")\n"
   ]
  },
  {
   "cell_type": "markdown",
   "id": "6f2a5f4a",
   "metadata": {},
   "source": [
    "Applying the top model Log-Transformed Random Forest\n",
    " trains on data up to 2022 and predicts Total_Returns_NextYear for each river in 2023, comparing with the real values (which are hidden during training)"
   ]
  },
  {
   "cell_type": "markdown",
   "id": "03c897b7",
   "metadata": {},
   "source": [
    "full dataset"
   ]
  },
  {
   "cell_type": "code",
   "execution_count": 2,
   "id": "d29300dd",
   "metadata": {},
   "outputs": [
    {
     "name": "stdout",
     "output_type": "stream",
     "text": [
      "\n",
      "📊 2023 Predictions by River:\n",
      "\n",
      "+----------+------------------------+--------------------+--------------------+--------------------+\n",
      "|  River   | Total_Returns_NextYear | Predicted_Returns  |   Absolute_Error   |      APE (%)       |\n",
      "+----------+------------------------+--------------------+--------------------+--------------------+\n",
      "| Alagnak  |    4335434.71638467    | 1887977.4886300133 | 2447457.227754656  | 56.45240645661474  |\n",
      "|  Egegik  |    4629742.7343397     |  11563996.3633467  |   6934253.629007   | 149.77621926104652 |\n",
      "| Igushik  |    1572250.10905134    | 1191758.202219095  | 380491.90683224495 | 24.20046941906877  |\n",
      "| Kvichak  |    12207052.9844853    | 6763470.838103057  | 5443582.146382243  | 44.593745544488335 |\n",
      "|  Naknek  |    3160468.81052516    | 5915060.992632296  | 2754592.182107136  | 87.15770815183014  |\n",
      "| Nushagak |    5629034.74787806    | 4623395.392922756  | 1005639.3549553035 | 17.865218461022874 |\n",
      "| Ugashik  |    7955574.46845177    | 4188965.9666302833 | 3766608.5018214867 | 47.34552503729507  |\n",
      "|   Wood   |    12276225.3959476    | 7900287.032614272  | 4375938.363333328  | 35.64563391592526  |\n",
      "+----------+------------------------+--------------------+--------------------+--------------------+\n"
     ]
    }
   ],
   "source": [
    "import pandas as pd\n",
    "import numpy as np\n",
    "from sklearn.ensemble import RandomForestRegressor\n",
    "from sklearn.model_selection import GridSearchCV\n",
    "from sklearn.metrics import r2_score, mean_squared_error\n",
    "from tabulate import tabulate\n",
    "\n",
    "# === Step 1: Load dataset ===\n",
    "data_path = r\"C:\\Users\\MuriloFarias\\Desktop\\NNS-JULIA\\PredictSalmonRuns\\murilo_salmon\\BristolBay\\FIRST_APPROACH\\data_set_bristol_encoded.csv\"\n",
    "df = pd.read_csv(data_path)\n",
    "\n",
    "# === Step 2: Keep original River column for later merge ===\n",
    "df_river = df[['Year', 'River']].copy()\n",
    "\n",
    "# === Step 3: One-hot encode River column ===\n",
    "df_encoded = pd.get_dummies(df, columns=['River'], drop_first=False)\n",
    "\n",
    "# === Step 4: Split dataset: train < 2023, test = 2023 ===\n",
    "train_df = df_encoded[df_encoded['Year'] < 2023].copy()\n",
    "test_df = df_encoded[df_encoded['Year'] == 2023].copy()\n",
    "\n",
    "# Target and features\n",
    "target_col = 'Total_Returns_NextYear'\n",
    "feature_cols = [col for col in df_encoded.columns if col not in ['Year', target_col]]\n",
    "\n",
    "X_train = train_df[feature_cols]\n",
    "y_train_log = np.log1p(train_df[target_col])\n",
    "\n",
    "X_test = test_df[feature_cols]\n",
    "y_test_real = test_df[[target_col]].copy()\n",
    "\n",
    "# === Step 5: GridSearchCV with RandomForestRegressor ===\n",
    "params = {\n",
    "    'n_estimators': [100, 200],\n",
    "    'max_depth': [None, 5, 10],\n",
    "    'min_samples_split': [2, 5],\n",
    "    'min_samples_leaf': [1, 2]\n",
    "}\n",
    "\n",
    "grid = GridSearchCV(\n",
    "    RandomForestRegressor(random_state=42),\n",
    "    param_grid=params,\n",
    "    cv=5,\n",
    "    scoring='r2',\n",
    "    n_jobs=-1\n",
    ")\n",
    "grid.fit(X_train, y_train_log)\n",
    "best_model = grid.best_estimator_\n",
    "\n",
    "# === Step 6: Predict and inverse log ===\n",
    "y_pred_log = best_model.predict(X_test)\n",
    "y_pred = np.expm1(y_pred_log)\n",
    "\n",
    "# === Step 7: Merge river info back and calculate errors ===\n",
    "rivers_2023 = df_river[df_river['Year'] == 2023].reset_index(drop=True)\n",
    "results = y_test_real.reset_index(drop=True)\n",
    "results['River'] = rivers_2023['River'].values\n",
    "results['Predicted_Returns'] = y_pred\n",
    "results['Absolute_Error'] = abs(results['Predicted_Returns'] - results[target_col])\n",
    "results['APE (%)'] = 100 * results['Absolute_Error'] / results[target_col]\n",
    "\n",
    "# === Step 8: Evaluation ===\n",
    "r2 = r2_score(results[target_col], results['Predicted_Returns'])\n",
    "mse = mean_squared_error(results[target_col], results['Predicted_Returns'])\n",
    "mape = results['APE (%)'].mean()\n",
    "\n",
    "# === Final Display ===\n",
    "print(\"\\n📊 2023 Predictions by River:\\n\")\n",
    "print(tabulate(results[['River', 'Total_Returns_NextYear', 'Predicted_Returns', 'Absolute_Error', 'APE (%)']],\n",
    "               headers='keys', tablefmt='pretty', showindex=False))\n",
    "\n"
   ]
  },
  {
   "cell_type": "code",
   "execution_count": 4,
   "id": "c8a7a8b6",
   "metadata": {},
   "outputs": [
    {
     "data": {
      "image/png": "[encoded data removed]",
      "text/plain": [
       "<Figure size 1000x600 with 1 Axes>"
      ]
     },
     "metadata": {},
     "output_type": "display_data"
    }
   ],
   "source": [
    "import seaborn as sns\n",
    "import matplotlib.pyplot as plt\n",
    "\n",
    "# Plot distribution of training target (non-log)\n",
    "plt.figure(figsize=(10, 6))\n",
    "sns.histplot(train_df['Total_Returns_NextYear'], kde=True, color='steelblue', bins=30)\n",
    "plt.title(\"Distribution of Total_Returns_NextYear (Training Set)\")\n",
    "plt.xlabel(\"Total_Returns_NextYear\")\n",
    "plt.ylabel(\"Frequency\")\n",
    "plt.grid(True)\n",
    "plt.tight_layout()\n",
    "plt.show()"
   ]
  },
  {
   "cell_type": "code",
   "execution_count": 5,
   "id": "226e131e",
   "metadata": {},
   "outputs": [
    {
     "data": {
      "image/png": "[encoded data removed]",
      "text/plain": [
       "<Figure size 1000x600 with 1 Axes>"
      ]
     },
     "metadata": {},
     "output_type": "display_data"
    }
   ],
   "source": [
    "# Scatter plot of Actual vs Predicted values for 2023\n",
    "plt.figure(figsize=(10, 6))\n",
    "plt.scatter(y_test_real[target_col], y_pred, color='dodgerblue', edgecolor='k', alpha=0.7)\n",
    "plt.plot([y_test_real[target_col].min(), y_test_real[target_col].max()],\n",
    "         [y_test_real[target_col].min(), y_test_real[target_col].max()],\n",
    "         'r--', label=\"Ideal prediction\")\n",
    "plt.xlabel(\"Actual Total_Returns_NextYear (2023)\")\n",
    "plt.ylabel(\"Predicted Total_Returns_NextYear (2023)\")\n",
    "plt.title(\"Actual vs Predicted - RandomForestRegressor\")\n",
    "plt.legend()\n",
    "plt.grid(True)\n",
    "plt.tight_layout()\n",
    "plt.show()"
   ]
  },
  {
   "cell_type": "markdown",
   "id": "a9185fd5",
   "metadata": {},
   "source": [
    "*********************************************************************************"
   ]
  },
  {
   "cell_type": "code",
   "execution_count": null,
   "id": "383a482b",
   "metadata": {},
   "outputs": [],
   "source": [
    "# Show all rows and columns\n",
    "pd.set_option('display.max_rows', None)\n",
    "pd.set_option('display.max_columns', None)"
   ]
  },
  {
   "cell_type": "markdown",
   "id": "8dd2a7bc",
   "metadata": {},
   "source": [
    "************************************************************************************************************"
   ]
  },
  {
   "cell_type": "markdown",
   "id": "2dc3d064",
   "metadata": {},
   "source": [
    "XGBoost Regressor"
   ]
  },
  {
   "cell_type": "code",
   "execution_count": null,
   "id": "0c5dd058",
   "metadata": {},
   "outputs": [],
   "source": [
    "import pandas as pd\n",
    "from xgboost import XGBRegressor\n",
    "from sklearn.metrics import r2_score, mean_squared_error\n",
    "import numpy as np\n",
    "import matplotlib.pyplot as plt\n",
    "\n",
    "# File paths\n",
    "train_path = r\"C:\\Users\\MuriloFarias\\Desktop\\NNS-JULIA\\PredictSalmonRuns\\murilo_salmon\\BristolBay\\FIRST_APPROACH\\data_train_encoded.csv\"\n",
    "test_path = r\"C:\\Users\\MuriloFarias\\Desktop\\NNS-JULIA\\PredictSalmonRuns\\murilo_salmon\\BristolBay\\FIRST_APPROACH\\data_test_encoded.csv\"\n",
    "\n",
    "# Load datasets\n",
    "train_loaded = pd.read_csv(train_path)\n",
    "test_loaded = pd.read_csv(test_path)\n",
    "\n",
    "X_train = train_loaded.drop('Total_Returns_NextYear', axis=1)\n",
    "y_train = train_loaded['Total_Returns_NextYear']\n",
    "\n",
    "X_test = test_loaded.drop('Total_Returns_NextYear', axis=1)\n",
    "y_test = test_loaded['Total_Returns_NextYear']\n",
    "\n",
    "# Step 1: Train XGBoost Regressor\n",
    "xgb_model = XGBRegressor(objective='reg:squarederror', random_state=42)\n",
    "xgb_model.fit(X_train, y_train)\n",
    "\n",
    "# Step 2: Predict\n",
    "y_pred = xgb_model.predict(X_test)\n",
    "\n",
    "# Step 3: Evaluate\n",
    "r2 = r2_score(y_test, y_pred)\n",
    "mse = mean_squared_error(y_test, y_pred)\n",
    "mape = np.mean(np.abs((y_test - y_pred) / y_test)) * 100\n",
    "\n",
    "# Step 4: Print results\n",
    "print(\"XGBoost Evaluation Metrics:\")\n",
    "print(f\"R²   (R-squared):              {r2:.4f}\")\n",
    "print(f\"MSE  (Mean Squared Error):     {mse:.2f}\")\n",
    "print(f\"MAPE (Mean Absolute % Error):  {mape:.2f}%\")"
   ]
  }
 ],
 "metadata": {
  "kernelspec": {
   "display_name": "Python 3",
   "language": "python",
   "name": "python3"
  },
  "language_info": {
   "codemirror_mode": {
    "name": "ipython",
    "version": 3
   },
   "file_extension": ".py",
   "mimetype": "text/x-python",
   "name": "python",
   "nbconvert_exporter": "python",
   "pygments_lexer": "ipython3",
   "version": "3.10.0"
  }
 },
 "nbformat": 4,
 "nbformat_minor": 5
}
