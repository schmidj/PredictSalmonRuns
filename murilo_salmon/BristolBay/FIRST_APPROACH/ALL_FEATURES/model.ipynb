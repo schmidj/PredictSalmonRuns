{
 "cells": [
  {
   "cell_type": "markdown",
   "id": "b89a4bd0",
   "metadata": {},
   "source": [
    "Using all features\n",
    "Random Forest Evaluation Metrics:\n",
    "\n",
    "Log-Transformed Random Forest Evaluation Metrics: 🏆\n",
    "R²   (R-squared):              0.2955 >> closer to 1.0 = better\n",
    "MSE  (Mean Squared Error):     16478499798836.47\n",
    "MAPE (Mean Absolute % Error):  39.50% >> lower is better\n",
    "\n",
    "Gradient Boosting Evaluation Metrics:\n",
    "R²   (R-squared):              -0.3453 closer to 1.0 = better\n",
    "MSE  (Mean Squared Error):     31465912161608.78\n",
    "MAPE (Mean Absolute % Error):  50.04%\n",
    "\n",
    "Polynomial Regression Evaluation Metrics:\n",
    "R²   (R-squared):              -357290.7747 closer to 1.0 = better\n",
    "MSE  (Mean Squared Error):     8357134698325957632.00\n",
    "MAPE (Mean Absolute % Error):  5704.72%\n",
    "\n",
    "Linear Regression Evaluation Metrics:\n",
    "R²   (R-squared):              -0.1660 closer to 1.0 = better\n",
    "MSE  (Mean Squared Error):     27271938218871.29\n",
    "MAPE (Mean Absolute % Error):  53.20%\n",
    "\n",
    "Random Forest Evaluation Metrics:\n",
    "R²   (R-squared):              -0.1512 closer to 1.0 = better\n",
    "MSE  (Mean Squared Error):     26926261135373.15\n",
    "MAPE (Mean Absolute % Error):  47.20%\n",
    "\n",
    "XGBoost Evaluation Metrics:\n",
    "R²   (R-squared):              -0.1194\n",
    "MSE  (Mean Squared Error):     26183788053661.45\n",
    "MAPE (Mean Absolute % Error):  43.69%"
   ]
  },
  {
   "cell_type": "markdown",
   "id": "4635d594",
   "metadata": {},
   "source": [
    "GradientBoostingRegressor"
   ]
  },
  {
   "cell_type": "code",
   "execution_count": 2,
   "id": "3e66df5f",
   "metadata": {},
   "outputs": [
    {
     "name": "stdout",
     "output_type": "stream",
     "text": [
      "Gradient Boosting Evaluation Metrics:\n",
      "R²   (R-squared):              -0.3453\n",
      "MSE  (Mean Squared Error):     31465912161608.78\n",
      "MAPE (Mean Absolute % Error):  50.04%\n"
     ]
    }
   ],
   "source": [
    "import pandas as pd\n",
    "from sklearn.ensemble import GradientBoostingRegressor\n",
    "from sklearn.metrics import mean_absolute_error, mean_squared_error, r2_score\n",
    "import numpy as np\n",
    "\n",
    "# File paths\n",
    "train_path = r\"C:\\Users\\MuriloFarias\\Desktop\\NNS-JULIA\\PredictSalmonRuns\\murilo_salmon\\BristolBay\\FIRST_APPROACH\\data_train_encoded.csv\"\n",
    "test_path = r\"C:\\Users\\MuriloFarias\\Desktop\\NNS-JULIA\\PredictSalmonRuns\\murilo_salmon\\BristolBay\\FIRST_APPROACH\\data_test_encoded.csv\"\n",
    "\n",
    "# Load datasets\n",
    "train_loaded = pd.read_csv(train_path)\n",
    "test_loaded = pd.read_csv(test_path)\n",
    "\n",
    "X_train = train_loaded.drop('Total_Returns_NextYear', axis=1)\n",
    "y_train = train_loaded['Total_Returns_NextYear']\n",
    "\n",
    "X_test = test_loaded.drop('Total_Returns_NextYear', axis=1)\n",
    "y_test = test_loaded['Total_Returns_NextYear']\n",
    "\n",
    "gbr = GradientBoostingRegressor(\n",
    "    n_estimators=200, \n",
    "    learning_rate=0.05, \n",
    "    max_depth=4, \n",
    "    random_state=42\n",
    ")\n",
    "# Step 2: Train the model\n",
    "gbr.fit(X_train, y_train)\n",
    "\n",
    "# Step 3: Predict on test data\n",
    "y_pred = gbr.predict(X_test)\n",
    "\n",
    "# Evaluate\n",
    "r2 = r2_score(y_test, y_pred)\n",
    "mse = mean_squared_error(y_test, y_pred)\n",
    "mape = np.mean(np.abs((y_test - y_pred) / y_test)) * 100  # In %\n",
    "\n",
    "# Print results\n",
    "print(\"Gradient Boosting Evaluation Metrics:\")\n",
    "print(f\"R²   (R-squared):              {r2:.4f}\")\n",
    "print(f\"MSE  (Mean Squared Error):     {mse:.2f}\")\n",
    "print(f\"MAPE (Mean Absolute % Error):  {mape:.2f}%\")"
   ]
  },
  {
   "cell_type": "markdown",
   "id": "54067aa2",
   "metadata": {},
   "source": [
    "*******************************************************************************"
   ]
  },
  {
   "cell_type": "markdown",
   "id": "f49e1740",
   "metadata": {},
   "source": [
    "Polynomial Regression"
   ]
  },
  {
   "cell_type": "code",
   "execution_count": 3,
   "id": "111a0dd7",
   "metadata": {},
   "outputs": [
    {
     "name": "stdout",
     "output_type": "stream",
     "text": [
      "Polynomial Regression Evaluation Metrics:\n",
      "R²   (R-squared):              -357290.7747\n",
      "MSE  (Mean Squared Error):     8357134698325957632.00\n",
      "MAPE (Mean Absolute % Error):  5704.72%\n"
     ]
    }
   ],
   "source": [
    "import pandas as pd\n",
    "from sklearn.preprocessing import PolynomialFeatures\n",
    "from sklearn.linear_model import LinearRegression\n",
    "from sklearn.metrics import r2_score, mean_squared_error\n",
    "import numpy as np\n",
    "\n",
    "# File paths\n",
    "train_path = r\"C:\\Users\\MuriloFarias\\Desktop\\NNS-JULIA\\PredictSalmonRuns\\murilo_salmon\\BristolBay\\FIRST_APPROACH\\data_train_encoded.csv\"\n",
    "test_path = r\"C:\\Users\\MuriloFarias\\Desktop\\NNS-JULIA\\PredictSalmonRuns\\murilo_salmon\\BristolBay\\FIRST_APPROACH\\data_test_encoded.csv\"\n",
    "\n",
    "# Load datasets\n",
    "train_loaded = pd.read_csv(train_path)\n",
    "test_loaded = pd.read_csv(test_path)\n",
    "\n",
    "X_train = train_loaded.drop('Total_Returns_NextYear', axis=1)\n",
    "y_train = train_loaded['Total_Returns_NextYear']\n",
    "\n",
    "X_test = test_loaded.drop('Total_Returns_NextYear', axis=1)\n",
    "y_test = test_loaded['Total_Returns_NextYear']\n",
    "\n",
    "# Step 1: Create polynomial features (degree=2 is a good start)\n",
    "poly = PolynomialFeatures(degree=2, include_bias=False)\n",
    "X_train_poly = poly.fit_transform(X_train)\n",
    "X_test_poly = poly.transform(X_test)\n",
    "\n",
    "# Step 2: Train Linear Regression on the transformed features\n",
    "model = LinearRegression()\n",
    "model.fit(X_train_poly, y_train)\n",
    "\n",
    "# Step 3: Predict\n",
    "y_pred = model.predict(X_test_poly)\n",
    "\n",
    "# Step 4: Evaluate\n",
    "r2 = r2_score(y_test, y_pred)\n",
    "mse = mean_squared_error(y_test, y_pred)\n",
    "mape = np.mean(np.abs((y_test - y_pred) / y_test)) * 100\n",
    "\n",
    "# Step 5: Print results\n",
    "print(\"Polynomial Regression Evaluation Metrics:\")\n",
    "print(f\"R²   (R-squared):              {r2:.4f}\")\n",
    "print(f\"MSE  (Mean Squared Error):     {mse:.2f}\")\n",
    "print(f\"MAPE (Mean Absolute % Error):  {mape:.2f}%\")"
   ]
  },
  {
   "cell_type": "markdown",
   "id": "d38e1eca",
   "metadata": {},
   "source": [
    "***************************************************************************************"
   ]
  },
  {
   "cell_type": "markdown",
   "id": "dac1037e",
   "metadata": {},
   "source": [
    "Linear Regression"
   ]
  },
  {
   "cell_type": "code",
   "execution_count": 4,
   "id": "606b3649",
   "metadata": {},
   "outputs": [
    {
     "name": "stdout",
     "output_type": "stream",
     "text": [
      "Linear Regression Evaluation Metrics:\n",
      "R²   (R-squared):              -0.1660\n",
      "MSE  (Mean Squared Error):     27271938218871.29\n",
      "MAPE (Mean Absolute % Error):  53.20%\n"
     ]
    }
   ],
   "source": [
    "import pandas as pd\n",
    "from sklearn.linear_model import LinearRegression\n",
    "from sklearn.metrics import r2_score, mean_squared_error\n",
    "import numpy as np\n",
    "import matplotlib.pyplot as plt\n",
    "\n",
    "\n",
    "# File paths\n",
    "train_path = r\"C:\\Users\\MuriloFarias\\Desktop\\NNS-JULIA\\PredictSalmonRuns\\murilo_salmon\\BristolBay\\FIRST_APPROACH\\data_train_encoded.csv\"\n",
    "test_path = r\"C:\\Users\\MuriloFarias\\Desktop\\NNS-JULIA\\PredictSalmonRuns\\murilo_salmon\\BristolBay\\FIRST_APPROACH\\data_test_encoded.csv\"\n",
    "\n",
    "# Load datasets\n",
    "train_loaded = pd.read_csv(train_path)\n",
    "test_loaded = pd.read_csv(test_path)\n",
    "\n",
    "X_train = train_loaded.drop('Total_Returns_NextYear', axis=1)\n",
    "y_train = train_loaded['Total_Returns_NextYear']\n",
    "\n",
    "X_test = test_loaded.drop('Total_Returns_NextYear', axis=1)\n",
    "y_test = test_loaded['Total_Returns_NextYear']\n",
    "\n",
    "# Step 1: Train model\n",
    "model = LinearRegression()\n",
    "model.fit(X_train, y_train)\n",
    "\n",
    "# Step 2: Predict\n",
    "y_pred = model.predict(X_test)\n",
    "\n",
    "# Step 3: Evaluate\n",
    "r2 = r2_score(y_test, y_pred)\n",
    "mse = mean_squared_error(y_test, y_pred)\n",
    "mape = np.mean(np.abs((y_test - y_pred) / y_test)) * 100\n",
    "\n",
    "# Step 4: Print metrics\n",
    "print(\"Linear Regression Evaluation Metrics:\")\n",
    "print(f\"R²   (R-squared):              {r2:.4f}\")\n",
    "print(f\"MSE  (Mean Squared Error):     {mse:.2f}\")\n",
    "print(f\"MAPE (Mean Absolute % Error):  {mape:.2f}%\")"
   ]
  },
  {
   "cell_type": "markdown",
   "id": "241a2358",
   "metadata": {},
   "source": [
    "*********************************************************************************************"
   ]
  },
  {
   "cell_type": "markdown",
   "id": "56b4d998",
   "metadata": {},
   "source": [
    "Random Forest model"
   ]
  },
  {
   "cell_type": "code",
   "execution_count": 5,
   "id": "9c8c1586",
   "metadata": {},
   "outputs": [
    {
     "name": "stdout",
     "output_type": "stream",
     "text": [
      "Random Forest Evaluation Metrics:\n",
      "R²   (R-squared):              -0.1512\n",
      "MSE  (Mean Squared Error):     26926261135373.15\n",
      "MAPE (Mean Absolute % Error):  47.20%\n"
     ]
    }
   ],
   "source": [
    "import pandas as pd\n",
    "from sklearn.ensemble import RandomForestRegressor\n",
    "from sklearn.model_selection import GridSearchCV\n",
    "from sklearn.metrics import r2_score, mean_squared_error\n",
    "import numpy as np\n",
    "import matplotlib.pyplot as plt\n",
    "\n",
    "# File paths\n",
    "train_path = r\"C:\\Users\\MuriloFarias\\Desktop\\NNS-JULIA\\PredictSalmonRuns\\murilo_salmon\\BristolBay\\FIRST_APPROACH\\data_train_encoded.csv\"\n",
    "test_path = r\"C:\\Users\\MuriloFarias\\Desktop\\NNS-JULIA\\PredictSalmonRuns\\murilo_salmon\\BristolBay\\FIRST_APPROACH\\data_test_encoded.csv\"\n",
    "\n",
    "# Load datasets\n",
    "train_loaded = pd.read_csv(train_path)\n",
    "test_loaded = pd.read_csv(test_path)\n",
    "\n",
    "X_train = train_loaded.drop('Total_Returns_NextYear', axis=1)\n",
    "y_train = train_loaded['Total_Returns_NextYear']\n",
    "\n",
    "X_test = test_loaded.drop('Total_Returns_NextYear', axis=1)\n",
    "y_test = test_loaded['Total_Returns_NextYear']\n",
    "\n",
    "params = {\n",
    "    'n_estimators': [100, 200, 300],\n",
    "    'max_depth': [None, 5, 10],\n",
    "    'min_samples_split': [2, 5],\n",
    "    'min_samples_leaf': [1, 2]\n",
    "}\n",
    "\n",
    "# Step 1: Train the model\n",
    "grid = GridSearchCV(RandomForestRegressor(random_state=42), param_grid=params, cv=5, scoring='r2')\n",
    "grid.fit(X_train, y_train)\n",
    "\n",
    "best_model = grid.best_estimator_\n",
    "\n",
    "y_pred = best_model.predict(X_test)\n",
    "\n",
    "# Step 3: Evaluate\n",
    "r2 = r2_score(y_test, y_pred)\n",
    "mse = mean_squared_error(y_test, y_pred)\n",
    "mape = np.mean(np.abs((y_test - y_pred) / y_test)) * 100\n",
    "\n",
    "# Step 4: Print results\n",
    "print(\"Random Forest Evaluation Metrics:\")\n",
    "print(f\"R²   (R-squared):              {r2:.4f}\")\n",
    "print(f\"MSE  (Mean Squared Error):     {mse:.2f}\")\n",
    "print(f\"MAPE (Mean Absolute % Error):  {mape:.2f}%\")"
   ]
  },
  {
   "cell_type": "markdown",
   "id": "906c1bba",
   "metadata": {},
   "source": [
    "Random Forest Updated Code with Log Transform on Target"
   ]
  },
  {
   "cell_type": "code",
   "execution_count": 6,
   "id": "3dc36ef8",
   "metadata": {},
   "outputs": [
    {
     "name": "stdout",
     "output_type": "stream",
     "text": [
      "Log-Transformed Random Forest Evaluation Metrics:\n",
      "R²   (R-squared):              0.2955\n",
      "MSE  (Mean Squared Error):     16478499798836.47\n",
      "MAPE (Mean Absolute % Error):  39.50%\n"
     ]
    }
   ],
   "source": [
    "import pandas as pd\n",
    "from sklearn.ensemble import RandomForestRegressor\n",
    "from sklearn.model_selection import GridSearchCV\n",
    "from sklearn.metrics import r2_score, mean_squared_error\n",
    "import numpy as np\n",
    "import matplotlib.pyplot as plt\n",
    "\n",
    "# File paths\n",
    "train_path = r\"C:\\Users\\MuriloFarias\\Desktop\\NNS-JULIA\\PredictSalmonRuns\\murilo_salmon\\BristolBay\\FIRST_APPROACH\\data_train_encoded.csv\"\n",
    "test_path = r\"C:\\Users\\MuriloFarias\\Desktop\\NNS-JULIA\\PredictSalmonRuns\\murilo_salmon\\BristolBay\\FIRST_APPROACH\\data_test_encoded.csv\"\n",
    "\n",
    "# Load datasets\n",
    "train_loaded = pd.read_csv(train_path)\n",
    "test_loaded = pd.read_csv(test_path)\n",
    "\n",
    "X_train = train_loaded.drop('Total_Returns_NextYear', axis=1)\n",
    "y_train = train_loaded['Total_Returns_NextYear']\n",
    "\n",
    "X_test = test_loaded.drop('Total_Returns_NextYear', axis=1)\n",
    "y_test = test_loaded['Total_Returns_NextYear']\n",
    "\n",
    "# ✅ Step 1: Apply log transformation to the target\n",
    "y_train_log = np.log1p(y_train)\n",
    "y_test_log = np.log1p(y_test)\n",
    "\n",
    "# ✅ Step 2: Set up hyperparameter grid\n",
    "params = {\n",
    "    'n_estimators': [100, 200],\n",
    "    'max_depth': [None, 5, 10],\n",
    "    'min_samples_split': [2, 5],\n",
    "    'min_samples_leaf': [1, 2]\n",
    "}\n",
    "\n",
    "# ✅ Step 3: Train the model using log-transformed target\n",
    "grid = GridSearchCV(\n",
    "    RandomForestRegressor(random_state=42),\n",
    "    param_grid=params,\n",
    "    cv=5,\n",
    "    scoring='r2',\n",
    "    n_jobs=-1\n",
    ")\n",
    "grid.fit(X_train, y_train_log)\n",
    "\n",
    "best_model = grid.best_estimator_\n",
    "\n",
    "# ✅ Step 4: Predict and reverse the log transformation\n",
    "y_pred_log = best_model.predict(X_test)\n",
    "y_pred = np.expm1(y_pred_log)  # Reverse log1p\n",
    "\n",
    "# ✅ Step 5: Evaluate on original scale\n",
    "r2 = r2_score(y_test, y_pred)\n",
    "mse = mean_squared_error(y_test, y_pred)\n",
    "mape = np.mean(np.abs((y_test - y_pred) / y_test)) * 100\n",
    "\n",
    "# ✅ Step 6: Print results\n",
    "print(\"Log-Transformed Random Forest Evaluation Metrics:\")\n",
    "print(f\"R²   (R-squared):              {r2:.4f}\")\n",
    "print(f\"MSE  (Mean Squared Error):     {mse:.2f}\")\n",
    "print(f\"MAPE (Mean Absolute % Error):  {mape:.2f}%\")\n"
   ]
  },
  {
   "cell_type": "code",
   "execution_count": 7,
   "id": "383a482b",
   "metadata": {},
   "outputs": [],
   "source": [
    "# Show all rows and columns\n",
    "pd.set_option('display.max_rows', None)\n",
    "pd.set_option('display.max_columns', None)"
   ]
  },
  {
   "cell_type": "code",
   "execution_count": 9,
   "id": "b3367a0b",
   "metadata": {},
   "outputs": [
    {
     "data": {
      "text/plain": [
       "<Axes: xlabel='Total_Returns_NextYear', ylabel='Count'>"
      ]
     },
     "execution_count": 9,
     "metadata": {},
     "output_type": "execute_result"
    },
    {
     "data": {
      "image/png": "[encoded data removed]",
      "text/plain": [
       "<Figure size 640x480 with 1 Axes>"
      ]
     },
     "metadata": {},
     "output_type": "display_data"
    }
   ],
   "source": [
    "import seaborn as sns\n",
    "sns.histplot(y_train, kde=True)\n"
   ]
  },
  {
   "cell_type": "code",
   "execution_count": 10,
   "id": "a83df480",
   "metadata": {},
   "outputs": [
    {
     "data": {
      "image/png": "[encoded data removed]",
      "text/plain": [
       "<Figure size 1000x600 with 1 Axes>"
      ]
     },
     "metadata": {},
     "output_type": "display_data"
    }
   ],
   "source": [
    "import matplotlib.pyplot as plt\n",
    "\n",
    "plt.figure(figsize=(10, 6))\n",
    "plt.scatter(y_test, y_pred, color='dodgerblue', edgecolor='k', alpha=0.7)\n",
    "plt.plot([y_test.min(), y_test.max()], [y_test.min(), y_test.max()], 'r--')  # Ideal line\n",
    "plt.xlabel(\"Actual Total_Returns_NextYear\")\n",
    "plt.ylabel(\"Predicted Total_Returns_NextYear\")\n",
    "plt.title(\"Actual vs Predicted - RandomForestRegressor\")\n",
    "plt.grid(True)\n",
    "plt.tight_layout()\n",
    "plt.show()\n"
   ]
  },
  {
   "cell_type": "markdown",
   "id": "8dd2a7bc",
   "metadata": {},
   "source": [
    "************************************************************************************************************"
   ]
  },
  {
   "cell_type": "markdown",
   "id": "2dc3d064",
   "metadata": {},
   "source": [
    "XGBoost Regressor"
   ]
  },
  {
   "cell_type": "code",
   "execution_count": 11,
   "id": "0c5dd058",
   "metadata": {},
   "outputs": [
    {
     "name": "stdout",
     "output_type": "stream",
     "text": [
      "XGBoost Evaluation Metrics:\n",
      "R²   (R-squared):              -0.1194\n",
      "MSE  (Mean Squared Error):     26183788053661.45\n",
      "MAPE (Mean Absolute % Error):  43.69%\n"
     ]
    }
   ],
   "source": [
    "import pandas as pd\n",
    "from xgboost import XGBRegressor\n",
    "from sklearn.metrics import r2_score, mean_squared_error\n",
    "import numpy as np\n",
    "import matplotlib.pyplot as plt\n",
    "\n",
    "# File paths\n",
    "train_path = r\"C:\\Users\\MuriloFarias\\Desktop\\NNS-JULIA\\PredictSalmonRuns\\murilo_salmon\\BristolBay\\FIRST_APPROACH\\data_train_encoded.csv\"\n",
    "test_path = r\"C:\\Users\\MuriloFarias\\Desktop\\NNS-JULIA\\PredictSalmonRuns\\murilo_salmon\\BristolBay\\FIRST_APPROACH\\data_test_encoded.csv\"\n",
    "\n",
    "# Load datasets\n",
    "train_loaded = pd.read_csv(train_path)\n",
    "test_loaded = pd.read_csv(test_path)\n",
    "\n",
    "X_train = train_loaded.drop('Total_Returns_NextYear', axis=1)\n",
    "y_train = train_loaded['Total_Returns_NextYear']\n",
    "\n",
    "X_test = test_loaded.drop('Total_Returns_NextYear', axis=1)\n",
    "y_test = test_loaded['Total_Returns_NextYear']\n",
    "\n",
    "# Step 1: Train XGBoost Regressor\n",
    "xgb_model = XGBRegressor(objective='reg:squarederror', random_state=42)\n",
    "xgb_model.fit(X_train, y_train)\n",
    "\n",
    "# Step 2: Predict\n",
    "y_pred = xgb_model.predict(X_test)\n",
    "\n",
    "# Step 3: Evaluate\n",
    "r2 = r2_score(y_test, y_pred)\n",
    "mse = mean_squared_error(y_test, y_pred)\n",
    "mape = np.mean(np.abs((y_test - y_pred) / y_test)) * 100\n",
    "\n",
    "# Step 4: Print results\n",
    "print(\"XGBoost Evaluation Metrics:\")\n",
    "print(f\"R²   (R-squared):              {r2:.4f}\")\n",
    "print(f\"MSE  (Mean Squared Error):     {mse:.2f}\")\n",
    "print(f\"MAPE (Mean Absolute % Error):  {mape:.2f}%\")"
   ]
  }
 ],
 "metadata": {
  "kernelspec": {
   "display_name": "Python 3",
   "language": "python",
   "name": "python3"
  },
  "language_info": {
   "codemirror_mode": {
    "name": "ipython",
    "version": 3
   },
   "file_extension": ".py",
   "mimetype": "text/x-python",
   "name": "python",
   "nbconvert_exporter": "python",
   "pygments_lexer": "ipython3",
   "version": "3.10.0"
  }
 },
 "nbformat": 4,
 "nbformat_minor": 5
}
