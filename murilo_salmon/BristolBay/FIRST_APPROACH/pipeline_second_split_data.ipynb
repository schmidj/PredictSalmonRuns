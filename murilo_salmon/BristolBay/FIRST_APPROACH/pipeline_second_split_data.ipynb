{
 "cells": [
  {
   "cell_type": "markdown",
   "id": "a5ab39f4",
   "metadata": {},
   "source": [
    "data_set_bristol_encoded >> data_train.to_csv\n",
    "                            data_test.to_csv"
   ]
  },
  {
   "cell_type": "code",
   "execution_count": 1,
   "id": "8264c6d9",
   "metadata": {},
   "outputs": [],
   "source": [
    "import pandas as pd\n",
    "import os\n",
    "import sys\n",
    "\n",
    "# Add the path to your custom module\n",
    "sys.path.append(r\"C:\\Users\\MuriloFarias\\Desktop\\NNS-JULIA\\PredictSalmonRuns\\src\")"
   ]
  },
  {
   "cell_type": "code",
   "execution_count": 2,
   "id": "04cb0cd8",
   "metadata": {},
   "outputs": [],
   "source": [
    "#Import the custom function\n",
    "from data_split import split_time_series_by_river"
   ]
  },
  {
   "cell_type": "code",
   "execution_count": 3,
   "id": "f5b0e8a7",
   "metadata": {},
   "outputs": [],
   "source": [
    "#Load full dataset\n",
    "file_path = r\"C:\\Users\\MuriloFarias\\Desktop\\NNS-JULIA\\PredictSalmonRuns\\murilo_salmon\\BristolBay\\FIRST_APPROACH\\data_set_bristol_encoded.csv\"\n",
    "df = pd.read_csv(file_path)\n",
    "\n"
   ]
  },
  {
   "cell_type": "code",
   "execution_count": 4,
   "id": "775cb168",
   "metadata": {},
   "outputs": [],
   "source": [
    "# Call custom group-aware split function\n",
    "data_train, data_test = split_time_series_by_river(\n",
    "    df,\n",
    "    time_column=\"Year\",\n",
    "    group_columns=[\"River\"],  # Adjust if needed\n",
    "    test_fraction=0.2,\n",
    "    gap_years=0\n",
    ")"
   ]
  },
  {
   "cell_type": "code",
   "execution_count": 5,
   "id": "f4c04889",
   "metadata": {},
   "outputs": [
    {
     "name": "stdout",
     "output_type": "stream",
     "text": [
      "✅ Train set saved to: C:\\Users\\MuriloFarias\\Desktop\\NNS-JULIA\\PredictSalmonRuns\\murilo_salmon\\BristolBay\\FIRST_APPROACH\\data_train.csv\n",
      "✅ Test set saved to: C:\\Users\\MuriloFarias\\Desktop\\NNS-JULIA\\PredictSalmonRuns\\murilo_salmon\\BristolBay\\FIRST_APPROACH\\data_test.csv\n"
     ]
    }
   ],
   "source": [
    "\n",
    "#Save split files\n",
    "save_dir = r\"C:\\Users\\MuriloFarias\\Desktop\\NNS-JULIA\\PredictSalmonRuns\\murilo_salmon\\BristolBay\\FIRST_APPROACH\"\n",
    "os.makedirs(save_dir, exist_ok=True)\n",
    "\n",
    "train_path = os.path.join(save_dir, \"data_train.csv\")\n",
    "test_path = os.path.join(save_dir, \"data_test.csv\")\n",
    "\n",
    "data_train.to_csv(train_path, index=False)\n",
    "data_test.to_csv(test_path, index=False)\n",
    "\n",
    "print(f\"✅ Train set saved to: {train_path}\")\n",
    "print(f\"✅ Test set saved to: {test_path}\")\n"
   ]
  },
  {
   "cell_type": "markdown",
   "id": "1d1a8853",
   "metadata": {},
   "source": [
    "Checking"
   ]
  },
  {
   "cell_type": "code",
   "execution_count": 6,
   "id": "c3f03328",
   "metadata": {},
   "outputs": [
    {
     "name": "stdout",
     "output_type": "stream",
     "text": [
      "Train set shape: 392\n",
      "teste set shape: 96\n",
      "original set shape: 488\n",
      "Difference in number of rows: 0\n"
     ]
    }
   ],
   "source": [
    "train = data_train.shape[0]\n",
    "teste = data_test.shape[0]\n",
    "original = df.shape[0]\n",
    "print(\"Train set shape:\", train)\n",
    "print(\"teste set shape:\", teste)\n",
    "print(\"original set shape:\", original)\n",
    "\n",
    "dif = original - (train + teste)\n",
    "print(f\"Difference in number of rows: {dif}\")"
   ]
  }
 ],
 "metadata": {
  "kernelspec": {
   "display_name": "Python 3",
   "language": "python",
   "name": "python3"
  },
  "language_info": {
   "codemirror_mode": {
    "name": "ipython",
    "version": 3
   },
   "file_extension": ".py",
   "mimetype": "text/x-python",
   "name": "python",
   "nbconvert_exporter": "python",
   "pygments_lexer": "ipython3",
   "version": "3.10.0"
  }
 },
 "nbformat": 4,
 "nbformat_minor": 5
}
