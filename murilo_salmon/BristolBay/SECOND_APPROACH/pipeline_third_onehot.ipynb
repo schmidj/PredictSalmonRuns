{
 "cells": [
  {
   "cell_type": "code",
   "execution_count": 1,
   "id": "e97bad4b",
   "metadata": {},
   "outputs": [],
   "source": [
    "import pandas as pd\n",
    "import sys"
   ]
  },
  {
   "cell_type": "code",
   "execution_count": 2,
   "id": "db6a421f",
   "metadata": {},
   "outputs": [
    {
     "name": "stdout",
     "output_type": "stream",
     "text": [
      " Encoded train saved to: C:\\Users\\MuriloFarias\\Desktop\\NNS-JULIA\\PredictSalmonRuns\\murilo_salmon\\BristolBay\\SECOND_APPROACH\\data_train_encoded.csv\n",
      " Encoded test saved to: C:\\Users\\MuriloFarias\\Desktop\\NNS-JULIA\\PredictSalmonRuns\\murilo_salmon\\BristolBay\\SECOND_APPROACH\\data_test_encoded.csv\n"
     ]
    }
   ],
   "source": [
    "\n",
    "# Load the saved train/test\n",
    "train_path = r\"C:\\Users\\MuriloFarias\\Desktop\\NNS-JULIA\\PredictSalmonRuns\\murilo_salmon\\BristolBay\\SECOND_APPROACH\\data_train.csv\"\n",
    "test_path = r\"C:\\Users\\MuriloFarias\\Desktop\\NNS-JULIA\\PredictSalmonRuns\\murilo_salmon\\BristolBay\\SECOND_APPROACH\\data_test.csv\"\n",
    "\n",
    "data_train = pd.read_csv(train_path)\n",
    "data_test = pd.read_csv(test_path)\n",
    "\n",
    "# Combine temporarily to ensure consistent one-hot columns\n",
    "combined = pd.concat([data_train, data_test], axis=0)\n",
    "\n",
    "# One-hot encode 'River' (and 'System' if you want)\n",
    "combined_encoded = pd.get_dummies(combined, columns=['River'], prefix='River')\n",
    "\n",
    "# Force dummy columns to be 0/1\n",
    "combined_encoded = combined_encoded.astype({col: 'int' for col in combined_encoded.columns if col.startswith('River_')})\n",
    "\n",
    "# Split back into train/test based on original lengths\n",
    "data_train_encoded = combined_encoded.iloc[:len(data_train)].reset_index(drop=True)\n",
    "data_test_encoded = combined_encoded.iloc[len(data_train):].reset_index(drop=True)\n",
    "\n",
    "# Save paths\n",
    "train_encoded_path = train_path.replace(\"data_train.csv\", \"data_train_encoded.csv\")\n",
    "test_encoded_path = test_path.replace(\"data_test.csv\", \"data_test_encoded.csv\")\n",
    "\n",
    "data_train_encoded.to_csv(train_encoded_path, index=False)\n",
    "data_test_encoded.to_csv(test_encoded_path, index=False)\n",
    "\n",
    "print(f\" Encoded train saved to: {train_encoded_path}\")\n",
    "print(f\" Encoded test saved to: {test_encoded_path}\")\n"
   ]
  },
  {
   "cell_type": "code",
   "execution_count": 3,
   "id": "2b931bc4",
   "metadata": {},
   "outputs": [
    {
     "name": "stdout",
     "output_type": "stream",
     "text": [
      "Train set shape: 224\n",
      "teste set shape: 56\n",
      "original set shape: 280\n",
      "Difference in number of rows: 0\n"
     ]
    }
   ],
   "source": [
    "#Load full dataset\n",
    "file_path = r\"C:\\Users\\MuriloFarias\\Desktop\\NNS-JULIA\\PredictSalmonRuns\\murilo_salmon\\BristolBay\\SECOND_APPROACH\\data_set_bristol_encoded.csv\"\n",
    "original = pd.read_csv(file_path)\n",
    "\n",
    "train = data_train_encoded.shape[0]\n",
    "teste = data_test_encoded.shape[0]\n",
    "original = original.shape[0]\n",
    "print(\"Train set shape:\", train)\n",
    "print(\"teste set shape:\", teste)\n",
    "print(\"original set shape:\", original)\n",
    "\n",
    "dif = original - (train + teste)\n",
    "print(f\"Difference in number of rows: {dif}\")"
   ]
  }
 ],
 "metadata": {
  "kernelspec": {
   "display_name": "Python 3",
   "language": "python",
   "name": "python3"
  },
  "language_info": {
   "codemirror_mode": {
    "name": "ipython",
    "version": 3
   },
   "file_extension": ".py",
   "mimetype": "text/x-python",
   "name": "python",
   "nbconvert_exporter": "python",
   "pygments_lexer": "ipython3",
   "version": "3.10.0"
  }
 },
 "nbformat": 4,
 "nbformat_minor": 5
}
