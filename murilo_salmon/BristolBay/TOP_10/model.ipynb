{
 "cells": [
  {
   "cell_type": "markdown",
   "id": "c092bbc3",
   "metadata": {},
   "source": [
    "Using top 10\n",
    "Linear Regression -- BEST ONE 🏆\n",
    "R²   (R-squared):              0.7781 closer to 1.0 = better\n",
    "MSE  (Mean Squared Error):     7683495435762.19\n",
    "MAPE (Mean Absolute % Error):  115.26% lower is better\n",
    "\n",
    "\n",
    "Gradient Boosting Evaluation Metrics:\n",
    "R²   (R-squared):              0.3722 closer to 1.0 = better\n",
    "MSE  (Mean Squared Error):     21742369720446.80\n",
    "MAPE (Mean Absolute % Error):  82.31% lower is better\n",
    "\n",
    "Polynomial Regression Evaluation Metrics:\n",
    "R²   (R-squared):              0.4172 closer to 1.0 = better\n",
    "MSE  (Mean Squared Error):     20184793605900.50\n",
    "MAPE (Mean Absolute % Error):  80.24% lower is better\n",
    "\n",
    "Random Forest Evaluation Metrics:\n",
    "R²   (R-squared):              0.3747 closer to 1.0 = better\n",
    "MSE  (Mean Squared Error):     21654956313076.23\n",
    "MAPE (Mean Absolute % Error):  93.36% lower is better\n",
    "\n",
    "XGBoost Evaluation Metrics:\n",
    "R²   (R-squared):              0.2721 closer to 1.0 = better\n",
    "MSE  (Mean Squared Error):     25210794575364.80\n",
    "MAPE (Mean Absolute % Error):  80.15% lower is better"
   ]
  },
  {
   "cell_type": "markdown",
   "id": "953f6bfa",
   "metadata": {},
   "source": [
    "GradientBoostingRegressor"
   ]
  },
  {
   "cell_type": "code",
   "execution_count": null,
   "id": "eb3f6bf3",
   "metadata": {},
   "outputs": [],
   "source": [
    "import pandas as pd\n",
    "from sklearn.ensemble import GradientBoostingRegressor\n",
    "from sklearn.metrics import mean_absolute_error, mean_squared_error, r2_score\n",
    "import numpy as np\n",
    "\n",
    "# File paths\n",
    "train_path = r\"C:\\Users\\MuriloFarias\\Desktop\\NNS-JULIA\\PredictSalmonRuns\\murilo_salmon\\BristolBay\\TOP_10\\top_10_train.csv\"\n",
    "test_path = r\"C:\\Users\\MuriloFarias\\Desktop\\NNS-JULIA\\PredictSalmonRuns\\murilo_salmon\\BristolBay\\TOP_10\\top_10_test.csv\"\n",
    "\n",
    "# Load datasets\n",
    "top_10_train_loaded = pd.read_csv(train_path)\n",
    "top_10_test_loaded = pd.read_csv(test_path)\n",
    "\n",
    "X_train = top_10_train_loaded.drop('Total_Returns_NextYear', axis=1)\n",
    "y_train = top_10_train_loaded['Total_Returns_NextYear']\n",
    "\n",
    "X_test = top_10_test_loaded.drop('Total_Returns_NextYear', axis=1)\n",
    "y_test = top_10_test_loaded['Total_Returns_NextYear']\n",
    "\n",
    "gbr = GradientBoostingRegressor(\n",
    "    n_estimators=200, \n",
    "    learning_rate=0.05, \n",
    "    max_depth=4, \n",
    "    random_state=42\n",
    ")\n",
    "# Step 2: Train the model\n",
    "gbr.fit(X_train, y_train)\n",
    "# Step 3: Predict on test data\n",
    "y_pred = gbr.predict(X_test)\n",
    "# Evaluate\n",
    "r2 = r2_score(y_test, y_pred)\n",
    "mse = mean_squared_error(y_test, y_pred)\n",
    "mape = np.mean(np.abs((y_test - y_pred) / y_test)) * 100  # In %\n",
    "\n",
    "# Print results\n",
    "print(\"Gradient Boosting Evaluation Metrics:\")\n",
    "print(f\"R²   (R-squared):              {r2:.4f}\")\n",
    "print(f\"MSE  (Mean Squared Error):     {mse:.2f}\")\n",
    "print(f\"MAPE (Mean Absolute % Error):  {mape:.2f}%\")"
   ]
  },
  {
   "cell_type": "markdown",
   "id": "1b6f2ee7",
   "metadata": {},
   "source": [
    "****************************************************************"
   ]
  },
  {
   "cell_type": "markdown",
   "id": "cc7b7b15",
   "metadata": {},
   "source": [
    "Polynomial Regression"
   ]
  },
  {
   "cell_type": "code",
   "execution_count": 1,
   "id": "43d72ef9",
   "metadata": {},
   "outputs": [
    {
     "name": "stdout",
     "output_type": "stream",
     "text": [
      "Polynomial Regression Evaluation Metrics:\n",
      "R²   (R-squared):              0.4172\n",
      "MSE  (Mean Squared Error):     20184793605900.50\n",
      "MAPE (Mean Absolute % Error):  80.24%\n"
     ]
    }
   ],
   "source": [
    "import pandas as pd\n",
    "from sklearn.preprocessing import PolynomialFeatures\n",
    "from sklearn.linear_model import LinearRegression\n",
    "from sklearn.metrics import r2_score, mean_squared_error\n",
    "import numpy as np\n",
    "\n",
    "# File paths\n",
    "train_path = r\"C:\\Users\\MuriloFarias\\Desktop\\NNS-JULIA\\PredictSalmonRuns\\murilo_salmon\\BristolBay\\TOP_10\\top_10_train.csv\"\n",
    "test_path = r\"C:\\Users\\MuriloFarias\\Desktop\\NNS-JULIA\\PredictSalmonRuns\\murilo_salmon\\BristolBay\\TOP_10\\top_10_test.csv\"\n",
    "\n",
    "# Load datasets\n",
    "top_10_train_loaded = pd.read_csv(train_path)\n",
    "top_10_test_loaded = pd.read_csv(test_path)\n",
    "\n",
    "X_train = top_10_train_loaded.drop('Total_Returns_NextYear', axis=1)\n",
    "y_train = top_10_train_loaded['Total_Returns_NextYear']\n",
    "\n",
    "X_test = top_10_test_loaded.drop('Total_Returns_NextYear', axis=1)\n",
    "y_test = top_10_test_loaded['Total_Returns_NextYear']\n",
    "\n",
    "# Step 1: Create polynomial features (degree=2 is a good start)\n",
    "poly = PolynomialFeatures(degree=2, include_bias=False)\n",
    "X_train_poly = poly.fit_transform(X_train)\n",
    "X_test_poly = poly.transform(X_test)\n",
    "\n",
    "# Step 2: Train Linear Regression on the transformed features\n",
    "model = LinearRegression()\n",
    "model.fit(X_train_poly, y_train)\n",
    "\n",
    "# Step 3: Predict\n",
    "y_pred = model.predict(X_test_poly)\n",
    "\n",
    "# Step 4: Evaluate\n",
    "r2 = r2_score(y_test, y_pred)\n",
    "mse = mean_squared_error(y_test, y_pred)\n",
    "mape = np.mean(np.abs((y_test - y_pred) / y_test)) * 100\n",
    "\n",
    "# Step 5: Print results\n",
    "print(\"Polynomial Regression Evaluation Metrics:\")\n",
    "print(f\"R²   (R-squared):              {r2:.4f}\")\n",
    "print(f\"MSE  (Mean Squared Error):     {mse:.2f}\")\n",
    "print(f\"MAPE (Mean Absolute % Error):  {mape:.2f}%\")"
   ]
  },
  {
   "cell_type": "markdown",
   "id": "da7a03b3",
   "metadata": {},
   "source": [
    "***************************************************************************************"
   ]
  },
  {
   "cell_type": "markdown",
   "id": "5365b4f3",
   "metadata": {},
   "source": [
    "Linear Regression"
   ]
  },
  {
   "cell_type": "code",
   "execution_count": 1,
   "id": "a29080b0",
   "metadata": {},
   "outputs": [
    {
     "name": "stdout",
     "output_type": "stream",
     "text": [
      "Linear Regression Evaluation Metrics:\n",
      "R²   (R-squared):              0.7781\n",
      "MSE  (Mean Squared Error):     7683495435762.19\n",
      "MAPE (Mean Absolute % Error):  115.26%\n"
     ]
    }
   ],
   "source": [
    "import pandas as pd\n",
    "from sklearn.linear_model import LinearRegression\n",
    "from sklearn.metrics import r2_score, mean_squared_error\n",
    "import numpy as np\n",
    "import matplotlib.pyplot as plt\n",
    "\n",
    "# File paths\n",
    "train_path = r\"C:\\Users\\MuriloFarias\\Desktop\\NNS-JULIA\\PredictSalmonRuns\\murilo_salmon\\BristolBay\\TOP_10\\top_10_train.csv\"\n",
    "test_path = r\"C:\\Users\\MuriloFarias\\Desktop\\NNS-JULIA\\PredictSalmonRuns\\murilo_salmon\\BristolBay\\TOP_10\\top_10_test.csv\"\n",
    "\n",
    "# Load datasets\n",
    "top_10_train_loaded = pd.read_csv(train_path)\n",
    "top_10_test_loaded = pd.read_csv(test_path)\n",
    "\n",
    "X_train = top_10_train_loaded.drop('Total_Returns_NextYear', axis=1)\n",
    "y_train = top_10_train_loaded['Total_Returns_NextYear']\n",
    "\n",
    "X_test = top_10_test_loaded.drop('Total_Returns_NextYear', axis=1)\n",
    "y_test = top_10_test_loaded['Total_Returns_NextYear']\n",
    "\n",
    "\n",
    "# Step 1: Train model\n",
    "model = LinearRegression()\n",
    "model.fit(X_train, y_train)\n",
    "\n",
    "# Step 2: Predict\n",
    "y_pred = model.predict(X_test)\n",
    "\n",
    "# Step 3: Evaluate\n",
    "r2 = r2_score(y_test, y_pred)\n",
    "mse = mean_squared_error(y_test, y_pred)\n",
    "mape = np.mean(np.abs((y_test - y_pred) / y_test)) * 100\n",
    "\n",
    "# Step 4: Print metrics\n",
    "print(\"Linear Regression Evaluation Metrics:\")\n",
    "print(f\"R²   (R-squared):              {r2:.4f}\")\n",
    "print(f\"MSE  (Mean Squared Error):     {mse:.2f}\")\n",
    "print(f\"MAPE (Mean Absolute % Error):  {mape:.2f}%\")"
   ]
  },
  {
   "cell_type": "markdown",
   "id": "ba864567",
   "metadata": {},
   "source": [
    "************************************************************************************"
   ]
  },
  {
   "cell_type": "markdown",
   "id": "360a185c",
   "metadata": {},
   "source": [
    "Random Forest model"
   ]
  },
  {
   "cell_type": "code",
   "execution_count": null,
   "id": "76f318ec",
   "metadata": {},
   "outputs": [],
   "source": [
    "import pandas as pd\n",
    "from sklearn.ensemble import RandomForestRegressor\n",
    "from sklearn.metrics import r2_score, mean_squared_error\n",
    "import numpy as np\n",
    "import matplotlib.pyplot as plt\n",
    "\n",
    "# File paths\n",
    "train_path = r\"C:\\Users\\MuriloFarias\\Desktop\\NNS-JULIA\\PredictSalmonRuns\\murilo_salmon\\BristolBay\\TOP_10\\top_10_train.csv\"\n",
    "test_path = r\"C:\\Users\\MuriloFarias\\Desktop\\NNS-JULIA\\PredictSalmonRuns\\murilo_salmon\\BristolBay\\TOP_10\\top_10_test.csv\"\n",
    "\n",
    "# Load datasets\n",
    "top_10_train_loaded = pd.read_csv(train_path)\n",
    "top_10_test_loaded = pd.read_csv(test_path)\n",
    "\n",
    "X_train = top_10_train_loaded.drop('Total_Returns_NextYear', axis=1)\n",
    "y_train = top_10_train_loaded['Total_Returns_NextYear']\n",
    "\n",
    "X_test = top_10_test_loaded.drop('Total_Returns_NextYear', axis=1)\n",
    "y_test = top_10_test_loaded['Total_Returns_NextYear']\n",
    "\n",
    "# Step 1: Train the model\n",
    "rf = RandomForestRegressor(n_estimators=100, random_state=42)\n",
    "rf.fit(X_train, y_train)\n",
    "\n",
    "# Step 2: Predict\n",
    "y_pred = rf.predict(X_test)\n",
    "\n",
    "# Step 3: Evaluate\n",
    "r2 = r2_score(y_test, y_pred)\n",
    "mse = mean_squared_error(y_test, y_pred)\n",
    "mape = np.mean(np.abs((y_test - y_pred) / y_test)) * 100\n",
    "\n",
    "# Step 4: Print results\n",
    "print(\"Random Forest Evaluation Metrics:\")\n",
    "print(f\"R²   (R-squared):              {r2:.4f}\")\n",
    "print(f\"MSE  (Mean Squared Error):     {mse:.2f}\")\n",
    "print(f\"MAPE (Mean Absolute % Error):  {mape:.2f}%\")"
   ]
  },
  {
   "cell_type": "markdown",
   "id": "bd865052",
   "metadata": {},
   "source": [
    "*************************************************************************************"
   ]
  },
  {
   "cell_type": "markdown",
   "id": "517a54ed",
   "metadata": {},
   "source": [
    "XGBoost Regressor"
   ]
  },
  {
   "cell_type": "code",
   "execution_count": null,
   "id": "289c7039",
   "metadata": {},
   "outputs": [],
   "source": [
    "import pandas as pd\n",
    "from xgboost import XGBRegressor\n",
    "from sklearn.metrics import r2_score, mean_squared_error\n",
    "import numpy as np\n",
    "import matplotlib.pyplot as plt\n",
    "# File paths\n",
    "train_path = r\"C:\\Users\\MuriloFarias\\Desktop\\NNS-JULIA\\PredictSalmonRuns\\murilo_salmon\\BristolBay\\TOP_10\\top_10_train.csv\"\n",
    "test_path = r\"C:\\Users\\MuriloFarias\\Desktop\\NNS-JULIA\\PredictSalmonRuns\\murilo_salmon\\BristolBay\\TOP_10\\top_10_test.csv\"\n",
    "\n",
    "# Load datasets\n",
    "top_10_train_loaded = pd.read_csv(train_path)\n",
    "top_10_test_loaded = pd.read_csv(test_path)\n",
    "\n",
    "X_train = top_10_train_loaded.drop('Total_Returns_NextYear', axis=1)\n",
    "y_train = top_10_train_loaded['Total_Returns_NextYear']\n",
    "\n",
    "X_test = top_10_test_loaded.drop('Total_Returns_NextYear', axis=1)\n",
    "y_test = top_10_test_loaded['Total_Returns_NextYear']\n",
    "\n",
    "# Step 1: Train XGBoost Regressor\n",
    "xgb_model = XGBRegressor(objective='reg:squarederror', random_state=42)\n",
    "xgb_model.fit(X_train, y_train)\n",
    "\n",
    "# Step 2: Predict\n",
    "y_pred = xgb_model.predict(X_test)\n",
    "\n",
    "# Step 3: Evaluate\n",
    "r2 = r2_score(y_test, y_pred)\n",
    "mse = mean_squared_error(y_test, y_pred)\n",
    "mape = np.mean(np.abs((y_test - y_pred) / y_test)) * 100\n",
    "\n",
    "# Step 4: Print results\n",
    "print(\"XGBoost Evaluation Metrics:\")\n",
    "print(f\"R²   (R-squared):              {r2:.4f}\")\n",
    "print(f\"MSE  (Mean Squared Error):     {mse:.2f}\")\n",
    "print(f\"MAPE (Mean Absolute % Error):  {mape:.2f}%\")"
   ]
  }
 ],
 "metadata": {
  "kernelspec": {
   "display_name": "Python 3",
   "language": "python",
   "name": "python3"
  },
  "language_info": {
   "codemirror_mode": {
    "name": "ipython",
    "version": 3
   },
   "file_extension": ".py",
   "mimetype": "text/x-python",
   "name": "python",
   "nbconvert_exporter": "python",
   "pygments_lexer": "ipython3",
   "version": "3.10.0"
  }
 },
 "nbformat": 4,
 "nbformat_minor": 5
}
