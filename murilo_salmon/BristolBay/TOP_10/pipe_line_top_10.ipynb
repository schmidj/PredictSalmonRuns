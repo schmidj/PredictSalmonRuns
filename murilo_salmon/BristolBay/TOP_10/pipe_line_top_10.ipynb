{
 "cells": [
  {
   "cell_type": "code",
   "execution_count": 6,
   "id": "0654f524",
   "metadata": {},
   "outputs": [],
   "source": [
    "import pandas as pd\n",
    "\n",
    "file_path = r\"C:\\Users\\MuriloFarias\\Desktop\\NNS-JULIA\\PredictSalmonRuns\\murilo_salmon\\BristolBay\\data_set_bristol_encoded.csv\"\n",
    "pipe_line_top_10 = pd.read_csv(file_path)\n"
   ]
  },
  {
   "cell_type": "code",
   "execution_count": 7,
   "id": "b1f3fd2d",
   "metadata": {},
   "outputs": [],
   "source": [
    "# 1. Calculate correlation matrix\n",
    "corr_matrix = pipe_line_top_10.corr(numeric_only=True)\n",
    "# 2. Get correlation of all features with the target\n",
    "target_corr = corr_matrix['Total_Returns_NextYear'].drop('Total_Returns_NextYear')\n",
    "\n",
    "# 3. Sort by absolute correlation (descending) and print\n",
    "target_corr_sorted = target_corr.reindex(target_corr.abs().sort_values(ascending=False).index)"
   ]
  },
  {
   "cell_type": "code",
   "execution_count": 8,
   "id": "4a5520ee",
   "metadata": {},
   "outputs": [],
   "source": [
    "# Step 1: Sort by Year\n",
    "pipe_line_top_10_sorted = pipe_line_top_10.sort_values(by='Year').reset_index(drop=True)\n",
    "\n",
    "# Step 2: Get top 5 most correlated column names\n",
    "top_10_features = target_corr_sorted.head(10).index.tolist()\n",
    "\n",
    "# Step 3: Keep only top 5 features + target column\n",
    "pipe_line_top_10_filtered = pipe_line_top_10_sorted[top_10_features + ['Total_Returns_NextYear']]"
   ]
  },
  {
   "cell_type": "code",
   "execution_count": 10,
   "id": "03d50d52",
   "metadata": {},
   "outputs": [
    {
     "name": "stdout",
     "output_type": "stream",
     "text": [
      "Train set saved to: C:\\Users\\MuriloFarias\\Desktop\\NNS-JULIA\\PredictSalmonRuns\\murilo_salmon\\BristolBay\\TOP_10\\top_10_train.csv\n",
      "Test set saved to: C:\\Users\\MuriloFarias\\Desktop\\NNS-JULIA\\PredictSalmonRuns\\murilo_salmon\\BristolBay\\TOP_10\\top_10_test.csv\n"
     ]
    }
   ],
   "source": [
    "from sklearn.model_selection import train_test_split\n",
    "import os\n",
    "\n",
    "# Split into 80% train, 20% test\n",
    "top_10_train, top_10_test = train_test_split(\n",
    "    pipe_line_top_10_filtered, test_size=0.2, random_state=42\n",
    ")\n",
    "\n",
    "# Paths to save files\n",
    "save_dir = r\"C:\\Users\\MuriloFarias\\Desktop\\NNS-JULIA\\PredictSalmonRuns\\murilo_salmon\\BristolBay\\TOP_10\"\n",
    "os.makedirs(save_dir, exist_ok=True)\n",
    "\n",
    "train_path = os.path.join(save_dir, \"top_10_train.csv\")\n",
    "test_path = os.path.join(save_dir, \"top_10_test.csv\")\n",
    "\n",
    "# Save CSV files\n",
    "top_10_train.to_csv(train_path, index=False)\n",
    "top_10_test.to_csv(test_path, index=False)\n",
    "\n",
    "print(f\"Train set saved to: {train_path}\")\n",
    "print(f\"Test set saved to: {test_path}\")\n"
   ]
  },
  {
   "cell_type": "code",
   "execution_count": 11,
   "id": "a6e26ebd",
   "metadata": {},
   "outputs": [],
   "source": [
    "import pandas as pd\n",
    "\n",
    "# File paths\n",
    "train_path = r\"C:\\Users\\MuriloFarias\\Desktop\\NNS-JULIA\\PredictSalmonRuns\\murilo_salmon\\BristolBay\\TOP_10\\top_10_train.csv\"\n",
    "test_path = r\"C:\\Users\\MuriloFarias\\Desktop\\NNS-JULIA\\PredictSalmonRuns\\murilo_salmon\\BristolBay\\TOP_10\\top_10_test.csv\"\n",
    "\n",
    "# Load datasets\n",
    "top_10_train_loaded = pd.read_csv(train_path)\n",
    "top_10_test_loaded = pd.read_csv(test_path)\n",
    "\n"
   ]
  },
  {
   "cell_type": "code",
   "execution_count": 12,
   "id": "9086acd3",
   "metadata": {},
   "outputs": [
    {
     "name": "stdout",
     "output_type": "stream",
     "text": [
      "Difference in number of rows: 0\n"
     ]
    }
   ],
   "source": [
    "dif = pipe_line_top_10_filtered.shape[0] - (top_10_train_loaded.shape[0] + top_10_test_loaded.shape[0])\n",
    "print(f\"Difference in number of rows: {dif}\")"
   ]
  },
  {
   "cell_type": "markdown",
   "id": "1c5d0b8c",
   "metadata": {},
   "source": [
    "next step to train some model\n",
    "\n",
    "# Split features and target\n",
    "X_train = top_5_train_loaded.drop('Total_Returns_NextYear', axis=1)\n",
    "y_train = top_5_train_loaded['Total_Returns_NextYear']\n",
    "\n",
    "X_test = top_5_test_loaded.drop('Total_Returns_NextYear', axis=1)\n",
    "y_test = top_5_test_loaded['Total_Returns_NextYear']"
   ]
  }
 ],
 "metadata": {
  "kernelspec": {
   "display_name": "Python 3",
   "language": "python",
   "name": "python3"
  },
  "language_info": {
   "codemirror_mode": {
    "name": "ipython",
    "version": 3
   },
   "file_extension": ".py",
   "mimetype": "text/x-python",
   "name": "python",
   "nbconvert_exporter": "python",
   "pygments_lexer": "ipython3",
   "version": "3.10.0"
  }
 },
 "nbformat": 4,
 "nbformat_minor": 5
}
