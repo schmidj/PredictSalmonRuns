{
 "cells": [
  {
   "cell_type": "markdown",
   "id": "2887673e",
   "metadata": {},
   "source": [
    "Uploading the original data because we do have missing values before split"
   ]
  },
  {
   "cell_type": "code",
   "execution_count": 1,
   "id": "a5319070",
   "metadata": {},
   "outputs": [],
   "source": [
    "import pandas as pd\n",
    "import os"
   ]
  },
  {
   "cell_type": "markdown",
   "id": "a0cd057e",
   "metadata": {},
   "source": [
    "uploading the dataset"
   ]
  },
  {
   "cell_type": "code",
   "execution_count": 2,
   "id": "672e0625",
   "metadata": {},
   "outputs": [],
   "source": [
    "data_set_bristol = pd.read_csv(r'C:\\Users\\MuriloFarias\\Desktop\\NNS-JULIA\\PredictSalmonRuns\\data\\BristolBay_FeatureSet_For_Model.csv')"
   ]
  },
  {
   "cell_type": "markdown",
   "id": "14bea1ca",
   "metadata": {},
   "source": [
    "check miss values"
   ]
  },
  {
   "cell_type": "code",
   "execution_count": 3,
   "id": "e3bfec5e",
   "metadata": {},
   "outputs": [
    {
     "name": "stdout",
     "output_type": "stream",
     "text": [
      "Columns with missing values:\n",
      "Pacea_ALPI_Anomaly                 8\n",
      "mei_mean_AprSep                  128\n",
      "sst_aprjul                       168\n",
      "sst_anom                         168\n",
      "total_spawners_y_minus_2_to_4     89\n",
      "Total_Spawners_BroodYear          68\n",
      "dtype: int64\n"
     ]
    }
   ],
   "source": [
    "missing_values = data_set_bristol.isnull().sum()\n",
    "missing_values = missing_values[missing_values > 0]\n",
    "\n",
    "print(\"Columns with missing values:\")\n",
    "print(missing_values)\n"
   ]
  },
  {
   "cell_type": "markdown",
   "id": "da56fcd3",
   "metadata": {},
   "source": [
    "Once the column Pacea_ALPI_Anomaly 8 is very important \n",
    "Ill fill out these values using the average per each river "
   ]
  },
  {
   "cell_type": "code",
   "execution_count": 4,
   "id": "b3701fe9",
   "metadata": {},
   "outputs": [],
   "source": [
    "data_set_bristol['Pacea_ALPI_Anomaly'] = data_set_bristol.groupby('River')['Pacea_ALPI_Anomaly']\\\n",
    "                                                      .transform(lambda x: x.fillna(x.mean()))\n"
   ]
  },
  {
   "cell_type": "markdown",
   "id": "1b326084",
   "metadata": {},
   "source": [
    "check again missing values"
   ]
  },
  {
   "cell_type": "code",
   "execution_count": 5,
   "id": "f56cf423",
   "metadata": {},
   "outputs": [
    {
     "name": "stdout",
     "output_type": "stream",
     "text": [
      "Columns with missing values:\n",
      "mei_mean_AprSep                  128\n",
      "sst_aprjul                       168\n",
      "sst_anom                         168\n",
      "total_spawners_y_minus_2_to_4     89\n",
      "Total_Spawners_BroodYear          68\n",
      "dtype: int64\n"
     ]
    }
   ],
   "source": [
    "missing_values = data_set_bristol.isnull().sum()\n",
    "missing_values = missing_values[missing_values > 0]\n",
    "\n",
    "print(\"Columns with missing values:\")\n",
    "print(missing_values)\n"
   ]
  },
  {
   "cell_type": "markdown",
   "id": "1e9b2c56",
   "metadata": {},
   "source": [
    "droping  columns that have a more than 0 of missingvalues\n",
    "droping where missing values is more than 0 and print their columns name"
   ]
  },
  {
   "cell_type": "code",
   "execution_count": 6,
   "id": "a21b6c7b",
   "metadata": {},
   "outputs": [
    {
     "name": "stdout",
     "output_type": "stream",
     "text": [
      "Dropped columns due to missing values:\n",
      "- mei_mean_AprSep\n",
      "- sst_aprjul\n",
      "- sst_anom\n",
      "- total_spawners_y_minus_2_to_4\n",
      "- Total_Spawners_BroodYear\n"
     ]
    }
   ],
   "source": [
    "# Find columns with missing values\n",
    "cols_with_missing = data_set_bristol.columns[data_set_bristol.isnull().sum() > 0].tolist()\n",
    "\n",
    "# Drop those columns\n",
    "data_set_bristol = data_set_bristol.drop(columns=cols_with_missing)\n",
    "\n",
    "# Print dropped column names\n",
    "print(\"Dropped columns due to missing values:\")\n",
    "for col in cols_with_missing:\n",
    "    print(f\"- {col}\")\n"
   ]
  },
  {
   "cell_type": "markdown",
   "id": "915d8f30",
   "metadata": {},
   "source": [
    "checking again"
   ]
  },
  {
   "cell_type": "code",
   "execution_count": 7,
   "id": "0d810a4b",
   "metadata": {},
   "outputs": [
    {
     "data": {
      "text/plain": [
       "River                     0\n",
       "Year                      0\n",
       "Total_Returns             0\n",
       "AgeClass_0.1              0\n",
       "AgeClass_0.2              0\n",
       "AgeClass_0.3              0\n",
       "AgeClass_0.4              0\n",
       "AgeClass_0.5              0\n",
       "AgeClass_1.1              0\n",
       "AgeClass_1.2              0\n",
       "AgeClass_1.3              0\n",
       "AgeClass_1.4              0\n",
       "AgeClass_1.5              0\n",
       "AgeClass_2.1              0\n",
       "AgeClass_2.2              0\n",
       "AgeClass_2.3              0\n",
       "AgeClass_2.4              0\n",
       "AgeClass_3.1              0\n",
       "AgeClass_3.2              0\n",
       "AgeClass_3.3              0\n",
       "AgeClass_3.4              0\n",
       "Total_Returns_NextYear    0\n",
       "Pacea_ALPI_Anomaly        0\n",
       "npi_mean_NovMar           0\n",
       "oni_mean_DecFeb           0\n",
       "npgo_mean_DecFeb          0\n",
       "ao_mean_DecMar            0\n",
       "pdo_mean_DecMar           0\n",
       "pdo_mean_MaySep           0\n",
       "sss_mayaug                0\n",
       "dtype: int64"
      ]
     },
     "execution_count": 7,
     "metadata": {},
     "output_type": "execute_result"
    }
   ],
   "source": [
    "data_set_bristol.isnull().sum()\n"
   ]
  },
  {
   "cell_type": "code",
   "execution_count": 8,
   "id": "682f7397",
   "metadata": {},
   "outputs": [
    {
     "name": "stdout",
     "output_type": "stream",
     "text": [
      "Columns with missing values:\n",
      "Series([], dtype: int64)\n"
     ]
    }
   ],
   "source": [
    "missing_values = data_set_bristol.isnull().sum()\n",
    "missing_values = missing_values[missing_values > 0]\n",
    "\n",
    "print(\"Columns with missing values:\")\n",
    "print(missing_values)\n"
   ]
  },
  {
   "cell_type": "markdown",
   "id": "f66eb798",
   "metadata": {},
   "source": [
    "options to allow see all dataset\n"
   ]
  },
  {
   "cell_type": "code",
   "execution_count": 9,
   "id": "6839a5d4",
   "metadata": {},
   "outputs": [],
   "source": [
    "# Show all rows and columns\n",
    "pd.set_option('display.max_rows', None)\n",
    "pd.set_option('display.max_columns', None)"
   ]
  },
  {
   "cell_type": "markdown",
   "id": "aa8ea1fd",
   "metadata": {},
   "source": [
    "Salving file"
   ]
  },
  {
   "cell_type": "code",
   "execution_count": 10,
   "id": "d27ed2b2",
   "metadata": {},
   "outputs": [],
   "source": [
    "save_path = r\"C:\\Users\\MuriloFarias\\Desktop\\NNS-JULIA\\PredictSalmonRuns\\murilo_salmon\\BristolBay\\data_set_bristol_encoded.csv\""
   ]
  },
  {
   "cell_type": "code",
   "execution_count": 11,
   "id": "512e241b",
   "metadata": {},
   "outputs": [
    {
     "name": "stdout",
     "output_type": "stream",
     "text": [
      "✅ File saved to: C:\\Users\\MuriloFarias\\Desktop\\NNS-JULIA\\PredictSalmonRuns\\murilo_salmon\\BristolBay\\data_set_bristol_encoded.csv\n"
     ]
    }
   ],
   "source": [
    "# Save the cleaned DataFrame\n",
    "data_set_bristol.to_csv(save_path, index=False)\n",
    "print(f\"✅ File saved to: {save_path}\")"
   ]
  },
  {
   "cell_type": "code",
   "execution_count": null,
   "id": "657d99d4",
   "metadata": {},
   "outputs": [],
   "source": [
    "\"\"\"\n",
    "Code for the first pipe line:\n",
    "\n",
    "data_set_bristol = pd.read_csv(r'C:\\Users\\MuriloFarias\\Desktop\\NNS-JULIA\\PredictSalmonRuns\\data\\BristolBay_FeatureSet_For_Model.csv')\n",
    "\n",
    "data_set_bristol['Pacea_ALPI_Anomaly'] = data_set_bristol.groupby('River')['Pacea_ALPI_Anomaly']\\\n",
    "                                                      .transform(lambda x: x.fillna(x.mean()))\n",
    "\n",
    "# Find columns with missing values\n",
    "cols_with_missing = data_set_bristol.columns[data_set_bristol.isnull().sum() > 0].tolist()\n",
    "\n",
    "# Drop those columns\n",
    "data_set_bristol = data_set_bristol.drop(columns=cols_with_missing)\n",
    "\n",
    "# Print dropped column names\n",
    "print(\"Dropped columns due to missing values:\")\n",
    "for col in cols_with_missing:\n",
    "    print(f\"- {col}\")\n",
    "\n",
    "save_path = r\"C:\\Users\\MuriloFarias\\Desktop\\NNS-JULIA\\PredictSalmonRuns\\murilo_salmon\\BristolBay\\data_set_bristol_encoded.csv\"\n",
    "\n",
    "\"\"\""
   ]
  }
 ],
 "metadata": {
  "kernelspec": {
   "display_name": "Python 3",
   "language": "python",
   "name": "python3"
  },
  "language_info": {
   "codemirror_mode": {
    "name": "ipython",
    "version": 3
   },
   "file_extension": ".py",
   "mimetype": "text/x-python",
   "name": "python",
   "nbconvert_exporter": "python",
   "pygments_lexer": "ipython3",
   "version": "3.10.0"
  }
 },
 "nbformat": 4,
 "nbformat_minor": 5
}
