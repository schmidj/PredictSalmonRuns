{
 "cells": [
  {
   "cell_type": "code",
   "execution_count": 1,
   "id": "533a52b4",
   "metadata": {},
   "outputs": [],
   "source": [
    "import pandas as pd\n",
    "import os"
   ]
  },
  {
   "cell_type": "markdown",
   "id": "8d9d45be",
   "metadata": {},
   "source": [
    "Loading the datset BristolBay_FeatureSet_For_Model.csv"
   ]
  },
  {
   "cell_type": "code",
   "execution_count": 2,
   "id": "1498d15e",
   "metadata": {},
   "outputs": [],
   "source": [
    "data_set_bristol = pd.read_csv(r'C:\\Users\\MuriloFarias\\Desktop\\NNS-JULIA\\PredictSalmonRuns\\data\\BristolBay_FeatureSet_For_Model.csv')"
   ]
  },
  {
   "cell_type": "markdown",
   "id": "0e7de930",
   "metadata": {},
   "source": [
    "Data Exploratory"
   ]
  },
  {
   "cell_type": "markdown",
   "id": "69ba908e",
   "metadata": {},
   "source": [
    "Checking the shape"
   ]
  },
  {
   "cell_type": "code",
   "execution_count": 3,
   "id": "515182bc",
   "metadata": {},
   "outputs": [
    {
     "data": {
      "text/plain": [
       "(488, 34)"
      ]
     },
     "execution_count": 3,
     "metadata": {},
     "output_type": "execute_result"
    }
   ],
   "source": [
    "data_set_bristol.shape"
   ]
  },
  {
   "cell_type": "markdown",
   "id": "80c56b0f",
   "metadata": {},
   "source": [
    "See the data"
   ]
  },
  {
   "cell_type": "code",
   "execution_count": 4,
   "id": "61283eaf",
   "metadata": {},
   "outputs": [
    {
     "data": {
      "text/html": [
       "<div>\n",
       "<style scoped>\n",
       "    .dataframe tbody tr th:only-of-type {\n",
       "        vertical-align: middle;\n",
       "    }\n",
       "\n",
       "    .dataframe tbody tr th {\n",
       "        vertical-align: top;\n",
       "    }\n",
       "\n",
       "    .dataframe thead th {\n",
       "        text-align: right;\n",
       "    }\n",
       "</style>\n",
       "<table border=\"1\" class=\"dataframe\">\n",
       "  <thead>\n",
       "    <tr style=\"text-align: right;\">\n",
       "      <th></th>\n",
       "      <th>River</th>\n",
       "      <th>Year</th>\n",
       "      <th>Total_Returns</th>\n",
       "      <th>AgeClass_0.1</th>\n",
       "      <th>AgeClass_0.2</th>\n",
       "      <th>AgeClass_0.3</th>\n",
       "      <th>AgeClass_0.4</th>\n",
       "      <th>AgeClass_0.5</th>\n",
       "      <th>AgeClass_1.1</th>\n",
       "      <th>AgeClass_1.2</th>\n",
       "      <th>...</th>\n",
       "      <th>oni_mean_DecFeb</th>\n",
       "      <th>mei_mean_AprSep</th>\n",
       "      <th>npgo_mean_DecFeb</th>\n",
       "      <th>ao_mean_DecMar</th>\n",
       "      <th>pdo_mean_DecMar</th>\n",
       "      <th>pdo_mean_MaySep</th>\n",
       "      <th>sst_aprjul</th>\n",
       "      <th>sst_anom</th>\n",
       "      <th>sss_mayaug</th>\n",
       "      <th>Total_Spawners_BroodYear</th>\n",
       "    </tr>\n",
       "  </thead>\n",
       "  <tbody>\n",
       "    <tr>\n",
       "      <th>0</th>\n",
       "      <td>Alagnak</td>\n",
       "      <td>1963</td>\n",
       "      <td>3.781383e+05</td>\n",
       "      <td>0.000000</td>\n",
       "      <td>0.000000</td>\n",
       "      <td>0.000000e+00</td>\n",
       "      <td>0.000000</td>\n",
       "      <td>0.000000</td>\n",
       "      <td>0.000000</td>\n",
       "      <td>3.313000e+05</td>\n",
       "      <td>...</td>\n",
       "      <td>26.003333</td>\n",
       "      <td>NaN</td>\n",
       "      <td>-0.209223</td>\n",
       "      <td>-1.25475</td>\n",
       "      <td>-0.0600</td>\n",
       "      <td>-0.580</td>\n",
       "      <td>NaN</td>\n",
       "      <td>NaN</td>\n",
       "      <td>31.649451</td>\n",
       "      <td>8.363766e+07</td>\n",
       "    </tr>\n",
       "    <tr>\n",
       "      <th>1</th>\n",
       "      <td>Alagnak</td>\n",
       "      <td>1964</td>\n",
       "      <td>7.593831e+05</td>\n",
       "      <td>0.000000</td>\n",
       "      <td>0.000140</td>\n",
       "      <td>0.000000e+00</td>\n",
       "      <td>0.000000</td>\n",
       "      <td>0.000000</td>\n",
       "      <td>4468.518531</td>\n",
       "      <td>1.213613e+05</td>\n",
       "      <td>...</td>\n",
       "      <td>27.330000</td>\n",
       "      <td>NaN</td>\n",
       "      <td>0.635470</td>\n",
       "      <td>-0.48150</td>\n",
       "      <td>0.0725</td>\n",
       "      <td>-1.456</td>\n",
       "      <td>NaN</td>\n",
       "      <td>NaN</td>\n",
       "      <td>31.806597</td>\n",
       "      <td>9.066752e+07</td>\n",
       "    </tr>\n",
       "    <tr>\n",
       "      <th>2</th>\n",
       "      <td>Alagnak</td>\n",
       "      <td>1965</td>\n",
       "      <td>3.978606e+05</td>\n",
       "      <td>0.000000</td>\n",
       "      <td>0.000000</td>\n",
       "      <td>7.270738e+02</td>\n",
       "      <td>0.000000</td>\n",
       "      <td>0.000000</td>\n",
       "      <td>11965.313972</td>\n",
       "      <td>5.029325e+04</td>\n",
       "      <td>...</td>\n",
       "      <td>25.780000</td>\n",
       "      <td>NaN</td>\n",
       "      <td>-0.708755</td>\n",
       "      <td>-1.07025</td>\n",
       "      <td>-0.5875</td>\n",
       "      <td>-0.202</td>\n",
       "      <td>NaN</td>\n",
       "      <td>NaN</td>\n",
       "      <td>31.792252</td>\n",
       "      <td>5.119336e+08</td>\n",
       "    </tr>\n",
       "    <tr>\n",
       "      <th>3</th>\n",
       "      <td>Alagnak</td>\n",
       "      <td>1966</td>\n",
       "      <td>3.940772e+05</td>\n",
       "      <td>0.000000</td>\n",
       "      <td>0.000000</td>\n",
       "      <td>1.832636e-09</td>\n",
       "      <td>0.000000</td>\n",
       "      <td>0.000000</td>\n",
       "      <td>0.000000</td>\n",
       "      <td>1.102662e+05</td>\n",
       "      <td>...</td>\n",
       "      <td>27.813333</td>\n",
       "      <td>NaN</td>\n",
       "      <td>-0.876998</td>\n",
       "      <td>-1.35450</td>\n",
       "      <td>-0.4625</td>\n",
       "      <td>-0.258</td>\n",
       "      <td>NaN</td>\n",
       "      <td>NaN</td>\n",
       "      <td>31.768258</td>\n",
       "      <td>1.393965e+08</td>\n",
       "    </tr>\n",
       "    <tr>\n",
       "      <th>4</th>\n",
       "      <td>Alagnak</td>\n",
       "      <td>1967</td>\n",
       "      <td>3.443056e+05</td>\n",
       "      <td>0.000000</td>\n",
       "      <td>0.000000</td>\n",
       "      <td>1.073499e-09</td>\n",
       "      <td>0.000000</td>\n",
       "      <td>0.000000</td>\n",
       "      <td>6377.297622</td>\n",
       "      <td>2.310019e+05</td>\n",
       "      <td>...</td>\n",
       "      <td>26.073333</td>\n",
       "      <td>NaN</td>\n",
       "      <td>-0.630369</td>\n",
       "      <td>0.29250</td>\n",
       "      <td>-0.3750</td>\n",
       "      <td>-1.220</td>\n",
       "      <td>NaN</td>\n",
       "      <td>NaN</td>\n",
       "      <td>31.952063</td>\n",
       "      <td>1.071686e+08</td>\n",
       "    </tr>\n",
       "    <tr>\n",
       "      <th>...</th>\n",
       "      <td>...</td>\n",
       "      <td>...</td>\n",
       "      <td>...</td>\n",
       "      <td>...</td>\n",
       "      <td>...</td>\n",
       "      <td>...</td>\n",
       "      <td>...</td>\n",
       "      <td>...</td>\n",
       "      <td>...</td>\n",
       "      <td>...</td>\n",
       "      <td>...</td>\n",
       "      <td>...</td>\n",
       "      <td>...</td>\n",
       "      <td>...</td>\n",
       "      <td>...</td>\n",
       "      <td>...</td>\n",
       "      <td>...</td>\n",
       "      <td>...</td>\n",
       "      <td>...</td>\n",
       "      <td>...</td>\n",
       "      <td>...</td>\n",
       "    </tr>\n",
       "    <tr>\n",
       "      <th>483</th>\n",
       "      <td>Wood</td>\n",
       "      <td>2019</td>\n",
       "      <td>1.234074e+07</td>\n",
       "      <td>0.000000</td>\n",
       "      <td>0.000000</td>\n",
       "      <td>0.000000e+00</td>\n",
       "      <td>0.000000</td>\n",
       "      <td>0.000000</td>\n",
       "      <td>87517.701509</td>\n",
       "      <td>8.064807e+06</td>\n",
       "      <td>...</td>\n",
       "      <td>27.470000</td>\n",
       "      <td>0.276667</td>\n",
       "      <td>-1.539047</td>\n",
       "      <td>0.66550</td>\n",
       "      <td>-0.4175</td>\n",
       "      <td>0.166</td>\n",
       "      <td>7.794615</td>\n",
       "      <td>2.187847</td>\n",
       "      <td>31.467492</td>\n",
       "      <td>1.178863e+08</td>\n",
       "    </tr>\n",
       "    <tr>\n",
       "      <th>484</th>\n",
       "      <td>Wood</td>\n",
       "      <td>2020</td>\n",
       "      <td>8.004915e+06</td>\n",
       "      <td>0.000000</td>\n",
       "      <td>0.000000</td>\n",
       "      <td>0.000000e+00</td>\n",
       "      <td>0.000000</td>\n",
       "      <td>0.000000</td>\n",
       "      <td>36289.024162</td>\n",
       "      <td>5.724076e+06</td>\n",
       "      <td>...</td>\n",
       "      <td>27.220000</td>\n",
       "      <td>-0.685000</td>\n",
       "      <td>-2.187605</td>\n",
       "      <td>2.22225</td>\n",
       "      <td>-1.1600</td>\n",
       "      <td>-0.914</td>\n",
       "      <td>6.697374</td>\n",
       "      <td>1.090606</td>\n",
       "      <td>31.716720</td>\n",
       "      <td>1.029989e+08</td>\n",
       "    </tr>\n",
       "    <tr>\n",
       "      <th>485</th>\n",
       "      <td>Wood</td>\n",
       "      <td>2021</td>\n",
       "      <td>1.267032e+07</td>\n",
       "      <td>0.000001</td>\n",
       "      <td>0.000001</td>\n",
       "      <td>1.052336e-06</td>\n",
       "      <td>0.000001</td>\n",
       "      <td>0.000001</td>\n",
       "      <td>8527.016450</td>\n",
       "      <td>1.113983e+07</td>\n",
       "      <td>...</td>\n",
       "      <td>25.653333</td>\n",
       "      <td>-1.196667</td>\n",
       "      <td>-1.064231</td>\n",
       "      <td>-0.82550</td>\n",
       "      <td>-1.0900</td>\n",
       "      <td>-1.754</td>\n",
       "      <td>5.850938</td>\n",
       "      <td>0.244170</td>\n",
       "      <td>31.832995</td>\n",
       "      <td>6.813127e+07</td>\n",
       "    </tr>\n",
       "    <tr>\n",
       "      <th>486</th>\n",
       "      <td>Wood</td>\n",
       "      <td>2022</td>\n",
       "      <td>1.241018e+07</td>\n",
       "      <td>0.000001</td>\n",
       "      <td>0.000001</td>\n",
       "      <td>1.795169e-03</td>\n",
       "      <td>0.000001</td>\n",
       "      <td>0.000001</td>\n",
       "      <td>7208.086447</td>\n",
       "      <td>7.504564e+06</td>\n",
       "      <td>...</td>\n",
       "      <td>25.746667</td>\n",
       "      <td>-1.798333</td>\n",
       "      <td>-1.865551</td>\n",
       "      <td>0.72375</td>\n",
       "      <td>-2.1725</td>\n",
       "      <td>-2.174</td>\n",
       "      <td>5.287018</td>\n",
       "      <td>-0.319750</td>\n",
       "      <td>31.794433</td>\n",
       "      <td>1.784546e+07</td>\n",
       "    </tr>\n",
       "    <tr>\n",
       "      <th>487</th>\n",
       "      <td>Wood</td>\n",
       "      <td>2023</td>\n",
       "      <td>1.041894e+07</td>\n",
       "      <td>0.000001</td>\n",
       "      <td>0.000001</td>\n",
       "      <td>1.016114e-06</td>\n",
       "      <td>0.000001</td>\n",
       "      <td>0.000001</td>\n",
       "      <td>61995.910249</td>\n",
       "      <td>3.376879e+06</td>\n",
       "      <td>...</td>\n",
       "      <td>26.063333</td>\n",
       "      <td>0.281667</td>\n",
       "      <td>-1.972965</td>\n",
       "      <td>-0.37825</td>\n",
       "      <td>-1.8875</td>\n",
       "      <td>-2.586</td>\n",
       "      <td>4.550619</td>\n",
       "      <td>-1.056149</td>\n",
       "      <td>31.933957</td>\n",
       "      <td>NaN</td>\n",
       "    </tr>\n",
       "  </tbody>\n",
       "</table>\n",
       "<p>488 rows × 34 columns</p>\n",
       "</div>"
      ],
      "text/plain": [
       "       River  Year  Total_Returns  AgeClass_0.1  AgeClass_0.2  AgeClass_0.3  \\\n",
       "0    Alagnak  1963   3.781383e+05      0.000000      0.000000  0.000000e+00   \n",
       "1    Alagnak  1964   7.593831e+05      0.000000      0.000140  0.000000e+00   \n",
       "2    Alagnak  1965   3.978606e+05      0.000000      0.000000  7.270738e+02   \n",
       "3    Alagnak  1966   3.940772e+05      0.000000      0.000000  1.832636e-09   \n",
       "4    Alagnak  1967   3.443056e+05      0.000000      0.000000  1.073499e-09   \n",
       "..       ...   ...            ...           ...           ...           ...   \n",
       "483     Wood  2019   1.234074e+07      0.000000      0.000000  0.000000e+00   \n",
       "484     Wood  2020   8.004915e+06      0.000000      0.000000  0.000000e+00   \n",
       "485     Wood  2021   1.267032e+07      0.000001      0.000001  1.052336e-06   \n",
       "486     Wood  2022   1.241018e+07      0.000001      0.000001  1.795169e-03   \n",
       "487     Wood  2023   1.041894e+07      0.000001      0.000001  1.016114e-06   \n",
       "\n",
       "     AgeClass_0.4  AgeClass_0.5  AgeClass_1.1  AgeClass_1.2  ...  \\\n",
       "0        0.000000      0.000000      0.000000  3.313000e+05  ...   \n",
       "1        0.000000      0.000000   4468.518531  1.213613e+05  ...   \n",
       "2        0.000000      0.000000  11965.313972  5.029325e+04  ...   \n",
       "3        0.000000      0.000000      0.000000  1.102662e+05  ...   \n",
       "4        0.000000      0.000000   6377.297622  2.310019e+05  ...   \n",
       "..            ...           ...           ...           ...  ...   \n",
       "483      0.000000      0.000000  87517.701509  8.064807e+06  ...   \n",
       "484      0.000000      0.000000  36289.024162  5.724076e+06  ...   \n",
       "485      0.000001      0.000001   8527.016450  1.113983e+07  ...   \n",
       "486      0.000001      0.000001   7208.086447  7.504564e+06  ...   \n",
       "487      0.000001      0.000001  61995.910249  3.376879e+06  ...   \n",
       "\n",
       "     oni_mean_DecFeb  mei_mean_AprSep  npgo_mean_DecFeb  ao_mean_DecMar  \\\n",
       "0          26.003333              NaN         -0.209223        -1.25475   \n",
       "1          27.330000              NaN          0.635470        -0.48150   \n",
       "2          25.780000              NaN         -0.708755        -1.07025   \n",
       "3          27.813333              NaN         -0.876998        -1.35450   \n",
       "4          26.073333              NaN         -0.630369         0.29250   \n",
       "..               ...              ...               ...             ...   \n",
       "483        27.470000         0.276667         -1.539047         0.66550   \n",
       "484        27.220000        -0.685000         -2.187605         2.22225   \n",
       "485        25.653333        -1.196667         -1.064231        -0.82550   \n",
       "486        25.746667        -1.798333         -1.865551         0.72375   \n",
       "487        26.063333         0.281667         -1.972965        -0.37825   \n",
       "\n",
       "     pdo_mean_DecMar  pdo_mean_MaySep  sst_aprjul  sst_anom  sss_mayaug  \\\n",
       "0            -0.0600           -0.580         NaN       NaN   31.649451   \n",
       "1             0.0725           -1.456         NaN       NaN   31.806597   \n",
       "2            -0.5875           -0.202         NaN       NaN   31.792252   \n",
       "3            -0.4625           -0.258         NaN       NaN   31.768258   \n",
       "4            -0.3750           -1.220         NaN       NaN   31.952063   \n",
       "..               ...              ...         ...       ...         ...   \n",
       "483          -0.4175            0.166    7.794615  2.187847   31.467492   \n",
       "484          -1.1600           -0.914    6.697374  1.090606   31.716720   \n",
       "485          -1.0900           -1.754    5.850938  0.244170   31.832995   \n",
       "486          -2.1725           -2.174    5.287018 -0.319750   31.794433   \n",
       "487          -1.8875           -2.586    4.550619 -1.056149   31.933957   \n",
       "\n",
       "     Total_Spawners_BroodYear  \n",
       "0                8.363766e+07  \n",
       "1                9.066752e+07  \n",
       "2                5.119336e+08  \n",
       "3                1.393965e+08  \n",
       "4                1.071686e+08  \n",
       "..                        ...  \n",
       "483              1.178863e+08  \n",
       "484              1.029989e+08  \n",
       "485              6.813127e+07  \n",
       "486              1.784546e+07  \n",
       "487                       NaN  \n",
       "\n",
       "[488 rows x 34 columns]"
      ]
     },
     "execution_count": 4,
     "metadata": {},
     "output_type": "execute_result"
    }
   ],
   "source": [
    "data_set_bristol"
   ]
  },
  {
   "cell_type": "markdown",
   "id": "7e1c5b35",
   "metadata": {},
   "source": [
    "Sum of all columns"
   ]
  },
  {
   "cell_type": "code",
   "execution_count": 23,
   "id": "317b7510",
   "metadata": {},
   "outputs": [
    {
     "name": "stdout",
     "output_type": "stream",
     "text": [
      "Year: 972,584.00\n",
      "Total_Returns: 2,207,478,149.46\n",
      "AgeClass_0.1: 2,350.03\n",
      "AgeClass_0.2: 1,474,512.92\n",
      "AgeClass_0.3: 8,772,787.70\n",
      "AgeClass_0.4: 1,247,212.88\n",
      "AgeClass_0.5: 2,763.06\n",
      "AgeClass_1.1: 5,610,366.63\n",
      "AgeClass_1.2: 612,845,787.17\n",
      "AgeClass_1.3: 668,785,921.37\n",
      "AgeClass_1.4: 8,217,692.06\n",
      "AgeClass_1.5: 16,687.73\n",
      "AgeClass_2.1: 7,994,539.46\n",
      "AgeClass_2.2: 638,032,541.30\n",
      "AgeClass_2.3: 248,856,997.78\n",
      "AgeClass_2.4: 780,826.86\n",
      "AgeClass_3.1: 132,687.41\n",
      "AgeClass_3.2: 3,523,385.09\n",
      "AgeClass_3.3: 1,180,488.40\n",
      "AgeClass_3.4: 601.61\n",
      "Total_Returns_NextYear: 2,251,595,670.85\n",
      "Pacea_ALPI_Anomaly: 206.83\n",
      "npi_mean_NovMar: 492,393.60\n",
      "oni_mean_DecFeb: 12,977.12\n",
      "npgo_mean_DecFeb: -78.14\n",
      "ao_mean_DecMar: -67.12\n",
      "pdo_mean_DecMar: -134.16\n",
      "pdo_mean_MaySep: -207.39\n",
      "sss_mayaug: 15,441.83\n",
      "Total_Spawners_BroodYear: 102,375,740,733.92\n"
     ]
    }
   ],
   "source": [
    "# Select only numeric columns (automatically excludes strings like 'River')\n",
    "numeric_sums = data_set_bristol.select_dtypes(include='number').sum()\n",
    "\n",
    "# Print with commas and 2 decimals\n",
    "for col, val in numeric_sums.items():\n",
    "    print(f\"{col}: {val:,.2f}\")\n"
   ]
  },
  {
   "cell_type": "markdown",
   "id": "b7614c48",
   "metadata": {},
   "source": [
    "Check the type of each columns"
   ]
  },
  {
   "cell_type": "code",
   "execution_count": 6,
   "id": "95934e89",
   "metadata": {},
   "outputs": [
    {
     "data": {
      "text/plain": [
       "River                        object\n",
       "Year                          int64\n",
       "Total_Returns               float64\n",
       "AgeClass_0.1                float64\n",
       "AgeClass_0.2                float64\n",
       "AgeClass_0.3                float64\n",
       "AgeClass_0.4                float64\n",
       "AgeClass_0.5                float64\n",
       "AgeClass_1.1                float64\n",
       "AgeClass_1.2                float64\n",
       "AgeClass_1.3                float64\n",
       "AgeClass_1.4                float64\n",
       "AgeClass_1.5                float64\n",
       "AgeClass_2.1                float64\n",
       "AgeClass_2.2                float64\n",
       "AgeClass_2.3                float64\n",
       "AgeClass_2.4                float64\n",
       "AgeClass_3.1                float64\n",
       "AgeClass_3.2                float64\n",
       "AgeClass_3.3                float64\n",
       "AgeClass_3.4                float64\n",
       "Total_Returns_NextYear      float64\n",
       "Pacea_ALPI_Anomaly          float64\n",
       "npi_mean_NovMar             float64\n",
       "oni_mean_DecFeb             float64\n",
       "mei_mean_AprSep             float64\n",
       "npgo_mean_DecFeb            float64\n",
       "ao_mean_DecMar              float64\n",
       "pdo_mean_DecMar             float64\n",
       "pdo_mean_MaySep             float64\n",
       "sst_aprjul                  float64\n",
       "sst_anom                    float64\n",
       "sss_mayaug                  float64\n",
       "Total_Spawners_BroodYear    float64\n",
       "dtype: object"
      ]
     },
     "execution_count": 6,
     "metadata": {},
     "output_type": "execute_result"
    }
   ],
   "source": [
    "data_set_bristol.dtypes\n"
   ]
  },
  {
   "cell_type": "markdown",
   "id": "94248797",
   "metadata": {},
   "source": [
    "Check all river's name"
   ]
  },
  {
   "cell_type": "code",
   "execution_count": 7,
   "id": "c4e15944",
   "metadata": {},
   "outputs": [
    {
     "data": {
      "text/plain": [
       "array(['Alagnak', 'Egegik', 'Igushik', 'Kvichak', 'Naknek', 'Nushagak',\n",
       "       'Ugashik', 'Wood'], dtype=object)"
      ]
     },
     "execution_count": 7,
     "metadata": {},
     "output_type": "execute_result"
    }
   ],
   "source": [
    "data_set_bristol['River'].unique()"
   ]
  },
  {
   "cell_type": "markdown",
   "id": "758f18e0",
   "metadata": {},
   "source": [
    "check missinvalues"
   ]
  },
  {
   "cell_type": "code",
   "execution_count": 8,
   "id": "e9896577",
   "metadata": {},
   "outputs": [
    {
     "data": {
      "text/plain": [
       "River                         0\n",
       "Year                          0\n",
       "Total_Returns                 0\n",
       "AgeClass_0.1                  0\n",
       "AgeClass_0.2                  0\n",
       "AgeClass_0.3                  0\n",
       "AgeClass_0.4                  0\n",
       "AgeClass_0.5                  0\n",
       "AgeClass_1.1                  0\n",
       "AgeClass_1.2                  0\n",
       "AgeClass_1.3                  0\n",
       "AgeClass_1.4                  0\n",
       "AgeClass_1.5                  0\n",
       "AgeClass_2.1                  0\n",
       "AgeClass_2.2                  0\n",
       "AgeClass_2.3                  0\n",
       "AgeClass_2.4                  0\n",
       "AgeClass_3.1                  0\n",
       "AgeClass_3.2                  0\n",
       "AgeClass_3.3                  0\n",
       "AgeClass_3.4                  0\n",
       "Total_Returns_NextYear        0\n",
       "Pacea_ALPI_Anomaly            8\n",
       "npi_mean_NovMar               0\n",
       "oni_mean_DecFeb               0\n",
       "mei_mean_AprSep             128\n",
       "npgo_mean_DecFeb              0\n",
       "ao_mean_DecMar                0\n",
       "pdo_mean_DecMar               0\n",
       "pdo_mean_MaySep               0\n",
       "sst_aprjul                  168\n",
       "sst_anom                    168\n",
       "sss_mayaug                    0\n",
       "Total_Spawners_BroodYear      8\n",
       "dtype: int64"
      ]
     },
     "execution_count": 8,
     "metadata": {},
     "output_type": "execute_result"
    }
   ],
   "source": [
    "data_set_bristol.isnull().sum()\n"
   ]
  },
  {
   "cell_type": "markdown",
   "id": "cefbc1a8",
   "metadata": {},
   "source": [
    "droping three columns because they have a lot of missvalues\n",
    "mei_mean_AprSep             128\n",
    "sst_aprjul                  168\n",
    "sst_anom                    168"
   ]
  },
  {
   "cell_type": "code",
   "execution_count": 9,
   "id": "530a507d",
   "metadata": {},
   "outputs": [],
   "source": [
    "data_set_bristol = data_set_bristol.drop(columns=['sst_anom', 'sst_aprjul', 'mei_mean_AprSep'])\n"
   ]
  },
  {
   "cell_type": "markdown",
   "id": "6b546230",
   "metadata": {},
   "source": [
    "Fill out missvalues in this two columns using average\n",
    "Pacea_ALPI_Anomaly            8\n",
    "Total_Spawners_BroodYear      8\n"
   ]
  },
  {
   "cell_type": "code",
   "execution_count": 10,
   "id": "f47b9ec2",
   "metadata": {},
   "outputs": [
    {
     "name": "stderr",
     "output_type": "stream",
     "text": [
      "C:\\Users\\MuriloFarias\\AppData\\Local\\Temp\\ipykernel_16184\\438147762.py:1: FutureWarning: A value is trying to be set on a copy of a DataFrame or Series through chained assignment using an inplace method.\n",
      "The behavior will change in pandas 3.0. This inplace method will never work because the intermediate object on which we are setting values always behaves as a copy.\n",
      "\n",
      "For example, when doing 'df[col].method(value, inplace=True)', try using 'df.method({col: value}, inplace=True)' or df[col] = df[col].method(value) instead, to perform the operation inplace on the original object.\n",
      "\n",
      "\n",
      "  data_set_bristol['Pacea_ALPI_Anomaly'].fillna(data_set_bristol['Pacea_ALPI_Anomaly'].mean(), inplace=True)\n",
      "C:\\Users\\MuriloFarias\\AppData\\Local\\Temp\\ipykernel_16184\\438147762.py:2: FutureWarning: A value is trying to be set on a copy of a DataFrame or Series through chained assignment using an inplace method.\n",
      "The behavior will change in pandas 3.0. This inplace method will never work because the intermediate object on which we are setting values always behaves as a copy.\n",
      "\n",
      "For example, when doing 'df[col].method(value, inplace=True)', try using 'df.method({col: value}, inplace=True)' or df[col] = df[col].method(value) instead, to perform the operation inplace on the original object.\n",
      "\n",
      "\n",
      "  data_set_bristol['Total_Spawners_BroodYear'].fillna(data_set_bristol['Total_Spawners_BroodYear'].mean(), inplace=True)\n"
     ]
    }
   ],
   "source": [
    "data_set_bristol['Pacea_ALPI_Anomaly'].fillna(data_set_bristol['Pacea_ALPI_Anomaly'].mean(), inplace=True)\n",
    "data_set_bristol['Total_Spawners_BroodYear'].fillna(data_set_bristol['Total_Spawners_BroodYear'].mean(), inplace=True)\n"
   ]
  },
  {
   "cell_type": "markdown",
   "id": "4243c539",
   "metadata": {},
   "source": [
    "Check again after some process to check if the data its done for one hot encode"
   ]
  },
  {
   "cell_type": "code",
   "execution_count": 11,
   "id": "4412086a",
   "metadata": {},
   "outputs": [
    {
     "data": {
      "text/plain": [
       "River                       0\n",
       "Year                        0\n",
       "Total_Returns               0\n",
       "AgeClass_0.1                0\n",
       "AgeClass_0.2                0\n",
       "AgeClass_0.3                0\n",
       "AgeClass_0.4                0\n",
       "AgeClass_0.5                0\n",
       "AgeClass_1.1                0\n",
       "AgeClass_1.2                0\n",
       "AgeClass_1.3                0\n",
       "AgeClass_1.4                0\n",
       "AgeClass_1.5                0\n",
       "AgeClass_2.1                0\n",
       "AgeClass_2.2                0\n",
       "AgeClass_2.3                0\n",
       "AgeClass_2.4                0\n",
       "AgeClass_3.1                0\n",
       "AgeClass_3.2                0\n",
       "AgeClass_3.3                0\n",
       "AgeClass_3.4                0\n",
       "Total_Returns_NextYear      0\n",
       "Pacea_ALPI_Anomaly          0\n",
       "npi_mean_NovMar             0\n",
       "oni_mean_DecFeb             0\n",
       "npgo_mean_DecFeb            0\n",
       "ao_mean_DecMar              0\n",
       "pdo_mean_DecMar             0\n",
       "pdo_mean_MaySep             0\n",
       "sss_mayaug                  0\n",
       "Total_Spawners_BroodYear    0\n",
       "dtype: int64"
      ]
     },
     "execution_count": 11,
     "metadata": {},
     "output_type": "execute_result"
    }
   ],
   "source": [
    "data_set_bristol.isnull().sum()\n"
   ]
  },
  {
   "cell_type": "markdown",
   "id": "ad708cd4",
   "metadata": {},
   "source": [
    "One-Hot Encode River Column"
   ]
  },
  {
   "cell_type": "code",
   "execution_count": 12,
   "id": "2b3c0284",
   "metadata": {},
   "outputs": [],
   "source": [
    "# One-hot encode and convert True/False to 1/0\n",
    "data_set_bristol_encoded = pd.get_dummies(data_set_bristol, columns=['River'], prefix='River')\n",
    "\n"
   ]
  },
  {
   "cell_type": "code",
   "execution_count": 13,
   "id": "9b47a0f9",
   "metadata": {},
   "outputs": [],
   "source": [
    "river_cols = [col for col in data_set_bristol_encoded.columns if col.startswith('River_')]\n",
    "data_set_bristol_encoded[river_cols] = data_set_bristol_encoded[river_cols].astype(int)"
   ]
  },
  {
   "cell_type": "markdown",
   "id": "75b9e43b",
   "metadata": {},
   "source": [
    "checking the new columns after One-hot "
   ]
  },
  {
   "cell_type": "code",
   "execution_count": 15,
   "id": "9e7301a6",
   "metadata": {},
   "outputs": [
    {
     "data": {
      "text/plain": [
       "Index(['Year', 'Total_Returns', 'AgeClass_0.1', 'AgeClass_0.2', 'AgeClass_0.3',\n",
       "       'AgeClass_0.4', 'AgeClass_0.5', 'AgeClass_1.1', 'AgeClass_1.2',\n",
       "       'AgeClass_1.3', 'AgeClass_1.4', 'AgeClass_1.5', 'AgeClass_2.1',\n",
       "       'AgeClass_2.2', 'AgeClass_2.3', 'AgeClass_2.4', 'AgeClass_3.1',\n",
       "       'AgeClass_3.2', 'AgeClass_3.3', 'AgeClass_3.4',\n",
       "       'Total_Returns_NextYear', 'Pacea_ALPI_Anomaly', 'npi_mean_NovMar',\n",
       "       'oni_mean_DecFeb', 'npgo_mean_DecFeb', 'ao_mean_DecMar',\n",
       "       'pdo_mean_DecMar', 'pdo_mean_MaySep', 'sss_mayaug',\n",
       "       'Total_Spawners_BroodYear', 'River_Alagnak', 'River_Egegik',\n",
       "       'River_Igushik', 'River_Kvichak', 'River_Naknek', 'River_Nushagak',\n",
       "       'River_Ugashik', 'River_Wood'],\n",
       "      dtype='object')"
      ]
     },
     "execution_count": 15,
     "metadata": {},
     "output_type": "execute_result"
    }
   ],
   "source": [
    "data_set_bristol_encoded.columns"
   ]
  },
  {
   "cell_type": "markdown",
   "id": "c1d3deeb",
   "metadata": {},
   "source": [
    "Checking if the main values still ok after one hot encode"
   ]
  },
  {
   "cell_type": "code",
   "execution_count": 17,
   "id": "949c566b",
   "metadata": {},
   "outputs": [
    {
     "name": "stdout",
     "output_type": "stream",
     "text": [
      "  Difference in Total_Return: 0.0\n",
      "  Difference in Total_Returns_NextYear: 0.0\n"
     ]
    }
   ],
   "source": [
    "#original data data_set_bristal\n",
    "total_return_bristol = data_set_bristol['Total_Returns'].sum()\n",
    "total_next_bristol = data_set_bristol['Total_Returns_NextYear'].sum()\n",
    "\n",
    "# after one hot encoding data_set_bristol_encoded\n",
    "total_return_encoded = data_set_bristol_encoded['Total_Returns'].sum()\n",
    "total_next_encoded = data_set_bristol_encoded['Total_Returns_NextYear'].sum()\n",
    "\n",
    "# Differences\n",
    "diff_return = total_return_encoded - total_return_bristol\n",
    "diff_next = total_next_encoded - total_next_bristol\n",
    "\n",
    "print(\"  Difference in Total_Return:\", diff_return)\n",
    "print(\"  Difference in Total_Returns_NextYear:\", diff_next)"
   ]
  },
  {
   "cell_type": "markdown",
   "id": "a53d931a",
   "metadata": {},
   "source": [
    "changing pd options to show all columns and all samples"
   ]
  },
  {
   "cell_type": "code",
   "execution_count": null,
   "id": "72b7c0e5",
   "metadata": {},
   "outputs": [],
   "source": [
    "# Show all rows and columns\n",
    "pd.set_option('display.max_rows', None)\n",
    "pd.set_option('display.max_columns', None)\n",
    "data_set_bristol_encoded\n"
   ]
  },
  {
   "cell_type": "code",
   "execution_count": null,
   "id": "0ea23246",
   "metadata": {},
   "outputs": [],
   "source": [
    "sums = data_set_bristol_encoded.sum()\n",
    "\n",
    "# Print each column sum with comma and no scientific notation\n",
    "for col, val in sums.items():\n",
    "    print(f\"{col}: {val:,.2f}\")\n"
   ]
  },
  {
   "cell_type": "code",
   "execution_count": 24,
   "id": "afdffa64",
   "metadata": {},
   "outputs": [
    {
     "data": {
      "text/plain": [
       "(488, 38)"
      ]
     },
     "execution_count": 24,
     "metadata": {},
     "output_type": "execute_result"
    }
   ],
   "source": [
    "data_set_bristol_encoded.shape"
   ]
  }
 ],
 "metadata": {
  "kernelspec": {
   "display_name": "Python 3",
   "language": "python",
   "name": "python3"
  },
  "language_info": {
   "codemirror_mode": {
    "name": "ipython",
    "version": 3
   },
   "file_extension": ".py",
   "mimetype": "text/x-python",
   "name": "python",
   "nbconvert_exporter": "python",
   "pygments_lexer": "ipython3",
   "version": "3.10.0"
  }
 },
 "nbformat": 4,
 "nbformat_minor": 5
}
