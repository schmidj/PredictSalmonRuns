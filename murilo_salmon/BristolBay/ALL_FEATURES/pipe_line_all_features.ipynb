{
 "cells": [
  {
   "cell_type": "code",
   "execution_count": 1,
   "id": "8cd41e85",
   "metadata": {},
   "outputs": [],
   "source": [
    "import pandas as pd\n",
    "\n",
    "file_path = r\"C:\\Users\\MuriloFarias\\Desktop\\NNS-JULIA\\PredictSalmonRuns\\murilo_salmon\\BristolBay\\data_set_bristol_encoded.csv\"\n",
    "pipe_line_all_features = pd.read_csv(file_path)\n"
   ]
  },
  {
   "cell_type": "markdown",
   "id": "2d9bdee7",
   "metadata": {},
   "source": [
    "Split into 80% train, 20% test"
   ]
  },
  {
   "cell_type": "code",
   "execution_count": 2,
   "id": "ad4410c5",
   "metadata": {},
   "outputs": [
    {
     "name": "stdout",
     "output_type": "stream",
     "text": [
      "Train set saved to: C:\\Users\\MuriloFarias\\Desktop\\NNS-JULIA\\PredictSalmonRuns\\murilo_salmon\\BristolBay\\ALL_FEATURES\\data_train.csv\n",
      "Test set saved to: C:\\Users\\MuriloFarias\\Desktop\\NNS-JULIA\\PredictSalmonRuns\\murilo_salmon\\BristolBay\\ALL_FEATURES\\data_test.csv\n"
     ]
    }
   ],
   "source": [
    "from sklearn.model_selection import train_test_split\n",
    "import os\n",
    "\n",
    "# Split into 80% train, 20% test\n",
    "data_train, data_test = train_test_split(\n",
    "    pipe_line_all_features, test_size=0.2, random_state=42\n",
    ")\n",
    "\n",
    "# Paths to save files\n",
    "save_dir = r\"C:\\Users\\MuriloFarias\\Desktop\\NNS-JULIA\\PredictSalmonRuns\\murilo_salmon\\BristolBay\\ALL_FEATURES\"\n",
    "os.makedirs(save_dir, exist_ok=True)\n",
    "\n",
    "train_path = os.path.join(save_dir, \"data_train.csv\")\n",
    "test_path = os.path.join(save_dir, \"data_test.csv\")\n",
    "\n",
    "# Save CSV files\n",
    "data_train.to_csv(train_path, index=False)\n",
    "data_test.to_csv(test_path, index=False)\n",
    "\n",
    "print(f\"Train set saved to: {train_path}\")\n",
    "print(f\"Test set saved to: {test_path}\")\n"
   ]
  },
  {
   "cell_type": "code",
   "execution_count": 3,
   "id": "0465fc6c",
   "metadata": {},
   "outputs": [],
   "source": [
    "import pandas as pd\n",
    "\n",
    "# File paths\n",
    "train_path = r\"C:\\Users\\MuriloFarias\\Desktop\\NNS-JULIA\\PredictSalmonRuns\\murilo_salmon\\BristolBay\\ALL_FEATURES\\data_train.csv\"\n",
    "test_path = r\"C:\\Users\\MuriloFarias\\Desktop\\NNS-JULIA\\PredictSalmonRuns\\murilo_salmon\\BristolBay\\ALL_FEATURES\\data_test.csv\"\n",
    "\n",
    "# Load datasets\n",
    "data_train = pd.read_csv(train_path)\n",
    "data_test = pd.read_csv(test_path)\n",
    "\n"
   ]
  },
  {
   "cell_type": "code",
   "execution_count": 4,
   "id": "2e11333a",
   "metadata": {},
   "outputs": [
    {
     "name": "stdout",
     "output_type": "stream",
     "text": [
      "Difference in number of rows: 0\n"
     ]
    }
   ],
   "source": [
    "dif = pipe_line_all_features.shape[0] - (data_train.shape[0] + data_test.shape[0])\n",
    "print(f\"Difference in number of rows: {dif}\")"
   ]
  },
  {
   "cell_type": "markdown",
   "id": "9dda8664",
   "metadata": {},
   "source": [
    "next step to train some model\n",
    "\n",
    "# Split features and target\n",
    "X_train = data_train.drop('Total_Returns_NextYear', axis=1)\n",
    "y_train = data_test['Total_Returns_NextYear']\n",
    "\n",
    "X_test = data_train.drop('Total_Returns_NextYear', axis=1)\n",
    "y_test = data_test['Total_Returns_NextYear']"
   ]
  }
 ],
 "metadata": {
  "kernelspec": {
   "display_name": "Python 3",
   "language": "python",
   "name": "python3"
  },
  "language_info": {
   "codemirror_mode": {
    "name": "ipython",
    "version": 3
   },
   "file_extension": ".py",
   "mimetype": "text/x-python",
   "name": "python",
   "nbconvert_exporter": "python",
   "pygments_lexer": "ipython3",
   "version": "3.10.0"
  }
 },
 "nbformat": 4,
 "nbformat_minor": 5
}
