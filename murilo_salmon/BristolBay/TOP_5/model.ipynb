{
 "cells": [
  {
   "cell_type": "markdown",
   "id": "bf55d3a7",
   "metadata": {},
   "source": [
    "Linear Regression -- BEST ONE\n",
    "R²   (R-squared):              0.7840 Ideal: closer to 1.0 = better\n",
    "MSE  (Mean Squared Error):     7482400519805.97\n",
    "MAPE (Mean Absolute % Error):  149.86% Ideal: lower is better\n",
    "\n",
    "Gradient Boosting Evaluation Metrics:\n",
    "R²   (R-squared) (Coefficient of Determination)  0.3488  Ideal: closer to 1.0 = better\n",
    "MSE  (Mean Squared Error) (Mean Absolute Percentage Error)  22552279116633.90\n",
    "MAPE (Mean Absolute % Error)(Mean Squared Error):  92.13%  Ideal: lower is better\n",
    "\n",
    "Polynomial Regression\n",
    "R²   (R-squared) (Coefficient of Determination)  -0.8318  Ideal: closer to 1.0 = better\n",
    "MSE  (Mean Squared Error) (Mean Absolute Percentage Error)  63442655940824.40\n",
    "MAPE (Mean Absolute % Error)(Mean Squared Error):  87.01%  Ideal: lower is better\n",
    "\n",
    "Random Forest model\n",
    "R²   (R-squared):              0.3647 closer to 1.0 = better\n",
    "MSE  (Mean Squared Error):     22003546734792.66\n",
    "MAPE (Mean Absolute % Error):  104.70% lower is better\n",
    "\n",
    "XGBoost Regressor\n",
    "R²   (R-squared):              0.2398 closer to 1.0 = better\n",
    "MSE  (Mean Squared Error):     26327446117411.62\n",
    "MAPE (Mean Absolute % Error):  116.94% lower is better"
   ]
  },
  {
   "cell_type": "markdown",
   "id": "47bd61e6",
   "metadata": {},
   "source": [
    "GradientBoostingRegressor"
   ]
  },
  {
   "cell_type": "markdown",
   "id": "09e36b65",
   "metadata": {},
   "source": [
    "Loading the data"
   ]
  },
  {
   "cell_type": "code",
   "execution_count": null,
   "id": "b286c075",
   "metadata": {},
   "outputs": [],
   "source": [
    "import pandas as pd\n",
    "\n",
    "# File paths\n",
    "train_path = r\"C:\\Users\\MuriloFarias\\Desktop\\NNS-JULIA\\PredictSalmonRuns\\murilo_salmon\\BristolBay\\TOP_5\\top_5_train.csv\"\n",
    "test_path = r\"C:\\Users\\MuriloFarias\\Desktop\\NNS-JULIA\\PredictSalmonRuns\\murilo_salmon\\BristolBay\\TOP_5\\top_5_test.csv\"\n",
    "\n",
    "# Load datasets\n",
    "top_5_train_loaded = pd.read_csv(train_path)\n",
    "top_5_test_loaded = pd.read_csv(test_path)\n",
    "\n"
   ]
  },
  {
   "cell_type": "markdown",
   "id": "918db331",
   "metadata": {},
   "source": [
    "preparing the data to train the model"
   ]
  },
  {
   "cell_type": "code",
   "execution_count": null,
   "id": "af5afe85",
   "metadata": {},
   "outputs": [],
   "source": [
    "from sklearn.ensemble import GradientBoostingRegressor\n",
    "from sklearn.metrics import mean_absolute_error, mean_squared_error, r2_score\n",
    "import numpy as np"
   ]
  },
  {
   "cell_type": "code",
   "execution_count": null,
   "id": "afe3b6fe",
   "metadata": {},
   "outputs": [],
   "source": [
    "X_train = top_5_train_loaded.drop('Total_Returns_NextYear', axis=1)\n",
    "y_train = top_5_train_loaded['Total_Returns_NextYear']\n",
    "\n",
    "X_test = top_5_test_loaded.drop('Total_Returns_NextYear', axis=1)\n",
    "y_test = top_5_test_loaded['Total_Returns_NextYear']"
   ]
  },
  {
   "cell_type": "code",
   "execution_count": null,
   "id": "d9124d04",
   "metadata": {},
   "outputs": [],
   "source": [
    "gbr = GradientBoostingRegressor(\n",
    "    n_estimators=200, \n",
    "    learning_rate=0.05, \n",
    "    max_depth=4, \n",
    "    random_state=42\n",
    ")\n"
   ]
  },
  {
   "cell_type": "code",
   "execution_count": null,
   "id": "316d5595",
   "metadata": {},
   "outputs": [],
   "source": [
    "# Step 2: Train the model\n",
    "gbr.fit(X_train, y_train)"
   ]
  },
  {
   "cell_type": "code",
   "execution_count": null,
   "id": "a0ebc2e5",
   "metadata": {},
   "outputs": [],
   "source": [
    "# Step 3: Predict on test data\n",
    "y_pred = gbr.predict(X_test)"
   ]
  },
  {
   "cell_type": "code",
   "execution_count": null,
   "id": "38bba83d",
   "metadata": {},
   "outputs": [],
   "source": [
    "# Evaluate\n",
    "r2 = r2_score(y_test, y_pred)\n",
    "mse = mean_squared_error(y_test, y_pred)\n",
    "mape = np.mean(np.abs((y_test - y_pred) / y_test)) * 100  # In %\n",
    "\n",
    "# Print results\n",
    "print(\"Gradient Boosting Evaluation Metrics:\")\n",
    "print(f\"R²   (R-squared):              {r2:.4f}\")\n",
    "print(f\"MSE  (Mean Squared Error):     {mse:.2f}\")\n",
    "print(f\"MAPE (Mean Absolute % Error):  {mape:.2f}%\")"
   ]
  },
  {
   "cell_type": "code",
   "execution_count": null,
   "id": "cb7e752b",
   "metadata": {},
   "outputs": [],
   "source": [
    "import matplotlib.pyplot as plt\n",
    "\n",
    "plt.figure(figsize=(10, 6))\n",
    "plt.scatter(y_test, y_pred, color='dodgerblue', edgecolor='k', alpha=0.7)\n",
    "plt.plot([y_test.min(), y_test.max()], [y_test.min(), y_test.max()], 'r--')  # Ideal line\n",
    "plt.xlabel(\"Actual Total_Returns_NextYear\")\n",
    "plt.ylabel(\"Predicted Total_Returns_NextYear\")\n",
    "plt.title(\"Actual vs Predicted - Gradient Boosting Regressor\")\n",
    "plt.grid(True)\n",
    "plt.tight_layout()\n",
    "plt.show()\n"
   ]
  },
  {
   "cell_type": "code",
   "execution_count": null,
   "id": "4d8d846a",
   "metadata": {},
   "outputs": [],
   "source": [
    "import numpy as np\n",
    "\n",
    "# Apply log1p to avoid log(0) errors\n",
    "y_train_log = np.log1p(y_train)\n",
    "y_test_log = np.log1p(y_test)\n",
    "\n",
    "# Train on log-transformed data\n",
    "gbr = GradientBoostingRegressor(\n",
    "    n_estimators=200, \n",
    "    learning_rate=0.05, \n",
    "    max_depth=4, \n",
    "    random_state=42\n",
    ")\n",
    "gbr.fit(X_train, y_train_log)\n",
    "\n",
    "# Predict and inverse log\n",
    "y_pred_log = gbr.predict(X_test)\n",
    "y_pred = np.expm1(y_pred_log)\n",
    "\n",
    "# Then re-evaluate as before\n"
   ]
  },
  {
   "cell_type": "code",
   "execution_count": null,
   "id": "69be6f3f",
   "metadata": {},
   "outputs": [],
   "source": [
    "# Evaluate\n",
    "r2 = r2_score(y_test, y_pred)\n",
    "mse = mean_squared_error(y_test, y_pred)\n",
    "mape = np.mean(np.abs((y_test - y_pred) / y_test)) * 100  # In %\n",
    "\n",
    "# Print results\n",
    "print(\"Gradient Boosting Evaluation Metrics:\")\n",
    "print(f\"R²   (R-squared):              {r2:.4f}\")\n",
    "print(f\"MSE  (Mean Squared Error):     {mse:.2f}\")\n",
    "print(f\"MAPE (Mean Absolute % Error):  {mape:.2f}%\")"
   ]
  },
  {
   "cell_type": "markdown",
   "id": "7b19359b",
   "metadata": {},
   "source": [
    "******************************************************************************************"
   ]
  },
  {
   "cell_type": "markdown",
   "id": "2439cf19",
   "metadata": {},
   "source": [
    "Polynomial Regression"
   ]
  },
  {
   "cell_type": "code",
   "execution_count": null,
   "id": "a1311be4",
   "metadata": {},
   "outputs": [],
   "source": [
    "import pandas as pd\n",
    "\n",
    "# File paths\n",
    "train_path = r\"C:\\Users\\MuriloFarias\\Desktop\\NNS-JULIA\\PredictSalmonRuns\\murilo_salmon\\BristolBay\\TOP_5\\top_5_train.csv\"\n",
    "test_path = r\"C:\\Users\\MuriloFarias\\Desktop\\NNS-JULIA\\PredictSalmonRuns\\murilo_salmon\\BristolBay\\TOP_5\\top_5_test.csv\"\n",
    "\n",
    "# Load datasets\n",
    "top_5_train_loaded = pd.read_csv(train_path)\n",
    "top_5_test_loaded = pd.read_csv(test_path)\n",
    "\n",
    "X_train = top_5_train_loaded.drop('Total_Returns_NextYear', axis=1)\n",
    "y_train = top_5_train_loaded['Total_Returns_NextYear']\n",
    "\n",
    "X_test = top_5_test_loaded.drop('Total_Returns_NextYear', axis=1)\n",
    "y_test = top_5_test_loaded['Total_Returns_NextYear']\n",
    "\n"
   ]
  },
  {
   "cell_type": "code",
   "execution_count": null,
   "id": "9272d8e7",
   "metadata": {},
   "outputs": [],
   "source": [
    "from sklearn.preprocessing import PolynomialFeatures\n",
    "from sklearn.linear_model import LinearRegression\n",
    "from sklearn.metrics import r2_score, mean_squared_error\n",
    "import numpy as np\n",
    "\n",
    "# Step 1: Create polynomial features (degree=2 is a good start)\n",
    "poly = PolynomialFeatures(degree=2, include_bias=False)\n",
    "X_train_poly = poly.fit_transform(X_train)\n",
    "X_test_poly = poly.transform(X_test)\n",
    "\n",
    "# Step 2: Train Linear Regression on the transformed features\n",
    "model = LinearRegression()\n",
    "model.fit(X_train_poly, y_train)\n",
    "\n",
    "# Step 3: Predict\n",
    "y_pred = model.predict(X_test_poly)"
   ]
  },
  {
   "cell_type": "code",
   "execution_count": null,
   "id": "60322bca",
   "metadata": {},
   "outputs": [],
   "source": [
    "# Step 4: Evaluate\n",
    "r2 = r2_score(y_test, y_pred)\n",
    "mse = mean_squared_error(y_test, y_pred)\n",
    "mape = np.mean(np.abs((y_test - y_pred) / y_test)) * 100\n",
    "\n",
    "# Step 5: Print results\n",
    "print(\"Polynomial Regression Evaluation Metrics:\")\n",
    "print(f\"R²   (R-squared):              {r2:.4f}\")\n",
    "print(f\"MSE  (Mean Squared Error):     {mse:.2f}\")\n",
    "print(f\"MAPE (Mean Absolute % Error):  {mape:.2f}%\")"
   ]
  },
  {
   "cell_type": "markdown",
   "id": "a4f98196",
   "metadata": {},
   "source": [
    "**************************************************************************************************"
   ]
  },
  {
   "cell_type": "markdown",
   "id": "a4251ed9",
   "metadata": {},
   "source": [
    "Linear Regression"
   ]
  },
  {
   "cell_type": "code",
   "execution_count": null,
   "id": "779457a2",
   "metadata": {},
   "outputs": [],
   "source": [
    "import pandas as pd\n",
    "\n",
    "# File paths\n",
    "train_path = r\"C:\\Users\\MuriloFarias\\Desktop\\NNS-JULIA\\PredictSalmonRuns\\murilo_salmon\\BristolBay\\TOP_5\\top_5_train.csv\"\n",
    "test_path = r\"C:\\Users\\MuriloFarias\\Desktop\\NNS-JULIA\\PredictSalmonRuns\\murilo_salmon\\BristolBay\\TOP_5\\top_5_test.csv\"\n",
    "\n",
    "# Load datasets\n",
    "top_5_train_loaded = pd.read_csv(train_path)\n",
    "top_5_test_loaded = pd.read_csv(test_path)\n",
    "\n",
    "X_train = top_5_train_loaded.drop('Total_Returns_NextYear', axis=1)\n",
    "y_train = top_5_train_loaded['Total_Returns_NextYear']\n",
    "\n",
    "X_test = top_5_test_loaded.drop('Total_Returns_NextYear', axis=1)\n",
    "y_test = top_5_test_loaded['Total_Returns_NextYear']"
   ]
  },
  {
   "cell_type": "code",
   "execution_count": null,
   "id": "59b30f8b",
   "metadata": {},
   "outputs": [],
   "source": [
    "from sklearn.linear_model import LinearRegression\n",
    "from sklearn.metrics import r2_score, mean_squared_error\n",
    "import numpy as np\n",
    "import matplotlib.pyplot as plt\n",
    "\n",
    "# Step 1: Train model\n",
    "model = LinearRegression()\n",
    "model.fit(X_train, y_train)\n",
    "\n",
    "# Step 2: Predict\n",
    "y_pred = model.predict(X_test)"
   ]
  },
  {
   "cell_type": "code",
   "execution_count": null,
   "id": "1617247b",
   "metadata": {},
   "outputs": [],
   "source": [
    "# Step 3: Evaluate\n",
    "r2 = r2_score(y_test, y_pred)\n",
    "mse = mean_squared_error(y_test, y_pred)\n",
    "mape = np.mean(np.abs((y_test - y_pred) / y_test)) * 100\n",
    "\n",
    "# Step 4: Print metrics\n",
    "print(\"Linear Regression Evaluation Metrics:\")\n",
    "print(f\"R²   (R-squared):              {r2:.4f}\")\n",
    "print(f\"MSE  (Mean Squared Error):     {mse:.2f}\")\n",
    "print(f\"MAPE (Mean Absolute % Error):  {mape:.2f}%\")"
   ]
  },
  {
   "cell_type": "markdown",
   "id": "d001a095",
   "metadata": {},
   "source": [
    "*****************************************************************************"
   ]
  },
  {
   "cell_type": "markdown",
   "id": "d08768f7",
   "metadata": {},
   "source": [
    "Random Forest model"
   ]
  },
  {
   "cell_type": "code",
   "execution_count": null,
   "id": "eaa3470e",
   "metadata": {},
   "outputs": [],
   "source": [
    "import pandas as pd\n",
    "\n",
    "# File paths\n",
    "train_path = r\"C:\\Users\\MuriloFarias\\Desktop\\NNS-JULIA\\PredictSalmonRuns\\murilo_salmon\\BristolBay\\TOP_5\\top_5_train.csv\"\n",
    "test_path = r\"C:\\Users\\MuriloFarias\\Desktop\\NNS-JULIA\\PredictSalmonRuns\\murilo_salmon\\BristolBay\\TOP_5\\top_5_test.csv\"\n",
    "\n",
    "# Load datasets\n",
    "top_5_train_loaded = pd.read_csv(train_path)\n",
    "top_5_test_loaded = pd.read_csv(test_path)\n",
    "\n",
    "X_train = top_5_train_loaded.drop('Total_Returns_NextYear', axis=1)\n",
    "y_train = top_5_train_loaded['Total_Returns_NextYear']\n",
    "\n",
    "X_test = top_5_test_loaded.drop('Total_Returns_NextYear', axis=1)\n",
    "y_test = top_5_test_loaded['Total_Returns_NextYear']"
   ]
  },
  {
   "cell_type": "code",
   "execution_count": null,
   "id": "dfdbc71a",
   "metadata": {},
   "outputs": [],
   "source": [
    "from sklearn.ensemble import RandomForestRegressor\n",
    "from sklearn.metrics import r2_score, mean_squared_error\n",
    "import numpy as np\n",
    "import matplotlib.pyplot as plt\n",
    "\n",
    "# Step 1: Train the model\n",
    "rf = RandomForestRegressor(n_estimators=100, random_state=42)\n",
    "rf.fit(X_train, y_train)\n",
    "\n",
    "# Step 2: Predict\n",
    "y_pred = rf.predict(X_test)"
   ]
  },
  {
   "cell_type": "code",
   "execution_count": null,
   "id": "3cc633dd",
   "metadata": {},
   "outputs": [],
   "source": [
    "# Step 3: Evaluate\n",
    "r2 = r2_score(y_test, y_pred)\n",
    "mse = mean_squared_error(y_test, y_pred)\n",
    "mape = np.mean(np.abs((y_test - y_pred) / y_test)) * 100\n",
    "\n",
    "# Step 4: Print results\n",
    "print(\"Random Forest Evaluation Metrics:\")\n",
    "print(f\"R²   (R-squared):              {r2:.4f}\")\n",
    "print(f\"MSE  (Mean Squared Error):     {mse:.2f}\")\n",
    "print(f\"MAPE (Mean Absolute % Error):  {mape:.2f}%\")"
   ]
  },
  {
   "cell_type": "markdown",
   "id": "530048bd",
   "metadata": {},
   "source": [
    "***********************************************************************"
   ]
  },
  {
   "cell_type": "markdown",
   "id": "dcb8e25d",
   "metadata": {},
   "source": [
    "XGBoost Regressor"
   ]
  },
  {
   "cell_type": "code",
   "execution_count": 2,
   "id": "040e1a1b",
   "metadata": {},
   "outputs": [],
   "source": [
    "from xgboost import XGBRegressor\n",
    "from sklearn.metrics import r2_score, mean_squared_error\n",
    "import numpy as np\n",
    "import matplotlib.pyplot as plt"
   ]
  },
  {
   "cell_type": "code",
   "execution_count": 4,
   "id": "be471852",
   "metadata": {},
   "outputs": [],
   "source": [
    "import pandas as pd\n",
    "\n",
    "# File paths\n",
    "train_path = r\"C:\\Users\\MuriloFarias\\Desktop\\NNS-JULIA\\PredictSalmonRuns\\murilo_salmon\\BristolBay\\TOP_5\\top_5_train.csv\"\n",
    "test_path = r\"C:\\Users\\MuriloFarias\\Desktop\\NNS-JULIA\\PredictSalmonRuns\\murilo_salmon\\BristolBay\\TOP_5\\top_5_test.csv\"\n",
    "\n",
    "# Load datasets\n",
    "top_5_train_loaded = pd.read_csv(train_path)\n",
    "top_5_test_loaded = pd.read_csv(test_path)\n",
    "\n",
    "X_train = top_5_train_loaded.drop('Total_Returns_NextYear', axis=1)\n",
    "y_train = top_5_train_loaded['Total_Returns_NextYear']\n",
    "\n",
    "X_test = top_5_test_loaded.drop('Total_Returns_NextYear', axis=1)\n",
    "y_test = top_5_test_loaded['Total_Returns_NextYear']"
   ]
  },
  {
   "cell_type": "code",
   "execution_count": 5,
   "id": "7eabe934",
   "metadata": {},
   "outputs": [],
   "source": [
    "# Step 1: Train XGBoost Regressor\n",
    "xgb_model = XGBRegressor(objective='reg:squarederror', random_state=42)\n",
    "xgb_model.fit(X_train, y_train)\n",
    "\n",
    "# Step 2: Predict\n",
    "y_pred = xgb_model.predict(X_test)"
   ]
  },
  {
   "cell_type": "code",
   "execution_count": 7,
   "id": "a2f240ba",
   "metadata": {},
   "outputs": [
    {
     "name": "stdout",
     "output_type": "stream",
     "text": [
      "XGBoost Evaluation Metrics:\n",
      "R²   (R-squared):              0.2398\n",
      "MSE  (Mean Squared Error):     26327446117411.62\n",
      "MAPE (Mean Absolute % Error):  116.94%\n"
     ]
    }
   ],
   "source": [
    "# Step 3: Evaluate\n",
    "r2 = r2_score(y_test, y_pred)\n",
    "mse = mean_squared_error(y_test, y_pred)\n",
    "mape = np.mean(np.abs((y_test - y_pred) / y_test)) * 100\n",
    "\n",
    "# Step 4: Print results\n",
    "print(\"XGBoost Evaluation Metrics:\")\n",
    "print(f\"R²   (R-squared):              {r2:.4f}\")\n",
    "print(f\"MSE  (Mean Squared Error):     {mse:.2f}\")\n",
    "print(f\"MAPE (Mean Absolute % Error):  {mape:.2f}%\")"
   ]
  }
 ],
 "metadata": {
  "kernelspec": {
   "display_name": "Python 3",
   "language": "python",
   "name": "python3"
  },
  "language_info": {
   "codemirror_mode": {
    "name": "ipython",
    "version": 3
   },
   "file_extension": ".py",
   "mimetype": "text/x-python",
   "name": "python",
   "nbconvert_exporter": "python",
   "pygments_lexer": "ipython3",
   "version": "3.10.0"
  }
 },
 "nbformat": 4,
 "nbformat_minor": 5
}
