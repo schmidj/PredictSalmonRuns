{
 "cells": [
  {
   "cell_type": "markdown",
   "id": "d6ab0ee8",
   "metadata": {},
   "source": [
    "1 Loading the dataframe original data_set_bristol_encoded.csv\n",
    "2 Using top 5 correlation beetwen features and lable (Total_Returns_NextYear)\n",
    "3 Dataset sorted by year and keeping only top 5\n",
    "4 Spliting 80% 20% random\n",
    "5 Saving new datas"
   ]
  },
  {
   "cell_type": "code",
   "execution_count": 3,
   "id": "10ba58ef",
   "metadata": {},
   "outputs": [],
   "source": [
    "import pandas as pd\n",
    "\n",
    "file_path = r\"C:\\Users\\MuriloFarias\\Desktop\\NNS-JULIA\\PredictSalmonRuns\\murilo_salmon\\BristolBay\\data_set_bristol_encoded.csv\"\n",
    "pipe_line_top_5 = pd.read_csv(file_path)\n"
   ]
  },
  {
   "cell_type": "markdown",
   "id": "e231e287",
   "metadata": {},
   "source": [
    "Chaging permission to see the entire dataseet"
   ]
  },
  {
   "cell_type": "code",
   "execution_count": null,
   "id": "8b837e37",
   "metadata": {},
   "outputs": [],
   "source": [
    "# Show all rows and columns\n",
    "pd.set_option('display.max_rows', None)\n",
    "pd.set_option('display.max_columns', None)\n",
    "pipe_line_top_5"
   ]
  },
  {
   "cell_type": "markdown",
   "id": "fe99c5da",
   "metadata": {},
   "source": [
    "See the corretation features vs Total_Returns_NextYear\n",
    "ordering by best correlation"
   ]
  },
  {
   "cell_type": "code",
   "execution_count": 7,
   "id": "edf15ad7",
   "metadata": {},
   "outputs": [
    {
     "name": "stdout",
     "output_type": "stream",
     "text": [
      "Correlation with Total_Returns_NextYear (sorted):\n",
      "AgeClass_2.1          0.628755\n",
      "Total_Returns         0.569922\n",
      "AgeClass_1.2          0.521003\n",
      "River_Kvichak         0.446084\n",
      "AgeClass_2.2          0.322697\n",
      "River_Igushik        -0.263524\n",
      "AgeClass_1.3          0.245940\n",
      "Year                  0.243171\n",
      "AgeClass_2.3          0.237773\n",
      "River_Egegik          0.182710\n",
      "River_Alagnak        -0.176593\n",
      "AgeClass_1.1          0.171977\n",
      "River_Nushagak       -0.153677\n",
      "npgo_mean_DecFeb     -0.150803\n",
      "ao_mean_DecMar        0.108058\n",
      "AgeClass_2.4          0.107191\n",
      "AgeClass_0.3         -0.106601\n",
      "oni_mean_DecFeb       0.101804\n",
      "AgeClass_3.3          0.100037\n",
      "AgeClass_3.2          0.092726\n",
      "AgeClass_1.5          0.086795\n",
      "AgeClass_0.4         -0.079513\n",
      "River_Ugashik        -0.073503\n",
      "AgeClass_0.1          0.070961\n",
      "AgeClass_0.2         -0.070132\n",
      "npi_mean_NovMar       0.057374\n",
      "River_Wood            0.045350\n",
      "sss_mayaug           -0.037836\n",
      "pdo_mean_MaySep       0.037221\n",
      "AgeClass_0.5         -0.022657\n",
      "AgeClass_1.4         -0.019023\n",
      "AgeClass_3.4          0.016333\n",
      "AgeClass_3.1          0.010058\n",
      "pdo_mean_DecMar       0.007604\n",
      "River_Naknek         -0.006848\n",
      "Pacea_ALPI_Anomaly   -0.002746\n",
      "Name: Total_Returns_NextYear, dtype: float64\n"
     ]
    }
   ],
   "source": [
    "# 1. Calculate correlation matrix\n",
    "corr_matrix = pipe_line_top_5.corr(numeric_only=True)\n",
    "# 2. Get correlation of all features with the target\n",
    "target_corr = corr_matrix['Total_Returns_NextYear'].drop('Total_Returns_NextYear')\n",
    "\n",
    "# 3. Sort by absolute correlation (descending) and print\n",
    "target_corr_sorted = target_corr.reindex(target_corr.abs().sort_values(ascending=False).index)\n",
    "\n",
    "print(\"Correlation with Total_Returns_NextYear (sorted):\")\n",
    "print(target_corr_sorted)"
   ]
  },
  {
   "cell_type": "markdown",
   "id": "883bbc6d",
   "metadata": {},
   "source": [
    "Keeping only with columns:\n",
    "Label: Total_Returns_NextYear\n",
    "and the top 5 correlations\n",
    "sorting by year"
   ]
  },
  {
   "cell_type": "code",
   "execution_count": 8,
   "id": "3fe2086b",
   "metadata": {},
   "outputs": [
    {
     "name": "stdout",
     "output_type": "stream",
     "text": [
      "AgeClass_2.1\n",
      "Total_Returns\n",
      "AgeClass_1.2\n",
      "River_Kvichak\n",
      "AgeClass_2.2\n",
      "Total_Returns_NextYear\n"
     ]
    }
   ],
   "source": [
    "# Step 1: Sort by Year\n",
    "pipe_line_top_5_sorted = pipe_line_top_5.sort_values(by='Year').reset_index(drop=True)\n",
    "\n",
    "# Step 2: Get top 5 most correlated column names\n",
    "top_5_features = target_corr_sorted.head(5).index.tolist()\n",
    "\n",
    "# Step 3: Keep only top 5 features + target column\n",
    "pipe_line_top_5_filtered = pipe_line_top_5_sorted[top_5_features + ['Total_Returns_NextYear']]\n",
    "\n",
    "# Step 4: Print column names\n",
    "for col in pipe_line_top_5_filtered.columns:\n",
    "    print(col)\n"
   ]
  },
  {
   "cell_type": "markdown",
   "id": "ca9e231a",
   "metadata": {},
   "source": [
    "saving data set train 80% and test 20%"
   ]
  },
  {
   "cell_type": "code",
   "execution_count": 5,
   "id": "c1654763",
   "metadata": {},
   "outputs": [
    {
     "name": "stdout",
     "output_type": "stream",
     "text": [
      "Train set saved to: C:\\Users\\MuriloFarias\\Desktop\\NNS-JULIA\\PredictSalmonRuns\\murilo_salmon\\BristolBay\\TOP_5\\top_5_train.csv\n",
      "Test set saved to: C:\\Users\\MuriloFarias\\Desktop\\NNS-JULIA\\PredictSalmonRuns\\murilo_salmon\\BristolBay\\TOP_5\\top_5_test.csv\n"
     ]
    }
   ],
   "source": [
    "from sklearn.model_selection import train_test_split\n",
    "import os\n",
    "\n",
    "# Split into 80% train, 20% test\n",
    "top_5_train, top_5_test = train_test_split(\n",
    "    pipe_line_top_5_filtered, test_size=0.2, random_state=42\n",
    ")\n",
    "\n",
    "# Paths to save files\n",
    "save_dir = r\"C:\\Users\\MuriloFarias\\Desktop\\NNS-JULIA\\PredictSalmonRuns\\murilo_salmon\\BristolBay\\TOP_5\"\n",
    "os.makedirs(save_dir, exist_ok=True)\n",
    "\n",
    "train_path = os.path.join(save_dir, \"top_5_train.csv\")\n",
    "test_path = os.path.join(save_dir, \"top_5_test.csv\")\n",
    "\n",
    "# Save CSV files\n",
    "top_5_train.to_csv(train_path, index=False)\n",
    "top_5_test.to_csv(test_path, index=False)\n",
    "\n",
    "print(f\"Train set saved to: {train_path}\")\n",
    "print(f\"Test set saved to: {test_path}\")\n"
   ]
  },
  {
   "cell_type": "markdown",
   "id": "66e3fc48",
   "metadata": {},
   "source": [
    "open just to see"
   ]
  },
  {
   "cell_type": "code",
   "execution_count": 9,
   "id": "65df7283",
   "metadata": {},
   "outputs": [],
   "source": [
    "import pandas as pd\n",
    "\n",
    "# File paths\n",
    "train_path = r\"C:\\Users\\MuriloFarias\\Desktop\\NNS-JULIA\\PredictSalmonRuns\\murilo_salmon\\BristolBay\\TOP_5\\top_5_train.csv\"\n",
    "test_path = r\"C:\\Users\\MuriloFarias\\Desktop\\NNS-JULIA\\PredictSalmonRuns\\murilo_salmon\\BristolBay\\TOP_5\\top_5_test.csv\"\n",
    "\n",
    "# Load datasets\n",
    "top_5_train_loaded = pd.read_csv(train_path)\n",
    "top_5_test_loaded = pd.read_csv(test_path)\n",
    "\n"
   ]
  },
  {
   "cell_type": "markdown",
   "id": "5c9b32ca",
   "metadata": {},
   "source": [
    "checking if were split 80%20%"
   ]
  },
  {
   "cell_type": "code",
   "execution_count": 10,
   "id": "29501cbb",
   "metadata": {},
   "outputs": [
    {
     "name": "stdout",
     "output_type": "stream",
     "text": [
      "Difference in number of rows: 0\n"
     ]
    }
   ],
   "source": [
    "dif = pipe_line_top_5_filtered.shape[0] - (top_5_test_loaded.shape[0] + top_5_train_loaded.shape[0])\n",
    "print(f\"Difference in number of rows: {dif}\")"
   ]
  },
  {
   "cell_type": "code",
   "execution_count": 11,
   "id": "55e0afc4",
   "metadata": {},
   "outputs": [
    {
     "data": {
      "text/html": [
       "<div>\n",
       "<style scoped>\n",
       "    .dataframe tbody tr th:only-of-type {\n",
       "        vertical-align: middle;\n",
       "    }\n",
       "\n",
       "    .dataframe tbody tr th {\n",
       "        vertical-align: top;\n",
       "    }\n",
       "\n",
       "    .dataframe thead th {\n",
       "        text-align: right;\n",
       "    }\n",
       "</style>\n",
       "<table border=\"1\" class=\"dataframe\">\n",
       "  <thead>\n",
       "    <tr style=\"text-align: right;\">\n",
       "      <th></th>\n",
       "      <th>AgeClass_2.1</th>\n",
       "      <th>Total_Returns</th>\n",
       "      <th>AgeClass_1.2</th>\n",
       "      <th>River_Kvichak</th>\n",
       "      <th>AgeClass_2.2</th>\n",
       "      <th>Total_Returns_NextYear</th>\n",
       "    </tr>\n",
       "  </thead>\n",
       "  <tbody>\n",
       "    <tr>\n",
       "      <th>0</th>\n",
       "      <td>8.743316e+04</td>\n",
       "      <td>1.760947e+07</td>\n",
       "      <td>6.056269e+06</td>\n",
       "      <td>1</td>\n",
       "      <td>9.731029e+06</td>\n",
       "      <td>2.310379e+07</td>\n",
       "    </tr>\n",
       "    <tr>\n",
       "      <th>1</th>\n",
       "      <td>2.141548e+01</td>\n",
       "      <td>2.499049e+06</td>\n",
       "      <td>1.790533e+05</td>\n",
       "      <td>0</td>\n",
       "      <td>1.657638e+06</td>\n",
       "      <td>2.540240e+06</td>\n",
       "    </tr>\n",
       "    <tr>\n",
       "      <th>2</th>\n",
       "      <td>5.808646e+03</td>\n",
       "      <td>2.884786e+06</td>\n",
       "      <td>1.304555e+05</td>\n",
       "      <td>0</td>\n",
       "      <td>3.308573e+05</td>\n",
       "      <td>1.555051e+06</td>\n",
       "    </tr>\n",
       "    <tr>\n",
       "      <th>3</th>\n",
       "      <td>4.766273e-09</td>\n",
       "      <td>1.819299e+07</td>\n",
       "      <td>6.529166e+05</td>\n",
       "      <td>1</td>\n",
       "      <td>1.485162e+07</td>\n",
       "      <td>8.613127e+06</td>\n",
       "    </tr>\n",
       "    <tr>\n",
       "      <th>4</th>\n",
       "      <td>0.000000e+00</td>\n",
       "      <td>3.569959e+06</td>\n",
       "      <td>5.475559e+05</td>\n",
       "      <td>1</td>\n",
       "      <td>6.771330e+05</td>\n",
       "      <td>1.940225e+06</td>\n",
       "    </tr>\n",
       "    <tr>\n",
       "      <th>...</th>\n",
       "      <td>...</td>\n",
       "      <td>...</td>\n",
       "      <td>...</td>\n",
       "      <td>...</td>\n",
       "      <td>...</td>\n",
       "      <td>...</td>\n",
       "    </tr>\n",
       "    <tr>\n",
       "      <th>385</th>\n",
       "      <td>0.000000e+00</td>\n",
       "      <td>3.079973e+05</td>\n",
       "      <td>9.377054e+04</td>\n",
       "      <td>0</td>\n",
       "      <td>3.933285e+04</td>\n",
       "      <td>1.700351e+05</td>\n",
       "    </tr>\n",
       "    <tr>\n",
       "      <th>386</th>\n",
       "      <td>9.211459e+03</td>\n",
       "      <td>5.370653e+06</td>\n",
       "      <td>3.228252e+05</td>\n",
       "      <td>0</td>\n",
       "      <td>4.524737e+05</td>\n",
       "      <td>2.508751e+06</td>\n",
       "    </tr>\n",
       "    <tr>\n",
       "      <th>387</th>\n",
       "      <td>1.829335e+03</td>\n",
       "      <td>5.342241e+06</td>\n",
       "      <td>1.471106e+06</td>\n",
       "      <td>0</td>\n",
       "      <td>3.962394e+05</td>\n",
       "      <td>8.438492e+06</td>\n",
       "    </tr>\n",
       "    <tr>\n",
       "      <th>388</th>\n",
       "      <td>9.780529e+02</td>\n",
       "      <td>6.672738e+06</td>\n",
       "      <td>3.860507e+06</td>\n",
       "      <td>0</td>\n",
       "      <td>6.537641e+05</td>\n",
       "      <td>4.770223e+06</td>\n",
       "    </tr>\n",
       "    <tr>\n",
       "      <th>389</th>\n",
       "      <td>0.000000e+00</td>\n",
       "      <td>1.126567e+05</td>\n",
       "      <td>2.883792e+04</td>\n",
       "      <td>0</td>\n",
       "      <td>8.320093e+03</td>\n",
       "      <td>1.574497e+05</td>\n",
       "    </tr>\n",
       "  </tbody>\n",
       "</table>\n",
       "<p>390 rows × 6 columns</p>\n",
       "</div>"
      ],
      "text/plain": [
       "     AgeClass_2.1  Total_Returns  AgeClass_1.2  River_Kvichak  AgeClass_2.2  \\\n",
       "0    8.743316e+04   1.760947e+07  6.056269e+06              1  9.731029e+06   \n",
       "1    2.141548e+01   2.499049e+06  1.790533e+05              0  1.657638e+06   \n",
       "2    5.808646e+03   2.884786e+06  1.304555e+05              0  3.308573e+05   \n",
       "3    4.766273e-09   1.819299e+07  6.529166e+05              1  1.485162e+07   \n",
       "4    0.000000e+00   3.569959e+06  5.475559e+05              1  6.771330e+05   \n",
       "..            ...            ...           ...            ...           ...   \n",
       "385  0.000000e+00   3.079973e+05  9.377054e+04              0  3.933285e+04   \n",
       "386  9.211459e+03   5.370653e+06  3.228252e+05              0  4.524737e+05   \n",
       "387  1.829335e+03   5.342241e+06  1.471106e+06              0  3.962394e+05   \n",
       "388  9.780529e+02   6.672738e+06  3.860507e+06              0  6.537641e+05   \n",
       "389  0.000000e+00   1.126567e+05  2.883792e+04              0  8.320093e+03   \n",
       "\n",
       "     Total_Returns_NextYear  \n",
       "0              2.310379e+07  \n",
       "1              2.540240e+06  \n",
       "2              1.555051e+06  \n",
       "3              8.613127e+06  \n",
       "4              1.940225e+06  \n",
       "..                      ...  \n",
       "385            1.700351e+05  \n",
       "386            2.508751e+06  \n",
       "387            8.438492e+06  \n",
       "388            4.770223e+06  \n",
       "389            1.574497e+05  \n",
       "\n",
       "[390 rows x 6 columns]"
      ]
     },
     "execution_count": 11,
     "metadata": {},
     "output_type": "execute_result"
    }
   ],
   "source": [
    "top_5_train_loaded"
   ]
  }
 ],
 "metadata": {
  "kernelspec": {
   "display_name": "Python 3",
   "language": "python",
   "name": "python3"
  },
  "language_info": {
   "codemirror_mode": {
    "name": "ipython",
    "version": 3
   },
   "file_extension": ".py",
   "mimetype": "text/x-python",
   "name": "python",
   "nbconvert_exporter": "python",
   "pygments_lexer": "ipython3",
   "version": "3.10.0"
  }
 },
 "nbformat": 4,
 "nbformat_minor": 5
}
