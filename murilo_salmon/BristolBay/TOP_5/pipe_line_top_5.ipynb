{
 "cells": [
  {
   "cell_type": "markdown",
   "id": "d6ab0ee8",
   "metadata": {},
   "source": [
    "Loading the dataframe"
   ]
  },
  {
   "cell_type": "code",
   "execution_count": 1,
   "id": "10ba58ef",
   "metadata": {},
   "outputs": [],
   "source": [
    "import pandas as pd\n",
    "\n",
    "file_path = r\"C:\\Users\\MuriloFarias\\Desktop\\NNS-JULIA\\PredictSalmonRuns\\murilo_salmon\\BristolBay\\data_set_bristol_encoded.csv\"\n",
    "pipe_line_top_5 = pd.read_csv(file_path)\n"
   ]
  },
  {
   "cell_type": "markdown",
   "id": "e231e287",
   "metadata": {},
   "source": [
    "Chaging permission to see the entire dataseet"
   ]
  },
  {
   "cell_type": "code",
   "execution_count": null,
   "id": "8b837e37",
   "metadata": {},
   "outputs": [],
   "source": [
    "# Show all rows and columns\n",
    "pd.set_option('display.max_rows', None)\n",
    "pd.set_option('display.max_columns', None)\n",
    "pipe_line_top_5"
   ]
  },
  {
   "cell_type": "markdown",
   "id": "fe99c5da",
   "metadata": {},
   "source": [
    "See the corretation features vs Total_Returns_NextYear\n",
    "ordering by best correlation"
   ]
  },
  {
   "cell_type": "code",
   "execution_count": null,
   "id": "edf15ad7",
   "metadata": {},
   "outputs": [],
   "source": [
    "# 1. Calculate correlation matrix\n",
    "corr_matrix = pipe_line_top_5.corr(numeric_only=True)\n",
    "# 2. Get correlation of all features with the target\n",
    "target_corr = corr_matrix['Total_Returns_NextYear'].drop('Total_Returns_NextYear')\n",
    "\n",
    "# 3. Sort by absolute correlation (descending) and print\n",
    "target_corr_sorted = target_corr.reindex(target_corr.abs().sort_values(ascending=False).index)\n",
    "\n",
    "print(\"Correlation with Total_Returns_NextYear (sorted):\")\n",
    "print(target_corr_sorted)"
   ]
  },
  {
   "cell_type": "markdown",
   "id": "883bbc6d",
   "metadata": {},
   "source": [
    "Keeping only with columns:\n",
    "Label: Total_Returns_NextYear\n",
    "and the top 5 correlations\n",
    "sorting by year"
   ]
  },
  {
   "cell_type": "code",
   "execution_count": 4,
   "id": "3fe2086b",
   "metadata": {},
   "outputs": [
    {
     "name": "stdout",
     "output_type": "stream",
     "text": [
      "AgeClass_2.1\n",
      "Total_Returns\n",
      "AgeClass_1.2\n",
      "River_Kvichak\n",
      "AgeClass_2.2\n",
      "Total_Returns_NextYear\n"
     ]
    }
   ],
   "source": [
    "# Step 1: Sort by Year\n",
    "pipe_line_top_5_sorted = pipe_line_top_5.sort_values(by='Year').reset_index(drop=True)\n",
    "\n",
    "# Step 2: Get top 5 most correlated column names\n",
    "top_5_features = target_corr_sorted.head(5).index.tolist()\n",
    "\n",
    "# Step 3: Keep only top 5 features + target column\n",
    "pipe_line_top_5_filtered = pipe_line_top_5_sorted[top_5_features + ['Total_Returns_NextYear']]\n",
    "\n",
    "# Step 4: Print column names\n",
    "for col in pipe_line_top_5_filtered.columns:\n",
    "    print(col)\n"
   ]
  },
  {
   "cell_type": "markdown",
   "id": "ca9e231a",
   "metadata": {},
   "source": [
    "saving data set train 80% and test 20%"
   ]
  },
  {
   "cell_type": "code",
   "execution_count": 5,
   "id": "c1654763",
   "metadata": {},
   "outputs": [
    {
     "name": "stdout",
     "output_type": "stream",
     "text": [
      "Train set saved to: C:\\Users\\MuriloFarias\\Desktop\\NNS-JULIA\\PredictSalmonRuns\\murilo_salmon\\BristolBay\\TOP_5\\top_5_train.csv\n",
      "Test set saved to: C:\\Users\\MuriloFarias\\Desktop\\NNS-JULIA\\PredictSalmonRuns\\murilo_salmon\\BristolBay\\TOP_5\\top_5_test.csv\n"
     ]
    }
   ],
   "source": [
    "from sklearn.model_selection import train_test_split\n",
    "import os\n",
    "\n",
    "# Split into 80% train, 20% test\n",
    "top_5_train, top_5_test = train_test_split(\n",
    "    pipe_line_top_5_filtered, test_size=0.2, random_state=42\n",
    ")\n",
    "\n",
    "# Paths to save files\n",
    "save_dir = r\"C:\\Users\\MuriloFarias\\Desktop\\NNS-JULIA\\PredictSalmonRuns\\murilo_salmon\\BristolBay\\TOP_5\"\n",
    "os.makedirs(save_dir, exist_ok=True)\n",
    "\n",
    "train_path = os.path.join(save_dir, \"top_5_train.csv\")\n",
    "test_path = os.path.join(save_dir, \"top_5_test.csv\")\n",
    "\n",
    "# Save CSV files\n",
    "top_5_train.to_csv(train_path, index=False)\n",
    "top_5_test.to_csv(test_path, index=False)\n",
    "\n",
    "print(f\"Train set saved to: {train_path}\")\n",
    "print(f\"Test set saved to: {test_path}\")\n"
   ]
  },
  {
   "cell_type": "markdown",
   "id": "66e3fc48",
   "metadata": {},
   "source": [
    "open just to see"
   ]
  },
  {
   "cell_type": "code",
   "execution_count": 6,
   "id": "65df7283",
   "metadata": {},
   "outputs": [],
   "source": [
    "import pandas as pd\n",
    "\n",
    "# File paths\n",
    "train_path = r\"C:\\Users\\MuriloFarias\\Desktop\\NNS-JULIA\\PredictSalmonRuns\\murilo_salmon\\BristolBay\\TOP_5\\top_5_train.csv\"\n",
    "test_path = r\"C:\\Users\\MuriloFarias\\Desktop\\NNS-JULIA\\PredictSalmonRuns\\murilo_salmon\\BristolBay\\TOP_5\\top_5_test.csv\"\n",
    "\n",
    "# Load datasets\n",
    "top_5_train_loaded = pd.read_csv(train_path)\n",
    "top_5_test_loaded = pd.read_csv(test_path)\n",
    "\n"
   ]
  },
  {
   "cell_type": "markdown",
   "id": "5c9b32ca",
   "metadata": {},
   "source": [
    "checking if were split 80%20%"
   ]
  },
  {
   "cell_type": "code",
   "execution_count": 21,
   "id": "29501cbb",
   "metadata": {},
   "outputs": [
    {
     "name": "stdout",
     "output_type": "stream",
     "text": [
      "Difference in number of rows: 0\n"
     ]
    }
   ],
   "source": [
    "dif = pipe_line_top_5_filtered.shape[0] - (top_5_test_loaded.shape[0] + top_5_train_loaded.shape[0])\n",
    "print(f\"Difference in number of rows: {dif}\")"
   ]
  },
  {
   "cell_type": "markdown",
   "id": "ad23a245",
   "metadata": {},
   "source": [
    "next step to train some model\n",
    "\n",
    "# Split features and target\n",
    "X_train = top_5_train_loaded.drop('Total_Returns_NextYear', axis=1)\n",
    "y_train = top_5_train_loaded['Total_Returns_NextYear']\n",
    "\n",
    "X_test = top_5_test_loaded.drop('Total_Returns_NextYear', axis=1)\n",
    "y_test = top_5_test_loaded['Total_Returns_NextYear']"
   ]
  }
 ],
 "metadata": {
  "kernelspec": {
   "display_name": "Python 3",
   "language": "python",
   "name": "python3"
  },
  "language_info": {
   "codemirror_mode": {
    "name": "ipython",
    "version": 3
   },
   "file_extension": ".py",
   "mimetype": "text/x-python",
   "name": "python",
   "nbconvert_exporter": "python",
   "pygments_lexer": "ipython3",
   "version": "3.10.0"
  }
 },
 "nbformat": 4,
 "nbformat_minor": 5
}
