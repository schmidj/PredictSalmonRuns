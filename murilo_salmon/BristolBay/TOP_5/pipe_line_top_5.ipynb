{
 "cells": [
  {
   "cell_type": "markdown",
   "id": "d6ab0ee8",
   "metadata": {},
   "source": [
    "1 Loading the dataframe original data_set_bristol_encoded.csv\n",
    "2 Using top 5 correlation beetwen features and lable (Total_Returns_NextYear)\n",
    "3 Dataset sorted by year and keeping only top 5\n",
    "4 Spliting 80% 20% random\n",
    "5 Saving new datas"
   ]
  },
  {
   "cell_type": "code",
   "execution_count": 7,
   "id": "ad99d8b5",
   "metadata": {},
   "outputs": [],
   "source": [
    "import os"
   ]
  },
  {
   "cell_type": "code",
   "execution_count": 1,
   "id": "10ba58ef",
   "metadata": {},
   "outputs": [],
   "source": [
    "import pandas as pd\n",
    "\n",
    "# File paths\n",
    "file_path = r\"C:\\Users\\MuriloFarias\\Desktop\\NNS-JULIA\\PredictSalmonRuns\\murilo_salmon\\BristolBay\\data_train_encoded.csv\"\n",
    "test_path = r\"C:\\Users\\MuriloFarias\\Desktop\\NNS-JULIA\\PredictSalmonRuns\\murilo_salmon\\BristolBay\\data_test_encoded.csv\"\n",
    "\n",
    "\n",
    "pipe_line_top_5_train = pd.read_csv(file_path)\n",
    "pipe_line_top_5_test = pd.read_csv(test_path)\n"
   ]
  },
  {
   "cell_type": "markdown",
   "id": "fe99c5da",
   "metadata": {},
   "source": [
    "See the corretation features vs Total_Returns_NextYear\n",
    "ordering by best correlation\n",
    "only for train dataset"
   ]
  },
  {
   "cell_type": "code",
   "execution_count": null,
   "id": "edf15ad7",
   "metadata": {},
   "outputs": [],
   "source": [
    "# 1. Calculate correlation matrix\n",
    "corr_matrix = pipe_line_top_5_train.corr(numeric_only=True)\n",
    "# 2. Get correlation of all features with the target\n",
    "target_corr = corr_matrix['Total_Returns_NextYear'].drop('Total_Returns_NextYear')\n",
    "\n",
    "# 3. Sort by absolute correlation (descending) and print\n",
    "target_corr_sorted = target_corr.reindex(target_corr.abs().sort_values(ascending=False).index)\n",
    "\n",
    "print(\"Correlation with Total_Returns_NextYear (sorted):\")\n",
    "print(target_corr_sorted)"
   ]
  },
  {
   "cell_type": "code",
   "execution_count": 3,
   "id": "9e772ddd",
   "metadata": {},
   "outputs": [],
   "source": [
    "# Step 4: Select top 5 features\n",
    "top_5_features = target_corr_sorted.head(5).index.tolist()"
   ]
  },
  {
   "cell_type": "code",
   "execution_count": 5,
   "id": "138bbcdf",
   "metadata": {},
   "outputs": [],
   "source": [
    "# Step 5: Add 'Year' and target column\n",
    "columns_to_keep = top_5_features + ['Year', 'Total_Returns_NextYear']"
   ]
  },
  {
   "cell_type": "code",
   "execution_count": 6,
   "id": "42c854a6",
   "metadata": {},
   "outputs": [],
   "source": [
    "# Step 6: Filter both datasets\n",
    "top_5_train = pipe_line_top_5_train[columns_to_keep]\n",
    "top_5_test = pipe_line_top_5_test[columns_to_keep]"
   ]
  },
  {
   "cell_type": "code",
   "execution_count": 8,
   "id": "e6b72f90",
   "metadata": {},
   "outputs": [
    {
     "name": "stdout",
     "output_type": "stream",
     "text": [
      "Top 5 features (plus Year) selected:\n",
      "['AgeClass_2.1', 'Total_Returns', 'AgeClass_1.2', 'River_Kvichak', 'AgeClass_2.2', 'Year', 'Total_Returns_NextYear']\n",
      "\n",
      "Train set saved to: C:\\Users\\MuriloFarias\\Desktop\\NNS-JULIA\\PredictSalmonRuns\\murilo_salmon\\BristolBay\\TOP_5\\top_5_train.csv\n",
      "Test set saved to: C:\\Users\\MuriloFarias\\Desktop\\NNS-JULIA\\PredictSalmonRuns\\murilo_salmon\\BristolBay\\TOP_5\\top_5_test.csv\n"
     ]
    }
   ],
   "source": [
    "# Step 7: Save the results\n",
    "save_dir = r\"C:\\Users\\MuriloFarias\\Desktop\\NNS-JULIA\\PredictSalmonRuns\\murilo_salmon\\BristolBay\\TOP_5\"\n",
    "os.makedirs(save_dir, exist_ok=True)\n",
    "\n",
    "train_path = os.path.join(save_dir, \"top_5_train.csv\")\n",
    "test_path = os.path.join(save_dir, \"top_5_test.csv\")\n",
    "\n",
    "top_5_train.to_csv(train_path, index=False)\n",
    "top_5_test.to_csv(test_path, index=False)\n",
    "\n",
    "print(\"Top 5 features (plus Year) selected:\")\n",
    "print(columns_to_keep)\n",
    "\n",
    "print(f\"\\nTrain set saved to: {train_path}\")\n",
    "print(f\"Test set saved to: {test_path}\")"
   ]
  },
  {
   "cell_type": "markdown",
   "id": "66e3fc48",
   "metadata": {},
   "source": [
    "open just to see and check"
   ]
  },
  {
   "cell_type": "code",
   "execution_count": 9,
   "id": "65df7283",
   "metadata": {},
   "outputs": [],
   "source": [
    "import pandas as pd\n",
    "\n",
    "# File paths\n",
    "train_path = r\"C:\\Users\\MuriloFarias\\Desktop\\NNS-JULIA\\PredictSalmonRuns\\murilo_salmon\\BristolBay\\TOP_5\\top_5_train.csv\"\n",
    "test_path = r\"C:\\Users\\MuriloFarias\\Desktop\\NNS-JULIA\\PredictSalmonRuns\\murilo_salmon\\BristolBay\\TOP_5\\top_5_test.csv\"\n",
    "\n",
    "# Load datasets\n",
    "top_5_train_loaded = pd.read_csv(train_path)\n",
    "top_5_test_loaded = pd.read_csv(test_path)"
   ]
  },
  {
   "cell_type": "code",
   "execution_count": 18,
   "id": "e141237b",
   "metadata": {},
   "outputs": [
    {
     "name": "stdout",
     "output_type": "stream",
     "text": [
      "Original test shape: (96, 37)\n",
      "Test shape after dropping columns: (96, 7)\n",
      "difference: 0 rows dropped\n",
      "\n",
      "\n",
      "Original train shape: (392, 37)\n",
      "Train shape after dropping columns: (392, 7)\n",
      "difference: 0 rows dropped\n"
     ]
    }
   ],
   "source": [
    "\n",
    "original_test = pipe_line_top_5_test.shape\n",
    "test_after_drop = top_5_test_loaded.shape\n",
    "print(f\"Original test shape: {original_test}\")\n",
    "print(f\"Test shape after dropping columns: {test_after_drop}\")\n",
    "print(f\"difference: {original_test[0] - test_after_drop[0]} rows dropped\")\n",
    "\n",
    "print(\"\\n\")\n",
    "\n",
    "original_train = pipe_line_top_5_train.shape\n",
    "train_after_drop = top_5_train_loaded.shape\n",
    "print(f\"Original train shape: {original_train}\")\n",
    "print(f\"Train shape after dropping columns: {train_after_drop}\") \n",
    "print(f\"difference: {original_train[0] - train_after_drop[0]} rows dropped\")"
   ]
  }
 ],
 "metadata": {
  "kernelspec": {
   "display_name": "Python 3",
   "language": "python",
   "name": "python3"
  },
  "language_info": {
   "codemirror_mode": {
    "name": "ipython",
    "version": 3
   },
   "file_extension": ".py",
   "mimetype": "text/x-python",
   "name": "python",
   "nbconvert_exporter": "python",
   "pygments_lexer": "ipython3",
   "version": "3.10.0"
  }
 },
 "nbformat": 4,
 "nbformat_minor": 5
}
