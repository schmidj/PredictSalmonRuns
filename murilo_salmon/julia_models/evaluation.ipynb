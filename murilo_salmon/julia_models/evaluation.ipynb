{
 "cells": [
  {
   "cell_type": "code",
   "execution_count": 1,
   "id": "d3d23301",
   "metadata": {},
   "outputs": [
    {
     "name": "stdout",
     "output_type": "stream",
     "text": [
      "| Model                      | River_Name            |   R2_Test |    MSE_Test |   MAPE_Test |   R2_Train |   MSE_Train |   MAPE_Train | System         |   TopK_Features | Additional_Features_Used   | ARIMA_Enabled   |\n",
      "|----------------------------|-----------------------|-----------|-------------|-------------|------------|-------------|--------------|----------------|-----------------|----------------------------|-----------------|\n",
      "| LR - Linear Regression     | Alagnak               |   -0.5778 | 5.57219e+12 |     34.873  |     0.4896 | 1.18718e+12 |      66.0165 | Bristol Bay    |              20 | True                       | True            |\n",
      "| PR - Polynomial Regression | Egegik                |   -0.6346 | 3.49738e+13 |     58.0427 |     0.7525 | 5.61303e+12 |      32.8627 | Bristol Bay    |               6 | True                       | False           |\n",
      "| PR - Polynomial Regression | Igushik               |    0.3235 | 1.97931e+11 |     19.2294 |     0.3919 | 1.47372e+11 |      86.6588 | Bristol Bay    |              10 | True                       | False           |\n",
      "| GBRT - Gradient Boosting   | Kvichak               |    0.3188 | 1.56105e+13 |     23.6333 |     0.956  | 4.67839e+12 |      45.723  | Bristol Bay    |              10 | True                       | False           |\n",
      "| PR - Polynomial Regression | Naknek                |    0.3997 | 2.26645e+12 |     21.7118 |     0.3446 | 3.1558e+12  |      38.6664 | Bristol Bay    |              10 | True                       | False           |\n",
      "| PR - Polynomial Regression | Nushagak              |    0.2652 | 1.67891e+13 |     30.6455 |     0.332  | 7.96778e+11 |     109.309  | Bristol Bay    |               6 | True                       | True            |\n",
      "| XGB - XGBoost              | Ugashik               |    0.3732 | 4.03993e+12 |     28.4537 |     0.9685 | 1.4436e+11  |      42.7881 | Bristol Bay    |               6 | True                       | False           |\n",
      "| LR - Linear Regression     | Wood                  |   -0.1381 | 2.65405e+13 |     33.0508 |     0.4815 | 2.96084e+12 |      39.4331 | Bristol Bay    |              10 | True                       | True            |\n",
      "| LR - Linear Regression     | Bonneville Lock & Dam |    0.6175 | 2.25942e+10 |     66.9632 |     0.8479 | 3.87762e+09 |      98.7792 | Columbia River |               6 | True                       | True            |\n",
      "| PR - Polynomial Regression | Chilko                |    0.1152 | 1.20008e+12 |     93.404  |     0.4031 | 6.65455e+11 |      71.1835 | Fraser River   |               6 | True                       | False           |\n",
      "| LR - Linear Regression     | Late Stuart           |   -1.9063 | 5.3625e+10  |    192.204  |     0.0148 | 8.86521e+11 |     341.994  | Fraser River   |              10 | True                       | False           |\n",
      "| XGB - XGBoost              | Quesnel               |    0.7138 | 1.85985e+11 |    325.251  |     0.9901 | 6.73684e+10 |    1300.96   | Fraser River   |               6 | True                       | False           |\n",
      "| RF - Random Forest         | Raft                  |   -3.0965 | 6.32814e+08 |    263.998  |   -34.9035 | 2.65453e+10 |     261.433  | Fraser River   |              10 | True                       | False           |\n",
      "| GBRT - Gradient Boosting   | Stellako              |    0.8682 | 1.70696e+10 |     75.8996 |     0.9291 | 7.39484e+09 |      23.0228 | Fraser River   |              10 | True                       | True            |\n"
     ]
    },
    {
     "name": "stderr",
     "output_type": "stream",
     "text": [
      "C:\\Users\\MuriloFarias\\AppData\\Local\\Temp\\ipykernel_35620\\4222392965.py:32: FutureWarning: DataFrame.applymap has been deprecated. Use DataFrame.map instead.\n",
      "  best_models_formatted[float_cols] = best_models_formatted[float_cols].applymap(lambda x: round(x, 4))\n"
     ]
    }
   ],
   "source": [
    "import pandas as pd\n",
    "from tabulate import tabulate\n",
    "\n",
    "# Load the results CSV\n",
    "csv_path = r\"C:\\Users\\MuriloFarias\\Desktop\\NNS-JULIA\\PredictSalmonRuns\\murilo_salmon\\julia_models\\results.csv\"\n",
    "df = pd.read_csv(csv_path)\n",
    "\n",
    "# Map short model names to full names\n",
    "model_name_map = {\n",
    "    \"RF\": \"RF - Random Forest\",\n",
    "    \"GBRT\": \"GBRT - Gradient Boosting\",\n",
    "    \"XGB\": \"XGB - XGBoost\",\n",
    "    \"LR\": \"LR - Linear Regression\",\n",
    "    \"PR\": \"PR - Polynomial Regression\"\n",
    "}\n",
    "df[\"Model\"] = df[\"Model\"].map(model_name_map)\n",
    "\n",
    "# Find best model per river based on lowest MAPE_Test\n",
    "best_models = df.loc[df.groupby(\"River_Name\")[\"MAPE_Test\"].idxmin()].copy()\n",
    "\n",
    "# Sort for readability\n",
    "best_models = best_models.sort_values(by=\"System\")\n",
    "\n",
    "# Select and round relevant columns\n",
    "columns_to_show = [\n",
    "    \"Model\", \"River_Name\", \"R2_Test\", \"MSE_Test\", \"MAPE_Test\",\n",
    "    \"R2_Train\", \"MSE_Train\", \"MAPE_Train\",\n",
    "    \"System\", \"TopK_Features\", \"Additional_Features_Used\", \"ARIMA_Enabled\"\n",
    "]\n",
    "best_models_formatted = best_models[columns_to_show].copy()\n",
    "float_cols = [\"R2_Test\", \"MSE_Test\", \"MAPE_Test\", \"R2_Train\", \"MSE_Train\", \"MAPE_Train\"]\n",
    "best_models_formatted[float_cols] = best_models_formatted[float_cols].applymap(lambda x: round(x, 4))\n",
    "\n",
    "# Print table\n",
    "print(tabulate(best_models_formatted, headers=\"keys\", tablefmt=\"github\", showindex=False))\n"
   ]
  }
 ],
 "metadata": {
  "kernelspec": {
   "display_name": "Python 3",
   "language": "python",
   "name": "python3"
  },
  "language_info": {
   "codemirror_mode": {
    "name": "ipython",
    "version": 3
   },
   "file_extension": ".py",
   "mimetype": "text/x-python",
   "name": "python",
   "nbconvert_exporter": "python",
   "pygments_lexer": "ipython3",
   "version": "3.10.0"
  }
 },
 "nbformat": 4,
 "nbformat_minor": 5
}
