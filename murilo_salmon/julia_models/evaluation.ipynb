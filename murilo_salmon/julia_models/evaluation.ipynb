{
 "cells": [
  {
   "cell_type": "code",
   "execution_count": 4,
   "id": "80b1302c",
   "metadata": {},
   "outputs": [
    {
     "name": "stdout",
     "output_type": "stream",
     "text": [
      "Current date and time: 2025-06-30 17:10:47.253490\n"
     ]
    }
   ],
   "source": [
    "import datetime\n",
    "\n",
    "now = datetime.datetime.now()\n",
    "print(\"Current date and time:\", now)\n"
   ]
  },
  {
   "cell_type": "code",
   "execution_count": 3,
   "id": "bbcde4a2",
   "metadata": {},
   "outputs": [
    {
     "name": "stdout",
     "output_type": "stream",
     "text": [
      "✅ Best Models per River (Rule 1: Stable R²)\n",
      "\n",
      "| Model                      | River_Name            |   R2_Test |    MSE_Test |   MAPE_Test |   R2_Train |   MSE_Train |   MAPE_Train | System         |   TopK_Features | Additional_Features_Used   | ARIMA_Enabled   | Feature_Names                                                                                                                                                                                                                                                                                                                                                                                                                                                                                                                              | Selection_Rule    |\n",
      "|----------------------------|-----------------------|-----------|-------------|-------------|------------|-------------|--------------|----------------|-----------------|----------------------------|-----------------|--------------------------------------------------------------------------------------------------------------------------------------------------------------------------------------------------------------------------------------------------------------------------------------------------------------------------------------------------------------------------------------------------------------------------------------------------------------------------------------------------------------------------------------------|-------------------|\n",
      "| LR - Linear Regression     | Alagnak               |   -0.141  | 1.48709e+12 |     28.6168 |    -0.2334 | 4.80544e+12 |      57.8585 | Bristol Bay    |              10 | True                       | False           | Total_Returns, AgeClass_1.1, AgeClass_1.2, Total_Returns_Yminus1, Total_Returns_Yminus2, Total_Returns_Yminus3, Total_Returns_NextYear_Yminus1, Total_Returns_NextYear_Yminus2, Total_Returns_NextYear_Yminus3, Total_Returns_NextYear_Yminus4                                                                                                                                                                                                                                                                                             | Rule 1: Stable R² |\n",
      "| LR - Linear Regression     | Egegik                |   -0.2078 | 2.89086e+13 |     53.8044 |     0.1955 | 6.19984e+12 |      27.4467 | Bristol Bay    |               6 | False                      | True            | Total_Returns, AgeClass_1.2, AgeClass_2.1, AgeClass_2.2, AgeClass_2.3, River_Igushik                                                                                                                                                                                                                                                                                                                                                                                                                                                       | Rule 1: Stable R² |\n",
      "| PR - Polynomial Regression | Igushik               |    0.2276 | 2.8489e+11  |     20.135  |     0.6705 | 9.20419e+10 |      43.7991 | Bristol Bay    |              10 | False                      | False           | Total_Returns, AgeClass_1.2, AgeClass_2.1, AgeClass_2.2, AgeClass_2.3, AgeClass_3.2, River_Egegik, River_Igushik, River_Kvichak, River_Nushagak                                                                                                                                                                                                                                                                                                                                                                                            | Rule 1: Stable R² |\n",
      "| PR - Polynomial Regression | Kvichak               |    0.3954 | 2.50826e+12 |     11.1068 |     0.8385 | 4.61187e+12 |      43.8423 | Bristol Bay    |              10 | False                      | True            | Total_Returns, AgeClass_1.2, AgeClass_2.1, AgeClass_2.2, AgeClass_2.3, AgeClass_3.2, River_Egegik, River_Igushik, River_Kvichak, River_Nushagak                                                                                                                                                                                                                                                                                                                                                                                            | Rule 1: Stable R² |\n",
      "| LR - Linear Regression     | Naknek                |    0.4983 | 2.33861e+12 |     23.4653 |     0.169  | 2.88876e+12 |      30.805  | Bristol Bay    |               6 | False                      | False           | Total_Returns, AgeClass_1.2, AgeClass_2.1, AgeClass_2.2, AgeClass_2.3, River_Igushik                                                                                                                                                                                                                                                                                                                                                                                                                                                       | Rule 1: Stable R² |\n",
      "| XGB - XGBoost              | Nushagak              |    0.3675 | 1.72272e+13 |     31.2661 |     0.8042 | 9.06354e+11 |      37.1105 | Bristol Bay    |               0 | False                      | False           | Total_Returns, AgeClass_0.1, AgeClass_0.2, AgeClass_0.3, AgeClass_0.4, AgeClass_0.5, AgeClass_1.1, AgeClass_1.2, AgeClass_1.3, AgeClass_1.4, AgeClass_1.5, AgeClass_2.1, AgeClass_2.2, AgeClass_2.3, AgeClass_2.4, AgeClass_3.1, AgeClass_3.2, AgeClass_3.3, AgeClass_3.4, npi_mean_NovMar, oni_mean_DecFeb, mei_mean_AprSep, npgo_mean_DecFeb, ao_mean_DecMar, pdo_mean_DecMar, pdo_mean_MaySep, sst_aprjul, sst_anom, River_Alagnak, River_Egegik, River_Igushik, River_Kvichak, River_Naknek, River_Nushagak, River_Ugashik, River_Wood | Rule 1: Stable R² |\n",
      "| LR - Linear Regression     | Ugashik               |    0.4867 | 2.72359e+12 |     23.5336 |     0.0394 | 2.75791e+12 |      44.8783 | Bristol Bay    |              10 | True                       | True            | Total_Returns, AgeClass_1.1, AgeClass_1.2, Total_Returns_Yminus1, Total_Returns_Yminus2, Total_Returns_Yminus3, Total_Returns_NextYear_Yminus1, Total_Returns_NextYear_Yminus2, Total_Returns_NextYear_Yminus3, Total_Returns_NextYear_Yminus4                                                                                                                                                                                                                                                                                             | Rule 1: Stable R² |\n",
      "| XGB - XGBoost              | Wood                  |    0.7366 | 8.21346e+11 |      7.4742 |     0.8601 | 2.78841e+12 |      20.4333 | Bristol Bay    |               6 | True                       | True            | Total_Returns, AgeClass_1.2, Total_Returns_Yminus1, Total_Returns_NextYear_Yminus1, Total_Returns_NextYear_Yminus2, Total_Returns_NextYear_Yminus4                                                                                                                                                                                                                                                                                                                                                                                         | Rule 1: Stable R² |\n",
      "| LR - Linear Regression     | Bonneville Lock & Dam |    0.6748 | 1.90101e+10 |     51.7378 |     0.8981 | 2.86719e+09 |      88.7421 | Columbia River |               6 | True                       | True            | AgeClass_1.1, Total_Returns_Yminus1, Total_Returns_Yminus3, AgeClass_1.2_Yminus3, Total_Returns_NextYear_Yminus2, Total_Returns_NextYear_Yminus4                                                                                                                                                                                                                                                                                                                                                                                           | Rule 1: Stable R² |\n",
      "| LR - Linear Regression     | Chilko                |    0.1283 | 5.37973e+11 |     88.6312 |     0.0019 | 1.32205e+12 |      79.9433 | Fraser River   |              10 | True                       | True            | AgeClass_0.2, AgeClass_1.1, Total_Returns_Yminus3, AgeClass_0.2_Yminus4, AgeClass_0.3_Yminus3, AgeClass_1.1_Yminus4, AgeClass_1.2_Yminus3, AgeClass_1.3_Yminus2, AgeClass_2.2_Yminus2, Total_Returns_NextYear_Yminus4                                                                                                                                                                                                                                                                                                                      | Rule 1: Stable R² |\n",
      "| LR - Linear Regression     | Late Stuart           |    0.4647 | 1.05628e+10 |     82.5399 |     0.6802 | 2.97674e+11 |      98.8923 | Fraser River   |               6 | True                       | False           | AgeClass_0.2, AgeClass_1.1, Total_Returns_Yminus3, AgeClass_1.1_Yminus4, AgeClass_1.2_Yminus3, Total_Returns_NextYear_Yminus4                                                                                                                                                                                                                                                                                                                                                                                                              | Rule 1: Stable R² |\n",
      "| XGB - XGBoost              | Quesnel               |    0.7138 | 1.85985e+11 |    325.251  |     0.9901 | 6.73684e+10 |    1300.96   | Fraser River   |               6 | False                      | False           | Total_Returns, AgeClass_0.2, AgeClass_1.1, River_Chilko, River_Quesnel, River_Raft                                                                                                                                                                                                                                                                                                                                                                                                                                                         | Rule 1: Stable R² |\n",
      "| LR - Linear Regression     | Stellako              |    0.2887 | 9.76752e+10 |     72.4069 |    -0.0431 | 1.0875e+11  |      56.824  | Fraser River   |               6 | True                       | False           | AgeClass_0.2, AgeClass_1.1, Total_Returns_Yminus3, AgeClass_1.1_Yminus4, AgeClass_1.2_Yminus3, Total_Returns_NextYear_Yminus4                                                                                                                                                                                                                                                                                                                                                                                                              | Rule 1: Stable R² |\n",
      "\n",
      "✅ Best Models per River (Rule 2: Fallback by MAPE)\n",
      "\n",
      "| Model                  | River_Name   |   R2_Test |    MSE_Test |   MAPE_Test |   R2_Train |   MSE_Train |   MAPE_Train | System       |   TopK_Features | Additional_Features_Used   | ARIMA_Enabled   | Feature_Names                                                                                                                 | Selection_Rule           |\n",
      "|------------------------|--------------|-----------|-------------|-------------|------------|-------------|--------------|--------------|-----------------|----------------------------|-----------------|-------------------------------------------------------------------------------------------------------------------------------|--------------------------|\n",
      "| LR - Linear Regression | Raft         |   -0.8874 | 3.08381e+08 |      191.61 |   -10.5664 | 8.84597e+09 |       118.34 | Fraser River |               6 | True                       | False           | AgeClass_0.2, AgeClass_1.1, Total_Returns_Yminus3, AgeClass_1.1_Yminus4, AgeClass_1.2_Yminus3, Total_Returns_NextYear_Yminus4 | Rule 2: Fallback by MAPE |\n",
      "\n",
      "✅ Best models saved to:\n",
      "C:\\Users\\MuriloFarias\\Desktop\\NNS-JULIA\\PredictSalmonRuns\\murilo_salmon\\julia_models\\best_models_per_river.csv\n"
     ]
    },
    {
     "name": "stderr",
     "output_type": "stream",
     "text": [
      "C:\\Users\\MuriloFarias\\AppData\\Local\\Temp\\ipykernel_24940\\1688200386.py:56: FutureWarning: DataFrame.applymap has been deprecated. Use DataFrame.map instead.\n",
      "  best_models_formatted[float_cols] = best_models_formatted[float_cols].applymap(lambda x: round(x, 4))\n"
     ]
    }
   ],
   "source": [
    "import pandas as pd\n",
    "from tabulate import tabulate\n",
    "\n",
    "# Load the results CSV\n",
    "csv_path = r\"C:\\Users\\MuriloFarias\\Desktop\\NNS-JULIA\\PredictSalmonRuns\\murilo_salmon\\julia_models\\results.csv\"\n",
    "df = pd.read_csv(csv_path)\n",
    "\n",
    "# Map short model names to full names\n",
    "model_name_map = {\n",
    "    \"RF\": \"RF - Random Forest\",\n",
    "    \"GBRT\": \"GBRT - Gradient Boosting\",\n",
    "    \"XGB\": \"XGB - XGBoost\",\n",
    "    \"LR\": \"LR - Linear Regression\",\n",
    "    \"PR\": \"PR - Polynomial Regression\"\n",
    "}\n",
    "df[\"Model\"] = df[\"Model\"].map(model_name_map)\n",
    "\n",
    "# Rule 1: Filter models with small R² difference\n",
    "threshold = 0.5\n",
    "df_filtered = df[abs(df[\"R2_Test\"] - df[\"R2_Train\"]) <= threshold].copy()\n",
    "\n",
    "best_models_rule1 = []\n",
    "best_models_rule2 = []\n",
    "\n",
    "for river in df[\"River_Name\"].unique():\n",
    "    df_river_filtered = df_filtered[df_filtered[\"River_Name\"] == river]\n",
    "\n",
    "    if not df_river_filtered.empty:\n",
    "        best_model = df_river_filtered.loc[df_river_filtered[\"MAPE_Test\"].idxmin()].copy()\n",
    "        best_model[\"Selection_Rule\"] = \"Rule 1: Stable R²\"\n",
    "        best_models_rule1.append(best_model)\n",
    "    else:\n",
    "        df_river_full = df[df[\"River_Name\"] == river]\n",
    "        best_model = df_river_full.loc[df_river_full[\"MAPE_Test\"].idxmin()].copy()\n",
    "        best_model[\"Selection_Rule\"] = \"Rule 2: Fallback by MAPE\"\n",
    "        best_models_rule2.append(best_model)\n",
    "\n",
    "# Combine both rule groups\n",
    "all_best_models = pd.DataFrame(best_models_rule1 + best_models_rule2)\n",
    "\n",
    "# Sort for clarity\n",
    "all_best_models = all_best_models.sort_values(by=[\"Selection_Rule\", \"System\"])\n",
    "\n",
    "# Columns to display\n",
    "columns_to_show = [\n",
    "    \"Model\", \"River_Name\", \"R2_Test\", \"MSE_Test\", \"MAPE_Test\",\n",
    "    \"R2_Train\", \"MSE_Train\", \"MAPE_Train\",\n",
    "    \"System\", \"TopK_Features\", \"Additional_Features_Used\", \"ARIMA_Enabled\",\n",
    "    \"Feature_Names\", \"Selection_Rule\"\n",
    "]\n",
    "\n",
    "best_models_formatted = all_best_models[columns_to_show].copy()\n",
    "\n",
    "# Round numeric values\n",
    "float_cols = [\"R2_Test\", \"MSE_Test\", \"MAPE_Test\", \"R2_Train\", \"MSE_Train\", \"MAPE_Train\"]\n",
    "best_models_formatted[float_cols] = best_models_formatted[float_cols].applymap(lambda x: round(x, 4))\n",
    "\n",
    "# Separate by rule and print\n",
    "df_rule1 = best_models_formatted[best_models_formatted[\"Selection_Rule\"] == \"Rule 1: Stable R²\"]\n",
    "df_rule2 = best_models_formatted[best_models_formatted[\"Selection_Rule\"] == \"Rule 2: Fallback by MAPE\"]\n",
    "\n",
    "print(\"✅ Best Models per River (Rule 1: Stable R²)\\n\")\n",
    "print(tabulate(df_rule1, headers=\"keys\", tablefmt=\"github\", showindex=False))\n",
    "\n",
    "print(\"\\n✅ Best Models per River (Rule 2: Fallback by MAPE)\\n\")\n",
    "print(tabulate(df_rule2, headers=\"keys\", tablefmt=\"github\", showindex=False))\n",
    "\n",
    "# Save best models to CSV\n",
    "output_path = r\"C:\\Users\\MuriloFarias\\Desktop\\NNS-JULIA\\PredictSalmonRuns\\murilo_salmon\\julia_models\\best_models_per_river.csv\"\n",
    "best_models_formatted.to_csv(output_path, index=False)\n",
    "print(f\"\\n✅ Best models saved to:\\n{output_path}\")\n",
    "\n"
   ]
  }
 ],
 "metadata": {
  "kernelspec": {
   "display_name": "Python 3",
   "language": "python",
   "name": "python3"
  },
  "language_info": {
   "codemirror_mode": {
    "name": "ipython",
    "version": 3
   },
   "file_extension": ".py",
   "mimetype": "text/x-python",
   "name": "python",
   "nbconvert_exporter": "python",
   "pygments_lexer": "ipython3",
   "version": "3.10.0"
  }
 },
 "nbformat": 4,
 "nbformat_minor": 5
}
