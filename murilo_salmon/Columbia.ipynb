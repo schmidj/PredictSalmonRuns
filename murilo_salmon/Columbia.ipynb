{
 "cells": [
  {
   "cell_type": "code",
   "execution_count": 48,
   "id": "b0e6f359",
   "metadata": {},
   "outputs": [],
   "source": [
    "import pandas as pd\n",
    "\n",
    "# Read files from the same folder where your notebook is located\n",
    "Columbia_Brood_Table = pd.read_csv('Cleaned_1Columbia_Brood.csv')\n",
    "Columbia_Return_Table = pd.read_csv('Cleaned_2Columbia_Return.csv')\n"
   ]
  },
  {
   "cell_type": "code",
   "execution_count": 51,
   "id": "22bc3f93",
   "metadata": {},
   "outputs": [],
   "source": [
    "import pandas as pd\n",
    "\n",
    "# Step 1: Load your CSV files\n",
    "Columbia_Brood_Table = pd.read_csv('Cleaned_1Columbia_Brood.csv')  # contains BroodYear, Total_Recruits\n",
    "Columbia_Return_Table = pd.read_csv('Cleaned_2Columbia_Return.csv')  # contains ReturnYear, TotalAge, ReturnCount\n",
    "\n",
    "# Step 2: Calculate BroodYear for each return record\n",
    "Columbia_Return_Table['BroodYear'] = Columbia_Return_Table['ReturnYear'] - Columbia_Return_Table['TotalAge']\n",
    "\n",
    "# Step 3: Group return counts by BroodYear\n",
    "returns_by_brood = Columbia_Return_Table.groupby('BroodYear', as_index=False)['ReturnCount'].sum()\n",
    "returns_by_brood.rename(columns={'ReturnCount': 'Total_Returned'}, inplace=True)\n",
    "\n",
    "# Step 4: Merge with brood table to bring in Total_Recruits\n",
    "comparison_df = pd.merge(\n",
    "    Columbia_Brood_Table,              # has one row per BroodYear\n",
    "    returns_by_brood,                  # summed Total_Returned per BroodYear\n",
    "    on='BroodYear',\n",
    "    how='left'\n",
    ")\n",
    "\n",
    "# Step 5: Fill missing values with 0 (in case some BroodYears had no returns)\n",
    "comparison_df['Total_Returned'] = comparison_df['Total_Returned'].fillna(0)\n",
    "\n",
    "# Step 6: Optionally calculate survival rate\n",
    "comparison_df['SurvivalRate'] = comparison_df['Total_Returned'] / comparison_df['Total_Recruits']\n"
   ]
  },
  {
   "cell_type": "code",
   "execution_count": 53,
   "id": "2d57a782",
   "metadata": {},
   "outputs": [
    {
     "data": {
      "text/html": [
       "<div>\n",
       "<style scoped>\n",
       "    .dataframe tbody tr th:only-of-type {\n",
       "        vertical-align: middle;\n",
       "    }\n",
       "\n",
       "    .dataframe tbody tr th {\n",
       "        vertical-align: top;\n",
       "    }\n",
       "\n",
       "    .dataframe thead th {\n",
       "        text-align: right;\n",
       "    }\n",
       "</style>\n",
       "<table border=\"1\" class=\"dataframe\">\n",
       "  <thead>\n",
       "    <tr style=\"text-align: right;\">\n",
       "      <th></th>\n",
       "      <th>BroodYear</th>\n",
       "      <th>Total_Recruits</th>\n",
       "      <th>Total_Returned</th>\n",
       "      <th>SurvivalRate</th>\n",
       "    </tr>\n",
       "  </thead>\n",
       "  <tbody>\n",
       "    <tr>\n",
       "      <th>0</th>\n",
       "      <td>1983</td>\n",
       "      <td>121493.0</td>\n",
       "      <td>39315</td>\n",
       "      <td>0.323599</td>\n",
       "    </tr>\n",
       "    <tr>\n",
       "      <th>1</th>\n",
       "      <td>1984</td>\n",
       "      <td>90540.0</td>\n",
       "      <td>121493</td>\n",
       "      <td>1.341871</td>\n",
       "    </tr>\n",
       "    <tr>\n",
       "      <th>2</th>\n",
       "      <td>1985</td>\n",
       "      <td>47821.0</td>\n",
       "      <td>90540</td>\n",
       "      <td>1.893310</td>\n",
       "    </tr>\n",
       "    <tr>\n",
       "      <th>3</th>\n",
       "      <td>1986</td>\n",
       "      <td>43800.0</td>\n",
       "      <td>47821</td>\n",
       "      <td>1.091804</td>\n",
       "    </tr>\n",
       "    <tr>\n",
       "      <th>4</th>\n",
       "      <td>1987</td>\n",
       "      <td>87441.0</td>\n",
       "      <td>43800</td>\n",
       "      <td>0.500909</td>\n",
       "    </tr>\n",
       "  </tbody>\n",
       "</table>\n",
       "</div>"
      ],
      "text/plain": [
       "   BroodYear  Total_Recruits  Total_Returned  SurvivalRate\n",
       "0       1983        121493.0           39315      0.323599\n",
       "1       1984         90540.0          121493      1.341871\n",
       "2       1985         47821.0           90540      1.893310\n",
       "3       1986         43800.0           47821      1.091804\n",
       "4       1987         87441.0           43800      0.500909"
      ]
     },
     "execution_count": 53,
     "metadata": {},
     "output_type": "execute_result"
    }
   ],
   "source": [
    "comparison_df.head(5)"
   ]
  },
  {
   "cell_type": "code",
   "execution_count": 54,
   "id": "7cf0ce0b",
   "metadata": {},
   "outputs": [
    {
     "name": "stdout",
     "output_type": "stream",
     "text": [
      "Total_Recruits: 4664448.0\n",
      "Total_Returned: 4676822\n"
     ]
    }
   ],
   "source": [
    "Total_Recruits = comparison_df['Total_Recruits'].sum()\n",
    "Total_Returned = comparison_df['Total_Returned'].sum()\n",
    "\n",
    "print(\"Total_Recruits:\", Total_Recruits)\n",
    "print(\"Total_Returned:\", Total_Returned)"
   ]
  }
 ],
 "metadata": {
  "kernelspec": {
   "display_name": "Python 3",
   "language": "python",
   "name": "python3"
  },
  "language_info": {
   "codemirror_mode": {
    "name": "ipython",
    "version": 3
   },
   "file_extension": ".py",
   "mimetype": "text/x-python",
   "name": "python",
   "nbconvert_exporter": "python",
   "pygments_lexer": "ipython3",
   "version": "3.10.0"
  }
 },
 "nbformat": 4,
 "nbformat_minor": 5
}
