{
 "cells": [
  {
   "cell_type": "code",
   "execution_count": 1,
   "id": "d22f6ade",
   "metadata": {},
   "outputs": [],
   "source": [
    "import pandas as pd\n",
    "import os\n",
    "\n",
    "data_set_columbia = pd.read_csv(r'C:\\Users\\MuriloFarias\\Desktop\\NNS-JULIA\\PredictSalmonRuns\\data\\ColumbiaRiver_FeatureSet_For_Model.csv')"
   ]
  },
  {
   "cell_type": "code",
   "execution_count": 2,
   "id": "39e420b1",
   "metadata": {},
   "outputs": [
    {
     "data": {
      "text/plain": [
       "(39, 40)"
      ]
     },
     "execution_count": 2,
     "metadata": {},
     "output_type": "execute_result"
    }
   ],
   "source": [
    "data_set_columbia.shape"
   ]
  },
  {
   "cell_type": "markdown",
   "id": "6fdabdf2",
   "metadata": {},
   "source": [
    "checking missing values"
   ]
  },
  {
   "cell_type": "code",
   "execution_count": 3,
   "id": "c54df68d",
   "metadata": {},
   "outputs": [
    {
     "name": "stdout",
     "output_type": "stream",
     "text": [
      "Columns with missing values:\n",
      "                               Missing Values  Percentage (%)\n",
      "total_spawners_y_minus_2                    2            5.13\n",
      "total_spawners_y_minus_3                    3            7.69\n",
      "total_spawners_y_minus_4                    4           10.26\n",
      "total_spawners_y_minus_2_to_4               4           10.26\n",
      "mean_temp_JunAug                           39          100.00\n",
      "mean_temp_MaySep                           39          100.00\n",
      "max_temp_JunAug                            39          100.00\n",
      "mean_discharge_MarMay                      39          100.00\n",
      "max_discharge_AprSep                       39          100.00\n"
     ]
    }
   ],
   "source": [
    "missing_values = data_set_columbia.isnull().sum()\n",
    "missing_values = missing_values[missing_values > 0]\n",
    "\n",
    "# Calculate the percentage of missing values\n",
    "missing_percentage = (missing_values / len(data_set_columbia)) * 100\n",
    "\n",
    "# Combine into a DataFrame for better formatting\n",
    "missing_summary = pd.DataFrame({\n",
    "    'Missing Values': missing_values,\n",
    "    'Percentage (%)': missing_percentage.round(2)\n",
    "})\n",
    "\n",
    "print(\"Columns with missing values:\")\n",
    "print(missing_summary)\n"
   ]
  },
  {
   "cell_type": "code",
   "execution_count": 4,
   "id": "c93babec",
   "metadata": {},
   "outputs": [
    {
     "data": {
      "text/plain": [
       "(39, 40)"
      ]
     },
     "execution_count": 4,
     "metadata": {},
     "output_type": "execute_result"
    }
   ],
   "source": [
    "data_set_columbia.shape"
   ]
  },
  {
   "cell_type": "code",
   "execution_count": 5,
   "id": "e173f750",
   "metadata": {},
   "outputs": [],
   "source": [
    "# Drop columns where 100% of the values are missing\n",
    "data_set_columbia = data_set_columbia.dropna(axis=1, how='all')\n"
   ]
  },
  {
   "cell_type": "code",
   "execution_count": 6,
   "id": "6edcdc2f",
   "metadata": {},
   "outputs": [
    {
     "data": {
      "text/plain": [
       "(39, 35)"
      ]
     },
     "execution_count": 6,
     "metadata": {},
     "output_type": "execute_result"
    }
   ],
   "source": [
    "data_set_columbia.shape"
   ]
  },
  {
   "cell_type": "code",
   "execution_count": 7,
   "id": "5c5fe03e",
   "metadata": {},
   "outputs": [
    {
     "name": "stdout",
     "output_type": "stream",
     "text": [
      "Columns with missing values:\n",
      "                               Missing Values  Percentage (%)\n",
      "total_spawners_y_minus_2                    2            5.13\n",
      "total_spawners_y_minus_3                    3            7.69\n",
      "total_spawners_y_minus_4                    4           10.26\n",
      "total_spawners_y_minus_2_to_4               4           10.26\n"
     ]
    }
   ],
   "source": [
    "missing_values = data_set_columbia.isnull().sum()\n",
    "missing_values = missing_values[missing_values > 0]\n",
    "\n",
    "# Calculate the percentage of missing values\n",
    "missing_percentage = (missing_values / len(data_set_columbia)) * 100\n",
    "\n",
    "# Combine into a DataFrame for better formatting\n",
    "missing_summary = pd.DataFrame({\n",
    "    'Missing Values': missing_values,\n",
    "    'Percentage (%)': missing_percentage.round(2)\n",
    "})\n",
    "\n",
    "print(\"Columns with missing values:\")\n",
    "print(missing_summary)\n"
   ]
  },
  {
   "cell_type": "markdown",
   "id": "4789b0d3",
   "metadata": {},
   "source": [
    "check the year"
   ]
  },
  {
   "cell_type": "code",
   "execution_count": 8,
   "id": "96a06227",
   "metadata": {},
   "outputs": [
    {
     "name": "stdout",
     "output_type": "stream",
     "text": [
      "Years with partial missing values:\n",
      "[1985 1986 1987 1988]\n"
     ]
    }
   ],
   "source": [
    "# Step 1: Filter columns with missing values between 0% and 100%\n",
    "partial_missing_cols = missing_summary[\n",
    "    (missing_summary['Percentage (%)'] > 0) & \n",
    "    (missing_summary['Percentage (%)'] < 100)\n",
    "].index.tolist()\n",
    "partial_missing_cols\n",
    "# Step 2: Check rows where any of these columns have missing values\n",
    "rows_with_partial_missing = data_set_columbia[data_set_columbia[partial_missing_cols].isnull().any(axis=1)]\n",
    "\n",
    "# Step 3: Show only the Year column (or any identifier)\n",
    "print(\"Years with partial missing values:\")\n",
    "print(rows_with_partial_missing['Year'].unique())"
   ]
  },
  {
   "cell_type": "code",
   "execution_count": 9,
   "id": "e8c560e2",
   "metadata": {},
   "outputs": [
    {
     "data": {
      "text/plain": [
       "(39, 35)"
      ]
     },
     "execution_count": 9,
     "metadata": {},
     "output_type": "execute_result"
    }
   ],
   "source": [
    "data_set_columbia.shape"
   ]
  },
  {
   "cell_type": "code",
   "execution_count": 10,
   "id": "68ef3502",
   "metadata": {},
   "outputs": [],
   "source": [
    "data_set_columbia = data_set_columbia.dropna()\n"
   ]
  },
  {
   "cell_type": "code",
   "execution_count": 11,
   "id": "4592eb24",
   "metadata": {},
   "outputs": [
    {
     "data": {
      "text/plain": [
       "(35, 35)"
      ]
     },
     "execution_count": 11,
     "metadata": {},
     "output_type": "execute_result"
    }
   ],
   "source": [
    "data_set_columbia.shape"
   ]
  },
  {
   "cell_type": "code",
   "execution_count": 12,
   "id": "f3449391",
   "metadata": {},
   "outputs": [
    {
     "name": "stdout",
     "output_type": "stream",
     "text": [
      "Columns with missing values:\n",
      "Empty DataFrame\n",
      "Columns: [Missing Values, Percentage (%)]\n",
      "Index: []\n"
     ]
    }
   ],
   "source": [
    "missing_values = data_set_columbia.isnull().sum()\n",
    "missing_values = missing_values[missing_values > 0]\n",
    "\n",
    "# Calculate the percentage of missing values\n",
    "missing_percentage = (missing_values / len(data_set_columbia)) * 100\n",
    "\n",
    "# Combine into a DataFrame for better formatting\n",
    "missing_summary = pd.DataFrame({\n",
    "    'Missing Values': missing_values,\n",
    "    'Percentage (%)': missing_percentage.round(2)\n",
    "})\n",
    "\n",
    "print(\"Columns with missing values:\")\n",
    "print(missing_summary)\n"
   ]
  },
  {
   "cell_type": "code",
   "execution_count": 13,
   "id": "2d1c8e13",
   "metadata": {},
   "outputs": [
    {
     "data": {
      "text/plain": [
       "array(['Bonneville Lock & Dam'], dtype=object)"
      ]
     },
     "execution_count": 13,
     "metadata": {},
     "output_type": "execute_result"
    }
   ],
   "source": [
    "data_set_columbia['River'].unique()"
   ]
  },
  {
   "cell_type": "markdown",
   "id": "8c26d89b",
   "metadata": {},
   "source": [
    "checking sum = 0 "
   ]
  },
  {
   "cell_type": "code",
   "execution_count": 14,
   "id": "edbec90b",
   "metadata": {},
   "outputs": [
    {
     "name": "stdout",
     "output_type": "stream",
     "text": [
      "Numerical columns with a sum of 0:\n",
      "['AgeClass_0.1', 'AgeClass_0.2', 'AgeClass_0.3', 'AgeClass_0.4', 'AgeClass_0.5', 'AgeClass_1.4', 'AgeClass_1.5', 'AgeClass_2.4', 'AgeClass_3.4']\n"
     ]
    }
   ],
   "source": [
    "# Select only numerical columns\n",
    "numeric_cols = data_set_columbia.select_dtypes(include='number')\n",
    "\n",
    "# Find columns where the sum is exactly 0\n",
    "zero_sum_cols = numeric_cols.columns[numeric_cols.sum() == 0].tolist()\n",
    "\n",
    "print(\"Numerical columns with a sum of 0:\")\n",
    "print(zero_sum_cols)\n"
   ]
  },
  {
   "cell_type": "code",
   "execution_count": 15,
   "id": "2bcd9a10",
   "metadata": {},
   "outputs": [],
   "source": [
    "# Drop columns where the sum is 0\n",
    "data_set_columbia = data_set_columbia.drop(columns=zero_sum_cols)\n"
   ]
  },
  {
   "cell_type": "code",
   "execution_count": 16,
   "id": "189ae225",
   "metadata": {},
   "outputs": [
    {
     "name": "stdout",
     "output_type": "stream",
     "text": [
      "Numerical columns with a sum of 0:\n",
      "[]\n"
     ]
    }
   ],
   "source": [
    "# Select only numerical columns\n",
    "numeric_cols = data_set_columbia.select_dtypes(include='number')\n",
    "\n",
    "# Find columns where the sum is exactly 0\n",
    "zero_sum_cols = numeric_cols.columns[numeric_cols.sum() == 0].tolist()\n",
    "\n",
    "print(\"Numerical columns with a sum of 0:\")\n",
    "print(zero_sum_cols)\n"
   ]
  },
  {
   "cell_type": "code",
   "execution_count": 17,
   "id": "eeb23073",
   "metadata": {},
   "outputs": [
    {
     "data": {
      "text/plain": [
       "(35, 26)"
      ]
     },
     "execution_count": 17,
     "metadata": {},
     "output_type": "execute_result"
    }
   ],
   "source": [
    "# Show all rows and columns\n",
    "pd.set_option('display.max_rows', None)\n",
    "pd.set_option('display.max_columns', None)\n",
    "data_set_columbia.shape"
   ]
  },
  {
   "cell_type": "code",
   "execution_count": 18,
   "id": "0df776fe",
   "metadata": {},
   "outputs": [],
   "source": [
    "save_path = r\"C:\\Users\\MuriloFarias\\Desktop\\NNS-JULIA\\PredictSalmonRuns\\murilo_salmon\\Columbia\\FIRST_APPROACH\\data_set_columbia_encoded.csv\""
   ]
  },
  {
   "cell_type": "code",
   "execution_count": 19,
   "id": "99314aab",
   "metadata": {},
   "outputs": [
    {
     "name": "stdout",
     "output_type": "stream",
     "text": [
      " File saved to: C:\\Users\\MuriloFarias\\Desktop\\NNS-JULIA\\PredictSalmonRuns\\murilo_salmon\\Columbia\\FIRST_APPROACH\\data_set_columbia_encoded.csv\n"
     ]
    }
   ],
   "source": [
    "# Save the cleaned DataFrame\n",
    "data_set_columbia.to_csv(save_path, index=False)\n",
    "print(f\" File saved to: {save_path}\")"
   ]
  },
  {
   "cell_type": "markdown",
   "id": "72fd4567",
   "metadata": {},
   "source": [
    "splitting the dataset"
   ]
  },
  {
   "cell_type": "code",
   "execution_count": 20,
   "id": "5cfdcc4c",
   "metadata": {},
   "outputs": [],
   "source": [
    "import pandas as pd\n",
    "import os\n",
    "import sys\n",
    "\n",
    "# Add the path to your custom module\n",
    "sys.path.append(r\"C:\\Users\\MuriloFarias\\Desktop\\NNS-JULIA\\PredictSalmonRuns\\src\")"
   ]
  },
  {
   "cell_type": "code",
   "execution_count": 21,
   "id": "82464a2f",
   "metadata": {},
   "outputs": [],
   "source": [
    "#Import the custom function\n",
    "from data_split import split_time_series_by_river"
   ]
  },
  {
   "cell_type": "code",
   "execution_count": 22,
   "id": "5d96e5e7",
   "metadata": {},
   "outputs": [],
   "source": [
    "#Load full dataset\n",
    "file_path = r\"C:\\Users\\MuriloFarias\\Desktop\\NNS-JULIA\\PredictSalmonRuns\\murilo_salmon\\Columbia\\FIRST_APPROACH\\data_set_columbia_encoded.csv\"\n",
    "df = pd.read_csv(file_path)"
   ]
  },
  {
   "cell_type": "code",
   "execution_count": 23,
   "id": "309004f0",
   "metadata": {},
   "outputs": [],
   "source": [
    "\n",
    "\n",
    "\n",
    "# Call custom group-aware split function\n",
    "data_train_encoded, data_test_encoded = split_time_series_by_river(\n",
    "    df,\n",
    "    time_column=\"Year\",\n",
    "    group_columns=[\"River\"],  # Adjust if needed\n",
    "    test_fraction=0.2,\n",
    "    gap_years=0\n",
    ")"
   ]
  },
  {
   "cell_type": "code",
   "execution_count": 24,
   "id": "7740f989",
   "metadata": {},
   "outputs": [],
   "source": [
    "data_train_encoded = data_train_encoded.drop(columns=[\"River\"])\n",
    "data_test_encoded = data_test_encoded.drop(columns=[\"River\"])\n"
   ]
  },
  {
   "cell_type": "code",
   "execution_count": 25,
   "id": "47f8544e",
   "metadata": {},
   "outputs": [
    {
     "name": "stdout",
     "output_type": "stream",
     "text": [
      " Train set saved to: C:\\Users\\MuriloFarias\\Desktop\\NNS-JULIA\\PredictSalmonRuns\\murilo_salmon\\Columbia\\FIRST_APPROACH\\data_train_encoded.csv\n",
      " Test set saved to: C:\\Users\\MuriloFarias\\Desktop\\NNS-JULIA\\PredictSalmonRuns\\murilo_salmon\\Columbia\\FIRST_APPROACH\\data_test_encoded.csv\n"
     ]
    }
   ],
   "source": [
    "\n",
    "#Save split files\n",
    "save_dir = r\"C:\\Users\\MuriloFarias\\Desktop\\NNS-JULIA\\PredictSalmonRuns\\murilo_salmon\\Columbia\\FIRST_APPROACH\"\n",
    "os.makedirs(save_dir, exist_ok=True)\n",
    "\n",
    "train_path = os.path.join(save_dir, \"data_train_encoded.csv\")\n",
    "test_path = os.path.join(save_dir, \"data_test_encoded.csv\")\n",
    "\n",
    "data_train_encoded.to_csv(train_path, index=False)\n",
    "data_test_encoded.to_csv(test_path, index=False)\n",
    "\n",
    "print(f\" Train set saved to: {train_path}\")\n",
    "print(f\" Test set saved to: {test_path}\")\n"
   ]
  },
  {
   "cell_type": "code",
   "execution_count": 27,
   "id": "56fb7b13",
   "metadata": {},
   "outputs": [
    {
     "data": {
      "text/plain": [
       "Year                               int64\n",
       "Total_Returns                    float64\n",
       "AgeClass_1.1                     float64\n",
       "AgeClass_1.3                     float64\n",
       "AgeClass_2.1                     float64\n",
       "AgeClass_2.2                     float64\n",
       "AgeClass_2.3                     float64\n",
       "AgeClass_3.1                     float64\n",
       "AgeClass_3.2                     float64\n",
       "Total_Returns_NextYear           float64\n",
       "Pacea_ALPI_Anomaly               float64\n",
       "npi_mean_NovMar                  float64\n",
       "oni_mean_DecFeb                  float64\n",
       "mei_mean_AprSep                  float64\n",
       "npgo_mean_DecFeb                 float64\n",
       "ao_mean_DecMar                   float64\n",
       "pdo_mean_DecMar                  float64\n",
       "pdo_mean_MaySep                  float64\n",
       "sst_aprjul                       float64\n",
       "sst_anom                         float64\n",
       "sss_mayaug                       float64\n",
       "total_spawners_y_minus_2         float64\n",
       "total_spawners_y_minus_3         float64\n",
       "total_spawners_y_minus_4         float64\n",
       "total_spawners_y_minus_2_to_4    float64\n",
       "dtype: object"
      ]
     },
     "execution_count": 27,
     "metadata": {},
     "output_type": "execute_result"
    }
   ],
   "source": [
    "data_test_encoded.dtypes"
   ]
  },
  {
   "cell_type": "code",
   "execution_count": 26,
   "id": "d4861fa0",
   "metadata": {},
   "outputs": [
    {
     "data": {
      "text/plain": [
       "Year                               int64\n",
       "Total_Returns                    float64\n",
       "AgeClass_1.1                     float64\n",
       "AgeClass_1.3                     float64\n",
       "AgeClass_2.1                     float64\n",
       "AgeClass_2.2                     float64\n",
       "AgeClass_2.3                     float64\n",
       "AgeClass_3.1                     float64\n",
       "AgeClass_3.2                     float64\n",
       "Total_Returns_NextYear           float64\n",
       "Pacea_ALPI_Anomaly               float64\n",
       "npi_mean_NovMar                  float64\n",
       "oni_mean_DecFeb                  float64\n",
       "mei_mean_AprSep                  float64\n",
       "npgo_mean_DecFeb                 float64\n",
       "ao_mean_DecMar                   float64\n",
       "pdo_mean_DecMar                  float64\n",
       "pdo_mean_MaySep                  float64\n",
       "sst_aprjul                       float64\n",
       "sst_anom                         float64\n",
       "sss_mayaug                       float64\n",
       "total_spawners_y_minus_2         float64\n",
       "total_spawners_y_minus_3         float64\n",
       "total_spawners_y_minus_4         float64\n",
       "total_spawners_y_minus_2_to_4    float64\n",
       "dtype: object"
      ]
     },
     "execution_count": 26,
     "metadata": {},
     "output_type": "execute_result"
    }
   ],
   "source": [
    "data_train_encoded.dtypes\n"
   ]
  }
 ],
 "metadata": {
  "kernelspec": {
   "display_name": "Python 3",
   "language": "python",
   "name": "python3"
  },
  "language_info": {
   "codemirror_mode": {
    "name": "ipython",
    "version": 3
   },
   "file_extension": ".py",
   "mimetype": "text/x-python",
   "name": "python",
   "nbconvert_exporter": "python",
   "pygments_lexer": "ipython3",
   "version": "3.10.0"
  }
 },
 "nbformat": 4,
 "nbformat_minor": 5
}
